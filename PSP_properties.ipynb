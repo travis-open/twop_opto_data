{
 "cells": [
  {
   "cell_type": "code",
   "execution_count": 1,
   "metadata": {},
   "outputs": [],
   "source": [
    "import pandas as pd\n",
    "import numpy as np\n",
    "from matplotlib import pyplot as plt\n",
    "import math\n",
    "import statsmodels.api as sm\n",
    "import matplotlib.style\n",
    "import matplotlib as mpl\n",
    "import seaborn as sns\n",
    "from scipy import stats, ndimage, misc\n",
    "import csv\n",
    "from matplotlib.ticker import FormatStrFormatter\n",
    "import opto_util as opto\n",
    "mpl.style.use('classic')\n",
    "%matplotlib inline"
   ]
  },
  {
   "cell_type": "code",
   "execution_count": 2,
   "metadata": {},
   "outputs": [],
   "source": [
    "plt.rcParams.update({\n",
    "    'font.sans-serif': 'arial',\n",
    "    'font.family': 'sans-serif'\n",
    "})"
   ]
  },
  {
   "cell_type": "code",
   "execution_count": 3,
   "metadata": {},
   "outputs": [
    {
     "name": "stderr",
     "output_type": "stream",
     "text": [
      "/Users/travish/opt/miniconda3/lib/python3.9/site-packages/IPython/core/interactiveshell.py:3441: DtypeWarning: Columns (57) have mixed types.Specify dtype option on import or set low_memory=False.\n",
      "  exec(code_obj, self.user_global_ns, self.user_ns)\n"
     ]
    }
   ],
   "source": [
    "full_df=pd.read_csv('data/full_df.csv')"
   ]
  },
  {
   "cell_type": "code",
   "execution_count": 4,
   "metadata": {},
   "outputs": [],
   "source": [
    "standard_df=full_df[full_df.internal=='standard']\n",
    "standard_df=standard_df[standard_df.notes.isnull()]"
   ]
  },
  {
   "cell_type": "code",
   "execution_count": 5,
   "metadata": {},
   "outputs": [],
   "source": [
    "RorbAi167=standard_df[(standard_df.presynapticCre=='Rorb') & (standard_df.presynapticEffector=='Ai167')]\n",
    "RorbKv=standard_df[(standard_df.presynapticCre=='Rorb') & (standard_df.presynapticEffector=='ChrimsonR_kv_eyfp_AAV')]\n",
    "SstAi167=standard_df[(standard_df.presynapticCre=='Sst') & (standard_df.presynapticEffector=='Ai167')]\n",
    "SstKv=standard_df[(standard_df.presynapticCre=='Sst') & (standard_df.presynapticEffector=='ChrimsonR_kv_eyfp_AAV')]\n",
    "PvalbKv=standard_df[(standard_df.presynapticCre=='Pvalb') & (standard_df.presynapticEffector=='ChrimsonR_kv_eyfp_AAV')]\n",
    "PenkKv=standard_df[(standard_df.presynapticCre=='Penk') & (standard_df.presynapticEffector=='ChrimsonR_kv_eyfp_AAV')]\n",
    "Tlx3Kv=standard_df[(standard_df.presynapticCre=='Tlx3') & (standard_df.presynapticEffector=='ChrimsonR_kv_eyfp_AAV')]\n",
    "Scnn1aAi167=standard_df[(standard_df.presynapticCre=='Scnn1a') & (standard_df.presynapticEffector=='Ai167')]\n",
    "\n",
    "Sst=standard_df[standard_df.presynapticCre=='Sst']\n",
    "Ntsr1=standard_df[standard_df.presynapticCre=='Ntsr1']\n",
    "Rorb=standard_df[standard_df.presynapticCre=='Rorb']\n",
    "Scnn1a=standard_df[standard_df.presynapticCre=='Scnn1a']\n",
    "Sst=standard_df[standard_df.presynapticCre=='Sst']\n",
    "\n",
    "\n",
    "exc_L23_pyr=standard_df[(standard_df.post_class=='pyramidal') & (standard_df.post_layer==2)]\n",
    "exc_L23_pyr=exc_L23_pyr[exc_L23_pyr.presynapticCre.isin(['Penk', 'Scnn1a', 'Rorb', 'Tlx3', 'Ntsr1'])]\n",
    "exc_L23_fsi=standard_df[(standard_df.Kcluster==1) & (standard_df.post_layer==2)]\n",
    "exc_L23_fsi=exc_L23_fsi[exc_L23_fsi.presynapticCre.isin(['Penk', 'Scnn1a', 'Rorb', 'Tlx3', 'Ntsr1'])]\n",
    "\n"
   ]
  },
  {
   "cell_type": "code",
   "execution_count": 6,
   "metadata": {},
   "outputs": [],
   "source": [
    "Penk_L23pyr=PenkKv[(PenkKv.post_class=='pyramidal') & (PenkKv.post_layer==2)]\n",
    "Penk_L23int=PenkKv[(PenkKv.post_class=='interneuron') & (PenkKv.post_layer==2)]\n",
    "Penk_L23fsi=PenkKv[(PenkKv.Kcluster==1) & (PenkKv.post_layer==2)]\n",
    "Penk_L23vip=Penk_L23int[Penk_L23int.Kcluster==2]\n",
    "Rorb_L23pyr=Rorb[(Rorb.post_class=='pyramidal') & (Rorb.post_layer==2)]\n",
    "Rorb_L23fsi=Rorb[(Rorb.Kcluster==1) & (Rorb.post_layer==2)]\n",
    "Tlx3_L23pyr=Tlx3Kv[(Tlx3Kv.post_class=='pyramidal') & (Tlx3Kv.post_layer==2)]\n",
    "Tlx3_L23fsi=Tlx3Kv[(Tlx3Kv.Kcluster==1) & (Tlx3Kv.post_layer==2)]\n",
    "Ntsr1_L23pyr=Ntsr1[(Ntsr1.post_class=='pyramidal') & (Ntsr1.post_layer==2)]\n",
    "Scnn1a_L23pyr=Scnn1a[(Scnn1a.post_class=='pyramidal') & (Scnn1a.post_layer==2)]\n",
    "Sst_L23pyr=Sst[(Sst.post_class=='pyramidal') & (Sst.post_layer==2)]\n",
    "Sst_L5pyr=Sst[(Sst.post_class=='pyramidal') & (Sst.post_layer==5)]\n",
    "\n",
    "\n",
    "Sst_L23fsi=Sst[(Sst.Kcluster==1) & (Sst.post_layer==2)]\n",
    "Pvalb_L23pyr=PvalbKv[(PvalbKv.post_class=='pyramidal') & (PvalbKv.post_layer==2)]\n",
    "Pvalb_Pvalb=PvalbKv[(PvalbKv.Kcluster==1) & (PvalbKv.post_layer==2)]"
   ]
  },
  {
   "cell_type": "code",
   "execution_count": 7,
   "metadata": {},
   "outputs": [],
   "source": [
    "def dress_up(ax,tick_n=4):\n",
    "    ax.spines['right'].set_visible(False)\n",
    "    ax.spines['top'].set_visible(False)\n",
    "    ax.yaxis.set_ticks_position('left')\n",
    "    ax.xaxis.set_ticks_position('bottom')\n",
    "    ax.yaxis.set_tick_params(size=tick_size,labelsize=fs, direction='out')\n",
    "    ax.xaxis.set_tick_params(size=tick_size,labelsize=fs, direction='out')\n",
    "    ax.yaxis.set_major_formatter(FormatStrFormatter('%g'))\n",
    "    ax.yaxis.set_major_locator(plt.MaxNLocator(tick_n))\n"
   ]
  },
  {
   "cell_type": "code",
   "execution_count": 8,
   "metadata": {},
   "outputs": [
    {
     "data": {
      "image/png": "[encoded data removed]",
      "text/plain": [
       "<Figure size 108x108 with 1 Axes>"
      ]
     },
     "metadata": {
      "needs_background": "light"
     },
     "output_type": "display_data"
    }
   ],
   "source": [
    "s=15\n",
    "tick_size=4\n",
    "fs=10\n",
    "Pvalb_Pvalb_sub=Pvalb_Pvalb[Pvalb_Pvalb.xyz_dist>100] ##exclude Pvalb to Pvalb connections within 100 microns to avoid overlap of direct stim artifact with IPSP\n",
    "df_list=[Pvalb_L23pyr,Sst_L23pyr,Pvalb_Pvalb_sub,Sst_L23fsi]\n",
    "tick_labels=['Pvalb to PC', 'Sst to PC', 'Pvalb to Pvalb','Sst to FSI']\n",
    "markers=['^','^','o','o',]\n",
    "colors=['purple',  'green', 'purple','green']\n",
    "colors2=['purple',  'green','purple', 'green']\n",
    "fig, ax = plt.subplots()\n",
    "master_dists=[]\n",
    "\n",
    "for i in range(len(df_list)):\n",
    "    df=df_list[i]\n",
    "    df=df[df.cnx=='inhibitory']\n",
    "    df=df.dropna(subset=['peakOfAvg'])\n",
    "    y=np.array(df.peakOfAvg*-1)\n",
    "    description=tick_labels[i]\n",
    "\n",
    "    y=np.log10(y)\n",
    "    x=np.random.normal(i,0.1, size=len(y))\n",
    "    mark=markers[i]\n",
    "    color=colors[i]\n",
    "    color2=colors2[i]\n",
    "    master_dists.append(y)\n",
    "    \n",
    "    ax.scatter(i+1,np.median(y),facecolor=color2,marker=mark,s=s*4,edgecolor='white')\n",
    "violin_parts=ax.violinplot(master_dists,showmeans=False, showmedians=False,\n",
    "        showextrema=False,points=1000)\n",
    "i=0\n",
    "for pc in violin_parts['bodies']:\n",
    "    mark=markers[i]\n",
    "    color=colors[i]\n",
    "    pc.set_facecolor(color)\n",
    "    pc.set_edgecolor(color)\n",
    "    \n",
    "    i+=1    \n",
    "\n",
    "    dress_up(ax)\n",
    "plt.xticks(range(1,len(df_list)+1), tick_labels, rotation='vertical')\n",
    "plt.yticks([-2,-1,0,1],['0.01','0.1','1','10'])\n",
    "plt.ylim([-2.2,0.5])\n",
    "plt.ylabel('IPSP amplitude (mV)')\n",
    "fig.set_figheight(1.5)\n",
    "fig.set_figwidth(1.5)\n",
    "fig.autofmt_xdate()\n"
   ]
  },
  {
   "cell_type": "code",
   "execution_count": 9,
   "metadata": {},
   "outputs": [
    {
     "data": {
      "image/png": "[encoded data removed]",
      "text/plain": [
       "<Figure size 108x108 with 1 Axes>"
      ]
     },
     "metadata": {
      "needs_background": "light"
     },
     "output_type": "display_data"
    }
   ],
   "source": [
    "s=15\n",
    "SstAi_L23pyr=SstAi167[(SstAi167.post_layer==2) & (SstAi167.post_class=='pyramidal')]\n",
    "SstKv_L23pyr=SstKv[(SstKv.post_layer==2) & (SstKv.post_class=='pyramidal')]\n",
    "\n",
    "df_list=[SstKv_L23pyr,SstAi_L23pyr,Pvalb_L23pyr]\n",
    "tick_labels=['Sst:AAV','Sst:Ai167','Pvalb:AAV']\n",
    "markers=['^','^','^']\n",
    "colors=['green','magenta', 'purple']\n",
    "colors2=['green','magenta', 'purple']\n",
    "fig, ax = plt.subplots()\n",
    "master_dists=[]\n",
    "for i in range(len(df_list)):\n",
    "    df=df_list[i]\n",
    "    df=df[df.cnx=='inhibitory']\n",
    "    df=df.dropna(subset=['peakOfAvg'])\n",
    "    y=np.array(df.peakOfAvg*-1)\n",
    "    y=np.log10(y)\n",
    "    x=np.random.normal(i,0.1, size=len(y))\n",
    "    mark=markers[i]\n",
    "    color=colors[i]\n",
    "    color2=colors2[i]\n",
    "    master_dists.append(y)\n",
    "    ax.scatter(i+1,np.median(y),facecolor=color2,marker=mark,s=s*4,edgecolor='white')\n",
    "\n",
    "violin_parts=ax.violinplot(master_dists,showmeans=False, showmedians=False,\n",
    "        showextrema=False,points=1000)\n",
    "i=0\n",
    "for pc in violin_parts['bodies']:\n",
    "    mark=markers[i]\n",
    "    color=colors[i]\n",
    "    pc.set_facecolor(color)\n",
    "    pc.set_edgecolor(color)\n",
    "    \n",
    "    i+=1    \n",
    "\n",
    "dress_up(ax)\n",
    "\n",
    "plt.xticks(range(1,len(df_list)+1), tick_labels, rotation='vertical')\n",
    "plt.yticks([-2,-1,0,1],['0.01','0.1','1','10'])\n",
    "\n",
    "plt.ylim([-2.2,0.5])\n",
    "plt.ylabel('IPSP amplitude (mV)')\n",
    "fig.set_figheight(1.5)\n",
    "fig.set_figwidth(1.5)\n",
    "fig.autofmt_xdate()\n"
   ]
  },
  {
   "cell_type": "code",
   "execution_count": 10,
   "metadata": {},
   "outputs": [
    {
     "data": {
      "image/png": "[encoded data removed]",
      "text/plain": [
       "<Figure size 108x108 with 1 Axes>"
      ]
     },
     "metadata": {
      "needs_background": "light"
     },
     "output_type": "display_data"
    }
   ],
   "source": [
    "s=15\n",
    "SstAi_L23pyr=SstAi167[(SstAi167.post_layer==2) & (SstAi167.post_class=='pyramidal')]\n",
    "SstKv_L23pyr=SstKv[(SstKv.post_layer==2) & (SstKv.post_class=='pyramidal')]\n",
    "\n",
    "df_list=[SstKv_L23pyr,SstAi_L23pyr,Pvalb_L23pyr]\n",
    "tick_labels=['Sst:AAV','Sst:Ai167','Pvalb:AAV']\n",
    "markers=['^','^','^']\n",
    "colors=['green','magenta', 'purple']\n",
    "colors2=['green','magenta', 'purple']\n",
    "fig, ax = plt.subplots()\n",
    "master_dists=[]\n",
    "for i in range(len(df_list)):\n",
    "    df=df_list[i]\n",
    "    df=df[df.cnx=='inhibitory']\n",
    "    df=df.dropna(subset=['peakOfAvg'])\n",
    "    y=np.array(df.CV)\n",
    "\n",
    "    x=np.random.normal(i,0.1, size=len(y))\n",
    "    mark=markers[i]\n",
    "    color=colors[i]\n",
    "    color2=colors2[i]\n",
    "    master_dists.append(y)\n",
    "\n",
    "    ax.scatter(i+1,np.median(y),facecolor=color2,marker=mark,s=s*4,edgecolor='white')\n",
    "violin_parts=ax.violinplot(master_dists,showmeans=False, showmedians=False,\n",
    "        showextrema=False,points=1000)\n",
    "i=0\n",
    "for pc in violin_parts['bodies']:\n",
    "    mark=markers[i]\n",
    "    color=colors[i]\n",
    "    pc.set_facecolor(color)\n",
    "    pc.set_edgecolor(color)\n",
    "    \n",
    "    i+=1    \n",
    "\n",
    "dress_up(ax)\n",
    "\n",
    "plt.xticks(range(1,len(df_list)+1), tick_labels, rotation='vertical')\n",
    "\n",
    "plt.ylabel('CV')\n",
    "fig.set_figheight(1.5)\n",
    "fig.set_figwidth(1.5)\n",
    "fig.autofmt_xdate()\n"
   ]
  },
  {
   "cell_type": "code",
   "execution_count": 11,
   "metadata": {},
   "outputs": [
    {
     "name": "stdout",
     "output_type": "stream",
     "text": [
      "Penk to PC\n",
      "16 connections measured\n",
      "Rorb to PC\n",
      "245 connections measured\n",
      "Tlx3 to PC\n",
      "85 connections measured\n",
      "Penk to FSI\n",
      "28 connections measured\n",
      "Rorb to FSI\n",
      "24 connections measured\n",
      "Tlx3 to FSI\n",
      "9 connections measured\n"
     ]
    },
    {
     "data": {
      "image/png": "[encoded data removed]",
      "text/plain": [
       "<Figure size 162x108 with 1 Axes>"
      ]
     },
     "metadata": {
      "needs_background": "light"
     },
     "output_type": "display_data"
    }
   ],
   "source": [
    "s=15\n",
    "fs=10\n",
    "tick_size=4\n",
    "df_list=[Penk_L23pyr,Rorb_L23pyr, Tlx3_L23pyr,Penk_L23fsi,Rorb_L23fsi,  Tlx3_L23fsi]\n",
    "tick_labels=['Penk to PC', 'Rorb to PC', 'Tlx3 to PC','Penk to FSI','Rorb to FSI',  'Tlx3 to FSI']\n",
    "markers=['^','^','^','o','o','o']\n",
    "colors=['magenta',  'blue', 'darkorange', 'magenta',  'blue', 'darkorange',]\n",
    "fig, ax = plt.subplots()\n",
    "master_dists=[]\n",
    "\n",
    "for i in range(len(df_list)):\n",
    "    df=df_list[i]\n",
    "    df=df[df.cnx=='excitatory']\n",
    "    df=df.dropna(subset=['peakOfAvg'])\n",
    "    y=np.array(df.peakOfAvg)\n",
    "    description=tick_labels[i]\n",
    "\n",
    "    print (description)\n",
    "    print (np.shape(y)[0], 'connections measured') \n",
    "    y=np.log10(y)\n",
    "    x=np.random.normal(i,0.1, size=len(y))\n",
    "    master_dists.append(y)\n",
    "    mark=markers[i]\n",
    "    color=colors[i]\n",
    "    quartile1, median, quartile3 = np.percentile(y, [25, 50, 75])\n",
    "\n",
    "    ax.scatter(i+1,np.median(y),facecolor=color,marker=mark,s=s*4,edgecolor='white')\n",
    "\n",
    "violin_parts=ax.violinplot(master_dists,showmeans=False, showmedians=False,\n",
    "        showextrema=False,points=1000)\n",
    "\n",
    "i=0\n",
    "for pc in violin_parts['bodies']:\n",
    "    mark=markers[i]\n",
    "    color=colors[i]\n",
    "    pc.set_facecolor(color)\n",
    "    pc.set_edgecolor(color)\n",
    "    \n",
    "    i+=1\n",
    "plt.xticks(range(1,len(df_list)+1), tick_labels, rotation='vertical')\n",
    "plt.yticks([-3,-2,-1,0,1],['0.001','0.01','0.1','1','10'])\n",
    "\n",
    "plt.ylim([-2,1])\n",
    "dress_up(ax)\n",
    "\n",
    "plt.ylabel('EPSP amplitude (mV)')\n",
    "fig.set_figheight(1.5)\n",
    "fig.set_figwidth(2.25)\n",
    "fig.autofmt_xdate()\n"
   ]
  },
  {
   "cell_type": "code",
   "execution_count": 12,
   "metadata": {},
   "outputs": [
    {
     "data": {
      "image/png": "[encoded data removed]",
      "text/plain": [
       "<Figure size 108x108 with 1 Axes>"
      ]
     },
     "metadata": {
      "needs_background": "light"
     },
     "output_type": "display_data"
    }
   ],
   "source": [
    "s=15\n",
    "fs=10\n",
    "tick_size=4\n",
    "RorbAi_L23pyr=RorbAi167[(RorbAi167.post_layer==2) & (RorbAi167.post_class=='pyramidal')]\n",
    "RorbKv_L23pyr=RorbKv[(RorbKv.post_layer==2) & (RorbKv.post_class=='pyramidal')]\n",
    "df_list=[RorbKv_L23pyr,RorbAi_L23pyr,Penk_L23pyr]\n",
    "tick_labels=['Rorb:AAV','Rorb:Ai167','Penk:AAV' ]\n",
    "markers=['^','^','^']\n",
    "colors=['green','magenta','black']\n",
    "fig, ax = plt.subplots()\n",
    "master_dists=[]\n",
    "for i in range(len(df_list)):\n",
    "    df=df_list[i]\n",
    "    df=df[df.cnx=='excitatory']\n",
    "    df=df.dropna(subset=['peakOfAvg'])\n",
    "    y=np.array(df.peakOfAvg)\n",
    "    y=np.log10(y)\n",
    "    x=np.random.normal(i,0.1, size=len(y))\n",
    "    master_dists.append(y)\n",
    "    mark=markers[i]\n",
    "    color=colors[i]\n",
    "    quartile1, median, quartile3 = np.percentile(y, [25, 50, 75])\n",
    "    ax.scatter(i+1,np.median(y),facecolor=color,marker=mark,s=s*4,edgecolor='white')\n",
    "\n",
    "violin_parts=ax.violinplot(master_dists,showmeans=False, showmedians=False,\n",
    "        showextrema=False,points=1000)\n",
    "\n",
    "i=0\n",
    "for pc in violin_parts['bodies']:\n",
    "    mark=markers[i]\n",
    "    color=colors[i]\n",
    "    pc.set_facecolor(color)\n",
    "    pc.set_edgecolor(color)\n",
    "    i+=1\n",
    "plt.xticks(range(1,len(df_list)+1), tick_labels, rotation='vertical')\n",
    "plt.yticks([-3,-2,-1,0,1],['0.001','0.01','0.1','1','10'])\n",
    "plt.ylim([-2,1])\n",
    "dress_up(ax)\n",
    "plt.ylabel('EPSP amplitude (mV)')\n",
    "fig.set_figheight(1.5)\n",
    "fig.set_figwidth(1.5)\n",
    "fig.autofmt_xdate()\n"
   ]
  },
  {
   "cell_type": "code",
   "execution_count": 13,
   "metadata": {},
   "outputs": [
    {
     "data": {
      "image/png": "[encoded data removed]",
      "text/plain": [
       "<Figure size 108x108 with 1 Axes>"
      ]
     },
     "metadata": {
      "needs_background": "light"
     },
     "output_type": "display_data"
    }
   ],
   "source": [
    "s=15\n",
    "fs=10\n",
    "tick_size=4\n",
    "RorbAi_L23pyr=RorbAi167[(RorbAi167.post_layer==2) & (RorbAi167.post_class=='pyramidal')]\n",
    "RorbKv_L23pyr=RorbKv[(RorbKv.post_layer==2) & (RorbKv.post_class=='pyramidal')]\n",
    "df_list=[RorbKv_L23pyr,RorbAi_L23pyr,Penk_L23pyr]\n",
    "tick_labels=['Rorb:AAV','Rorb:Ai167','Penk:AAV' ]\n",
    "markers=['^','^','^']\n",
    "colors=['green','magenta','black']\n",
    "fig, ax = plt.subplots()\n",
    "master_dists=[]\n",
    "for i in range(len(df_list)):\n",
    "    df=df_list[i]\n",
    "    df=df[df.cnx=='excitatory']\n",
    "    df=df.dropna(subset=['CV'])\n",
    "    y=np.array(df.CV)\n",
    "    x=np.random.normal(i,0.1, size=len(y))\n",
    "    master_dists.append(y)\n",
    "    mark=markers[i]\n",
    "    color=colors[i]\n",
    "    quartile1, median, quartile3 = np.percentile(y, [25, 50, 75])\n",
    "    ax.scatter(i+1,np.median(y),facecolor=color,marker=mark,s=s*4,edgecolor='white')\n",
    "\n",
    "violin_parts=ax.violinplot(master_dists,showmeans=False, showmedians=False,\n",
    "        showextrema=False,points=1000)\n",
    "\n",
    "i=0\n",
    "for pc in violin_parts['bodies']:\n",
    "    mark=markers[i]\n",
    "    color=colors[i]\n",
    "    pc.set_facecolor(color)\n",
    "    pc.set_edgecolor(color)\n",
    "    \n",
    "    i+=1\n",
    "plt.xticks(range(1,len(df_list)+1), tick_labels, rotation='vertical')\n",
    "\n",
    "dress_up(ax)\n",
    "plt.ylabel('CV')\n",
    "fig.set_figheight(1.5)\n",
    "fig.set_figwidth(1.5)\n",
    "fig.autofmt_xdate()\n",
    "#plt.savefig('Rorb_Ai_v_AAV_CV.svg')"
   ]
  },
  {
   "cell_type": "code",
   "execution_count": 14,
   "metadata": {},
   "outputs": [
    {
     "data": {
      "image/png": "[encoded data removed]",
      "text/plain": [
       "<Figure size 108x108 with 1 Axes>"
      ]
     },
     "metadata": {
      "needs_background": "light"
     },
     "output_type": "display_data"
    }
   ],
   "source": [
    "s=15\n",
    "fs=10\n",
    "tick_size=4\n",
    "df_list=[RorbKv_L23pyr,RorbAi_L23pyr,Penk_L23pyr]\n",
    "tick_labels=['Rorb:AAV','Rorb:Ai167','Penk:AAV' ]\n",
    "markers=['^','^','^']\n",
    "colors=['green','magenta','black']\n",
    "fig, ax = plt.subplots()\n",
    "master_dists=[]\n",
    "for i in range(len(df_list)):\n",
    "    df=df_list[i]\n",
    "    df=df[df.cnx=='excitatory']\n",
    "    df=df.dropna(subset=['rise2080'])\n",
    "    df=df[df.peakOfAvg>0.1]\n",
    "    y=df.rise2080\n",
    "    master_dists.append(np.array(y))\n",
    "    mark=markers[i]\n",
    "    color=colors[i]\n",
    "    ax.scatter(i+1,np.mean(y),facecolor=color,marker=mark,s=s*4,edgecolor='white')\n",
    "\n",
    "violin_parts=ax.violinplot(master_dists,showmeans=False, showmedians=False,\n",
    "        showextrema=False,points=100)\n",
    "\n",
    "i=0\n",
    "for pc in violin_parts['bodies']:\n",
    "    mark=markers[i]\n",
    "    color=colors[i]\n",
    "    pc.set_facecolor(color)\n",
    "    pc.set_edgecolor(color)\n",
    "    \n",
    "    i+=1\n",
    "    \n",
    "\n",
    "plt.xticks(range(1,len(df_list)+1), tick_labels, rotation='vertical')\n",
    "\n",
    "dress_up(ax)\n",
    "plt.ylabel('20-80% rise time (ms)')\n",
    "fig.set_figheight(1.5)\n",
    "fig.set_figwidth(1.5)\n",
    "fig.autofmt_xdate()\n"
   ]
  },
  {
   "cell_type": "code",
   "execution_count": 15,
   "metadata": {},
   "outputs": [
    {
     "data": {
      "image/png": "[encoded data removed]",
      "text/plain": [
       "<Figure size 162x108 with 1 Axes>"
      ]
     },
     "metadata": {
      "needs_background": "light"
     },
     "output_type": "display_data"
    }
   ],
   "source": [
    "s=15\n",
    "fs=10\n",
    "tick_size=4\n",
    "df_list=[Penk_L23pyr,Rorb_L23pyr, Tlx3_L23pyr,Penk_L23fsi,Rorb_L23fsi,  Tlx3_L23fsi]\n",
    "tick_labels=['Penk to PC', 'Rorb to PC', 'Tlx3 to PC','Penk to FSI','Rorb to FSI',  'Tlx3 to FSI']\n",
    "markers=['^','^','^','o','o','o']\n",
    "colors=['magenta',  'blue', 'darkorange', 'magenta',  'blue', 'darkorange',]\n",
    "fig, ax = plt.subplots()\n",
    "master_dists=[]\n",
    "for i in range(len(df_list)):\n",
    "    df=df_list[i]\n",
    "    df=df[df.cnx=='excitatory']\n",
    "    df=df.dropna(subset=['rise2080'])\n",
    "    df=df[df.peakOfAvg>0.1]\n",
    "    y=df.rise2080\n",
    "    description=tick_labels[i]\n",
    "    x=np.random.normal(i,0.1, size=len(y))\n",
    "    master_dists.append(np.array(y))\n",
    "    mark=markers[i]\n",
    "    color=colors[i]\n",
    "    ax.scatter(i+1,np.mean(y),facecolor=color,marker=mark,s=s*4,edgecolor='white')\n",
    "\n",
    "violin_parts=ax.violinplot(master_dists,showmeans=False, showmedians=False,\n",
    "        showextrema=False,points=100)\n",
    "\n",
    "i=0\n",
    "for pc in violin_parts['bodies']:\n",
    "    mark=markers[i]\n",
    "    color=colors[i]\n",
    "    pc.set_facecolor(color)\n",
    "    pc.set_edgecolor(color)\n",
    "    i+=1\n",
    "    \n",
    "plt.xticks(range(1,len(df_list)+1), tick_labels, rotation='vertical')\n",
    "plt.ylim(0.0,6)\n",
    "dress_up(ax)\n",
    "plt.ylabel('20-80% rise time (ms)')\n",
    "fig.set_figheight(1.5)\n",
    "fig.set_figwidth(2.25)\n",
    "fig.autofmt_xdate()\n",
    "#plt.savefig('EPSP_rise_short_scale.svg')"
   ]
  },
  {
   "cell_type": "code",
   "execution_count": 16,
   "metadata": {
    "scrolled": true
   },
   "outputs": [
    {
     "data": {
      "image/png": "[encoded data removed]",
      "text/plain": [
       "<Figure size 108x108 with 1 Axes>"
      ]
     },
     "metadata": {
      "needs_background": "light"
     },
     "output_type": "display_data"
    }
   ],
   "source": [
    "s=15\n",
    "fs=10\n",
    "tick_size=4\n",
    "Pvalb_Pvalb_sub=Pvalb_Pvalb[Pvalb_Pvalb.xyz_dist>100]\n",
    "df_list=[Pvalb_L23pyr,Sst_L23pyr,Pvalb_Pvalb_sub,Sst_L23fsi]\n",
    "tick_labels=['Pvalb to PC', 'Sst to PC', 'Pvalb to Pvalb','Sst to FSI']\n",
    "markers=['^','^','o','o',]\n",
    "colors=['purple',  'green', 'purple','green']\n",
    "master_dists=[]\n",
    "\n",
    "fig, ax = plt.subplots()\n",
    "for i in range(len(df_list)):\n",
    "    df=df_list[i]\n",
    "    df=df[df.cnx=='inhibitory']\n",
    "    df=df.dropna(subset=['rise2080'])\n",
    "    df=df[df.peakOfAvg<-0.1]\n",
    "    description=tick_labels[i]\n",
    "    y=df.rise2080\n",
    "    \n",
    "    master_dists.append(np.array(y))\n",
    "    x=np.random.normal(i,0.1, size=len(y))\n",
    "    mark=markers[i]\n",
    "    color=colors[i]\n",
    "\n",
    "    ax.scatter(i+1,np.median(y),facecolor=color,marker=mark,s=s*4,edgecolor='white')\n",
    "\n",
    "violin_parts=ax.violinplot(master_dists,showmeans=False, showmedians=False,\n",
    "        showextrema=False,points=1000)\n",
    "\n",
    "plt.xticks(range(1,len(df_list)+1), tick_labels, rotation='vertical')\n",
    "\n",
    "i=0\n",
    "for pc in violin_parts['bodies']:\n",
    "    mark=markers[i]\n",
    "    color=colors[i]\n",
    "    pc.set_facecolor(color)\n",
    "    pc.set_edgecolor(color)\n",
    "    \n",
    "    i+=1\n",
    "\n",
    "plt.ylim(0.0,15)\n",
    "dress_up(ax)\n",
    "plt.ylabel('20-80% rise time (ms)')\n",
    "fig.set_figheight(1.5)\n",
    "fig.set_figwidth(1.5)\n",
    "fig.autofmt_xdate()\n",
    "\n"
   ]
  },
  {
   "cell_type": "code",
   "execution_count": 17,
   "metadata": {},
   "outputs": [
    {
     "data": {
      "image/png": "[encoded data removed]",
      "text/plain": [
       "<Figure size 108x108 with 1 Axes>"
      ]
     },
     "metadata": {
      "needs_background": "light"
     },
     "output_type": "display_data"
    }
   ],
   "source": [
    "s=15\n",
    "fs=10\n",
    "tick_size=4\n",
    "\n",
    "df_list=[SstKv_L23pyr,SstAi_L23pyr,Pvalb_L23pyr]\n",
    "tick_labels=['Sst:AAV','Sst:Ai167','Pvalb:AAV']\n",
    "markers=['^','^','^','o',]\n",
    "colors=['green',  'magenta', 'purple']\n",
    "master_dists=[]\n",
    "fig, ax = plt.subplots()\n",
    "for i in range(len(df_list)):\n",
    "    df=df_list[i]\n",
    "    df=df[df.cnx=='inhibitory']\n",
    "    df=df.dropna(subset=['rise2080'])\n",
    "    df=df[df.peakOfAvg<-0.1]\n",
    "    y=df.rise2080\n",
    "    master_dists.append(np.array(y))\n",
    "    x=np.random.normal(i,0.1, size=len(y))\n",
    "    mark=markers[i]\n",
    "    color=colors[i]\n",
    "\n",
    "    ax.scatter(i+1,np.median(y),facecolor=color,marker=mark,s=s*4,edgecolor='white')\n",
    "\n",
    "    \n",
    "violin_parts=ax.violinplot(master_dists,showmeans=False, showmedians=False,\n",
    "        showextrema=False,points=1000)\n",
    "\n",
    "plt.xticks(range(1,len(df_list)+1), tick_labels, rotation='vertical')\n",
    "\n",
    "i=0\n",
    "for pc in violin_parts['bodies']:\n",
    "    mark=markers[i]\n",
    "    color=colors[i]\n",
    "    pc.set_facecolor(color)\n",
    "    pc.set_edgecolor(color)\n",
    "    \n",
    "    i+=1\n",
    "\n",
    "plt.ylim(0.0,15)\n",
    "dress_up(ax)\n",
    "plt.ylabel('20-80% rise time (ms)')\n",
    "fig.set_figheight(1.5)\n",
    "fig.set_figwidth(1.5)\n",
    "fig.autofmt_xdate()\n"
   ]
  },
  {
   "cell_type": "code",
   "execution_count": 18,
   "metadata": {},
   "outputs": [],
   "source": [
    "color_dict={'Scnn1a':'blue', 'Rorb':'blue', 'Tlx3':'darkorange', 'Ntsr1':'red', 'Penk':'magenta', 'Sst':'green','Pvalb':'purple'}\n"
   ]
  },
  {
   "cell_type": "code",
   "execution_count": 19,
   "metadata": {},
   "outputs": [
    {
     "name": "stdout",
     "output_type": "stream",
     "text": [
      "SpearmanrResult(correlation=-0.7557812676309871, pvalue=4.528616272290246e-67)\n",
      "SpearmanrResult(correlation=-0.5765203595980961, pvalue=1.1594341822763673e-06)\n"
     ]
    },
    {
     "data": {
      "image/png": "[encoded data removed]",
      "text/plain": [
       "<Figure size 180x108 with 2 Axes>"
      ]
     },
     "metadata": {
      "needs_background": "light"
     },
     "output_type": "display_data"
    }
   ],
   "source": [
    "gskw = dict(width_ratios=[1,1], wspace=0.2)\n",
    "\n",
    "gs = matplotlib.gridspec.GridSpec(1,2, **gskw)\n",
    "mp=20\n",
    "x_max=5\n",
    "y_max=2.5\n",
    "\n",
    "fig = plt.figure(figsize=(2.5,1.5))\n",
    "ax0=fig.add_subplot(gs[0])\n",
    "ax1=fig.add_subplot(gs[1])\n",
    "df_list=[exc_L23_pyr, exc_L23_fsi]\n",
    "axes=[ax0, ax1]\n",
    "\n",
    "for df, ax in zip(df_list,axes):\n",
    "\n",
    "    df=df[df.cnx=='excitatory'].dropna(subset=['peakOfAvg','CV'])\n",
    "    print (stats.spearmanr(df.peakOfAvg, df.CV))\n",
    "    ax.scatter(df.peakOfAvg, df.CV, facecolor=[color_dict[i] for i in df.presynapticCre],alpha=0.5,s=5,edgecolors='none')\n",
    "    ax.set_xlim([-0.1,x_max])\n",
    "    ax.set_ylim([0,y_max])\n",
    "    dress_up(ax,3)\n",
    "    ax.xaxis.set_major_locator(plt.MaxNLocator(3))\n",
    "    ax.xaxis.set_major_formatter(FormatStrFormatter('%g'))\n",
    "\n",
    "ax1.plot([0,0],[0,3],ls='solid',color='grey')\n",
    "\n",
    "ax0.set_xlabel('EPSP amplitude (mV)')\n",
    "ax0.xaxis.set_label_coords(1.15, -0.3)\n",
    "ax0.set_ylabel('EPSP CV')\n",
    "ax1.yaxis.set_ticks_position('none')\n",
    "ax1.spines['left'].set_visible(False)\n",
    "ax1.axes.yaxis.set_visible(False)\n",
    "\n",
    "\n"
   ]
  },
  {
   "cell_type": "code",
   "execution_count": 20,
   "metadata": {},
   "outputs": [
    {
     "data": {
      "image/png": "[encoded data removed]",
      "text/plain": [
       "<Figure size 180x108 with 2 Axes>"
      ]
     },
     "metadata": {
      "needs_background": "light"
     },
     "output_type": "display_data"
    }
   ],
   "source": [
    "gskw = dict(width_ratios=[1,1], wspace=0.2)\n",
    "\n",
    "gs = matplotlib.gridspec.GridSpec(1,2, **gskw)\n",
    "mp=20\n",
    "fig = plt.figure(figsize=(2.5,1.5))\n",
    "\n",
    "ax0=fig.add_subplot(gs[0])\n",
    "ax1=fig.add_subplot(gs[1])\n",
    "axes=[ax0,ax0,ax1,ax1]\n",
    "colors=['green','purple','green','purple']\n",
    "df_list=[Sst_L23pyr,Pvalb_L23pyr, Sst_L23fsi, Pvalb_Pvalb]\n",
    "for df, ax, color in zip(df_list,axes,colors):\n",
    "    df=df[df.cnx=='inhibitory']\n",
    "    ax.scatter(df.peakOfAvg*-1,df.CV,c=color,alpha=0.5,s=5,edgecolors='None')\n",
    "    ax.set_xlim([-0.1,2.5])\n",
    "    ax.set_ylim([0,2.5])\n",
    "    dress_up(ax,5)\n",
    "    ax.xaxis.set_major_locator(plt.MaxNLocator(4))\n",
    "    \n",
    "    \n",
    "ax1.plot([0,0],[0,3],ls='solid',color='grey')\n",
    "ax0.set_xlabel('IPSP amplitude (mV)')\n",
    "ax0.xaxis.set_label_coords(1.15, -0.3)\n",
    "ax0.set_ylabel('IPSP CV')\n",
    "ax1.yaxis.set_ticks_position('none')\n",
    "ax1.spines['left'].set_visible(False)\n",
    "ax1.axes.yaxis.set_visible(False)"
   ]
  },
  {
   "cell_type": "code",
   "execution_count": 21,
   "metadata": {},
   "outputs": [],
   "source": [
    "L23=standard_df[standard_df.post_layer==2]\n",
    "L23pyr=L23[L23.post_class=='pyramidal']\n",
    "L23pyr_exc=L23pyr[L23pyr.presynapticCre.isin(['Scnn1a', 'Rorb','Tlx3','Ntsr1','Penk'])]\n",
    "L23int=L23[L23.post_class=='interneuron']\n",
    "L23int_exc=L23int[L23int.presynapticCre.isin(['Scnn1a', 'Rorb', 'Tlx3', 'Ntsr1','Penk'])]\n",
    "L23fsi_exc=L23int_exc[L23int_exc.Kcluster==1]"
   ]
  },
  {
   "cell_type": "code",
   "execution_count": 22,
   "metadata": {},
   "outputs": [],
   "source": [
    "def low_quant(arr):\n",
    "    return np.quantile(arr,0.25)\n",
    "def high_quant(arr):\n",
    "    return np.quantile(arr,0.75)"
   ]
  },
  {
   "cell_type": "code",
   "execution_count": 23,
   "metadata": {},
   "outputs": [
    {
     "data": {
      "image/png": "[encoded data removed]",
      "text/plain": [
       "<Figure size 432x122.4 with 5 Axes>"
      ]
     },
     "metadata": {
      "needs_background": "light"
     },
     "output_type": "display_data"
    }
   ],
   "source": [
    "x_lim=[-500,500]\n",
    "y_lim=[500,0]\n",
    "fs=10\n",
    "tick_size=5\n",
    "vmax=1\n",
    "vmin=0\n",
    "font='arial'\n",
    "size=10\n",
    "mp=20\n",
    "\n",
    "gskw = dict(width_ratios=[5,5,2], wspace=0.25)\n",
    "gs = matplotlib.gridspec.GridSpec(1,3, **gskw)\n",
    "\n",
    "fig = plt.figure(figsize=(6,1.7))\n",
    "\n",
    "ax0=fig.add_subplot(gs[0], aspect='equal', adjustable='box')\n",
    "ax1=fig.add_subplot(gs[1], aspect='equal', adjustable='box')\n",
    "\n",
    "df_list=[L23pyr_exc,L23fsi_exc]\n",
    "map_axes=[ax0,ax1]\n",
    "cm_names=['Blues','Oranges']\n",
    "for df, ax, cm_name in zip(df_list,map_axes,cm_names):\n",
    "\n",
    "    df=df.dropna(subset=['y_pia'])\n",
    "    exc=df[df.cnx=='excitatory']\n",
    "    exc= exc.sort_values(['peakOfAvg'], ascending=1)\n",
    "    cells=exc.groupby(['exp_id', 'headstage']).toPia.mean()\n",
    "    avg_post_cell=np.mean(cells)\n",
    "    ax.scatter(0,avg_post_cell, marker='^', facecolor='black',s=size,zorder=2,edgecolors='white')\n",
    "    nocnx=df[df.cnx=='no cnx']\n",
    "    ax.scatter(nocnx.x_ap, nocnx.y_pia, s=15, color='white', alpha=0.1, marker='^', edgecolors='grey')\n",
    "    ax.tick_params(axis='both', which='major', labelsize=10)\n",
    "    ax.xaxis.set_ticks([-400,0,400])\n",
    "    ax.axis([-600,600,1000,0])\n",
    "    full_cmp = plt.get_cmap(cm_name, 512)\n",
    "    newcmp = matplotlib.colors.ListedColormap(full_cmp(np.linspace(0.25, 1, 256)))\n",
    "    heat_cnxs=ax.scatter(exc.x_ap, exc.y_pia, c=exc.peakOfAvg, vmin=vmin, vmax=vmax, s=size, cmap=newcmp, alpha=0.9\n",
    "                , marker='^', edgecolors='None',zorder=1)\n",
    "    ax.set_xlabel('horizontal distance (' r'$\\mu$'+'m)', fontsize=10, fontname='arial')\n",
    "    cb=fig.colorbar(heat_cnxs,ticks=[0,0.5,1], ax=ax,fraction=0.046, pad=0.04)\n",
    "    cb.ax.set_yticklabels(['0\\nmV', '0.5\\nmV','>1\\nmV'])\n",
    "    cb.ax.tick_params(labelsize=10)\n",
    "\n",
    "\n",
    "ax0.set_ylabel('distance from pia (' r'$\\mu$'+'m)', fontsize=10, fontname='arial')\n",
    "ax1.axes.yaxis.set_visible(False)\n",
    "ax1.spines['left'].set_visible(False)\n",
    "ax2=fig.add_subplot(gs[2])\n",
    "\n",
    "colors=['blue', 'darkorange']\n",
    "colors2=['blue','orange']\n",
    "\n",
    "min_cnx=3\n",
    "bins=[50,330,480,750]\n",
    "\n",
    "for df, color,color2 in zip(df_list, colors,colors2):\n",
    "    df=df.dropna(subset=['peakOfAvg','y_pia'])\n",
    "    df=df[df.cnx=='excitatory']\n",
    "    ax2.scatter(df.peakOfAvg,df.y_pia, facecolor=color,edgecolors='none',alpha=0.5,s=10)\n",
    "    binned_median=stats.binned_statistic(df.y_pia,df.peakOfAvg, bins=bins, statistic='median')[0]\n",
    "    binned_up=stats.binned_statistic(df.y_pia,df.peakOfAvg,bins=bins,statistic=high_quant)[0]\n",
    "    binned_low=stats.binned_statistic(df.y_pia,df.peakOfAvg,bins=bins,statistic=low_quant)[0]\n",
    "    count=stats.binned_statistic(df.y_pia,df.peakOfAvg,  bins=bins, statistic='count')[0]\n",
    "    thresh=count>min_cnx\n",
    "    x=binned_median[thresh]\n",
    "    y=opto.midPoints(bins)[thresh]\n",
    "    xerr=[x-binned_low[thresh],binned_up[thresh]-x]\n",
    "    ax2.errorbar(x, y, xerr=xerr, color=color2,  marker='o', ms=6,elinewidth=2, capsize=1)\n",
    "\n",
    "\n",
    "for ax in [ax0, ax1, ax2]:\n",
    "    opto.layer_borders(ax)\n",
    "    dress_up(ax)\n",
    "\n",
    "ax2.axis([0.01,5,1000,0])\n",
    "ax2.set_xscale('log')\n",
    "ax2.set_xlabel('EPSP amp. (mV)', fontsize=10, fontname='arial')\n",
    "ax2.xaxis.set_major_formatter(FormatStrFormatter('%g'))\n",
    "ax2.spines['left'].set_visible(False)\n",
    "ax2.axes.yaxis.set_visible(False)\n"
   ]
  },
  {
   "cell_type": "code",
   "execution_count": 24,
   "metadata": {},
   "outputs": [
    {
     "name": "stdout",
     "output_type": "stream",
     "text": [
      "(77, 81)\n",
      "(162, 81)\n"
     ]
    },
    {
     "data": {
      "image/png": "[encoded data removed]",
      "text/plain": [
       "<Figure size 432x122.4 with 5 Axes>"
      ]
     },
     "metadata": {
      "needs_background": "light"
     },
     "output_type": "display_data"
    }
   ],
   "source": [
    "x_lim=[-500,500]\n",
    "y_lim=[500,0]\n",
    "fs=10\n",
    "tick_size=5\n",
    "vmax=1\n",
    "vmin=0\n",
    "font='arial'\n",
    "size=10\n",
    "mp=20\n",
    "\n",
    "gskw = dict(width_ratios=[5,5,2], wspace=0.25)\n",
    "gs = matplotlib.gridspec.GridSpec(1,3, **gskw)\n",
    "\n",
    "fig = plt.figure(figsize=(6,1.7))\n",
    "\n",
    "ax0=fig.add_subplot(gs[0], aspect='equal', adjustable='box')\n",
    "ax1=fig.add_subplot(gs[1], aspect='equal', adjustable='box')\n",
    "\n",
    "df_list=[Pvalb_L23pyr,Sst_L23pyr]\n",
    "map_axes=[ax0,ax1]\n",
    "cm_names=['Purples','Greens']\n",
    "for df, ax, cm_name in zip(df_list,map_axes,cm_names):\n",
    "\n",
    "    df=df.dropna(subset=['y_pia'])\n",
    "    inh=df[df.cnx=='inhibitory']\n",
    "    print (np.shape(inh))\n",
    "    inh= inh.sort_values(['peakOfAvg'], ascending=0)\n",
    "    cells=inh.groupby(['exp_id', 'headstage']).toPia.mean()\n",
    "    avg_post_cell=np.mean(cells)\n",
    "    ax.scatter(0,avg_post_cell, marker='^', facecolor='black',s=size,zorder=2,edgecolors='white')\n",
    "    nocnx=df[df.cnx=='no cnx']\n",
    "    ax.scatter(nocnx.x_ap, nocnx.y_pia, s=15, color='white', alpha=0.1, marker='o', edgecolors='grey')\n",
    "    ax.tick_params(axis='both', which='major', labelsize=10)\n",
    "    ax.xaxis.set_ticks([-400,0,400])\n",
    "    ax.axis([-600,600,1000,0])\n",
    "    full_cmp = plt.get_cmap(cm_name, 512)\n",
    "    newcmp = matplotlib.colors.ListedColormap(full_cmp(np.linspace(0.25, 1, 256)))\n",
    "    heat_cnxs=ax.scatter(inh.x_ap, inh.y_pia, c=inh.peakOfAvg*-1, vmin=vmin, vmax=vmax, s=size, cmap=newcmp, alpha=1\n",
    "                , marker='o', edgecolors='None',zorder=1)\n",
    "    ax.set_xlabel('horizontal distance (' r'$\\mu$'+'m)', fontsize=10, fontname='arial')\n",
    "    cb=fig.colorbar(heat_cnxs,ticks=[0,0.5,1], ax=ax,fraction=0.046, pad=0.04)\n",
    "    cb.ax.set_yticklabels(['0\\nmV', '0.5\\nmV','>1\\nmV'])\n",
    "    cb.ax.tick_params(labelsize=10)\n",
    "\n",
    "\n",
    "ax0.set_ylabel('distance from pia (' r'$\\mu$'+'m)', fontsize=10, fontname='arial')\n",
    "ax1.axes.yaxis.set_visible(False)\n",
    "ax1.spines['left'].set_visible(False)\n",
    "ax2=fig.add_subplot(gs[2])\n",
    "\n",
    "colors=['mediumorchid','limegreen']\n",
    "colors2=['purple','green']\n",
    "\n",
    "min_cnx=3\n",
    "bins=[50,330,480,750]\n",
    "\n",
    "for df, color,color2 in zip(df_list, colors,colors2):\n",
    "    df=df.dropna(subset=['peakOfAvg','y_pia'])\n",
    "    df=df[df.cnx=='inhibitory']\n",
    "    ax2.scatter(df.peakOfAvg*-1,df.y_pia, facecolor=color,edgecolors='none',alpha=0.5,s=10)\n",
    "    binned_median=stats.binned_statistic(df.y_pia,df.peakOfAvg*-1, bins=bins, statistic='median')[0]\n",
    "    binned_up=stats.binned_statistic(df.y_pia,df.peakOfAvg*-1,bins=bins,statistic=high_quant)[0]\n",
    "    binned_low=stats.binned_statistic(df.y_pia,df.peakOfAvg*-1,bins=bins,statistic=low_quant)[0]\n",
    "    count=stats.binned_statistic(df.y_pia,df.peakOfAvg*-1,  bins=bins, statistic='count')[0]\n",
    "    thresh=count>min_cnx\n",
    "    x=binned_median[thresh]\n",
    "    y=opto.midPoints(bins)[thresh]\n",
    "    xerr=[x-binned_low[thresh],binned_up[thresh]-x]\n",
    "    ax2.errorbar(x, y, xerr=xerr, color=color2,  marker='o', ms=6,elinewidth=2, capsize=1)\n",
    "\n",
    "\n",
    "for ax in [ax0, ax1, ax2]:\n",
    "    opto.layer_borders(ax)\n",
    "    dress_up(ax)\n",
    "\n",
    "ax2.axis([0.01,5,1000,0])\n",
    "ax2.set_xscale('log')\n",
    "ax2.set_xlabel('IPSP amp. (mV)', fontsize=10, fontname='arial')\n",
    "ax2.xaxis.set_major_formatter(FormatStrFormatter('%g'))\n",
    "ax2.spines['left'].set_visible(False)\n",
    "ax2.axes.yaxis.set_visible(False)\n"
   ]
  },
  {
   "cell_type": "code",
   "execution_count": 25,
   "metadata": {},
   "outputs": [
    {
     "data": {
      "text/plain": [
       "Text(0.5, 0, 'horizontal distance ($\\\\mu$m)')"
      ]
     },
     "execution_count": 25,
     "metadata": {},
     "output_type": "execute_result"
    },
    {
     "data": {
      "image/png": "[encoded data removed]",
      "text/plain": [
       "<Figure size 108x288 with 3 Axes>"
      ]
     },
     "metadata": {
      "needs_background": "light"
     },
     "output_type": "display_data"
    }
   ],
   "source": [
    "gskw = dict(height_ratios=[1,1,1], wspace=0.2)\n",
    "\n",
    "gs = matplotlib.gridspec.GridSpec(3,1, **gskw)\n",
    "mp=20\n",
    "fig = plt.figure(figsize=(1.5,4))\n",
    "\n",
    "ax0=fig.add_subplot(gs[0])\n",
    "ax1=fig.add_subplot(gs[1])\n",
    "ax2=fig.add_subplot(gs[2])\n",
    "\n",
    "df_list=[exc_L23_pyr, exc_L23_fsi]\n",
    "colors=['royalblue', 'orange']\n",
    "colors2=['blue','darkorange']\n",
    "off=0\n",
    "min_cnx=3\n",
    "x_bins=np.arange(0,601,100)\n",
    "y_bins=[50,330,480,750]\n",
    "min_cnx=2\n",
    "\n",
    "for df, color,color2 in zip(df_list, colors,colors2):\n",
    "    df=df.dropna(subset=['peakOfAvg'])\n",
    "    df=df[df.cnx=='excitatory']\n",
    "    L2=df[df.y_pia<330]\n",
    "    L4=df[(df.y_pia>330) & (df.y_pia<480)]\n",
    "    L5=df[(df.y_pia>480)]\n",
    "    ec='none'\n",
    "    ax0.scatter(L2.abs_x, L2.peakOfAvg,facecolor=color,edgecolors=ec,alpha=0.9,s=10)\n",
    "    ax1.scatter(L4.abs_x, L4.peakOfAvg, facecolor=color, edgecolors=ec, alpha=0.9, s=10)\n",
    "    ax2.scatter(L5.abs_x, L5.peakOfAvg, facecolor=color, edgecolors=ec, alpha=0.9, s=10)\n",
    "    for Ldf, ax in zip([L2,L4,L5],[ax0,ax1,ax2]):\n",
    "        binned_median=stats.binned_statistic(Ldf.abs_x,Ldf.peakOfAvg, bins=x_bins, statistic='median')[0]\n",
    "        binned_up=stats.binned_statistic(Ldf.abs_x, Ldf.peakOfAvg,bins=x_bins,statistic=high_quant)[0]\n",
    "        binned_low=stats.binned_statistic(Ldf.abs_x, Ldf.peakOfAvg, bins=x_bins, statistic=low_quant)[0]\n",
    "        count=stats.binned_statistic(Ldf.abs_x,Ldf.peakOfAvg,  bins=x_bins, statistic='count')[0]\n",
    "        thresh=count>min_cnx\n",
    "   \n",
    "        y=binned_median[thresh]\n",
    "        x=opto.midPoints(x_bins)[thresh]\n",
    "        yerr=[y-binned_low[thresh],binned_up[thresh]-y]\n",
    "        ax.errorbar(x, y, yerr=yerr, color=color2,  marker='o', ms=6,elinewidth=2, capsize=1,xlolims=True)\n",
    "    \n",
    "for ax in [ax0,ax1,ax2]:\n",
    "    ax.set_xlim([-10,610])\n",
    "    ax.set_ylim([0.005,10])\n",
    "    ax.set_yscale('log')\n",
    "    ax.spines['right'].set_visible(False)\n",
    "    ax.spines['top'].set_visible(False)\n",
    "    ax.tick_params(axis='both', which='both', labelsize=10, direction='out')\n",
    "    ax.yaxis.set_ticks_position('left')\n",
    "    ax.xaxis.set_ticks_position('bottom')\n",
    "\n",
    "    ax.yaxis.set_major_formatter(FormatStrFormatter('%g'))\n",
    "\n",
    "ax0.axes.xaxis.set_visible(False)\n",
    "ax1.axes.xaxis.set_visible(False)\n",
    "ax2.xaxis.set_major_locator(plt.MaxNLocator(4))\n",
    "ax1.set_ylabel('PSP amplitude (mV)')\n",
    "ax2.set_xlabel('horizontal distance (' r'$\\mu$'+'m)')\n"
   ]
  },
  {
   "cell_type": "code",
   "execution_count": 26,
   "metadata": {},
   "outputs": [
    {
     "data": {
      "text/plain": [
       "Text(0.5, 0, 'horizontal distance ($\\\\mu$m)')"
      ]
     },
     "execution_count": 26,
     "metadata": {},
     "output_type": "execute_result"
    },
    {
     "data": {
      "image/png": "[encoded data removed]",
      "text/plain": [
       "<Figure size 54x288 with 3 Axes>"
      ]
     },
     "metadata": {
      "needs_background": "light"
     },
     "output_type": "display_data"
    }
   ],
   "source": [
    "gskw = dict(height_ratios=[1,1,1], wspace=0.2)\n",
    "\n",
    "gs = matplotlib.gridspec.GridSpec(3,1, **gskw)\n",
    "mp=20\n",
    "fig = plt.figure(figsize=(0.75,4))\n",
    "\n",
    "ax0=fig.add_subplot(gs[0])\n",
    "ax1=fig.add_subplot(gs[1])\n",
    "ax2=fig.add_subplot(gs[2])\n",
    "\n",
    "df_list=[Pvalb_L23pyr, Sst_L23pyr]\n",
    "colors=['mediumorchid', 'limegreen']\n",
    "colors2=['purple','green']\n",
    "off=0\n",
    "min_cnx=3\n",
    "x_bins=np.arange(0,601,100)\n",
    "y_bins=[50,330,480,750]\n",
    "min_cnx=2\n",
    "\n",
    "for df, color,color2 in zip(df_list, colors,colors2):\n",
    "    df=df.dropna(subset=['peakOfAvg'])\n",
    "    df=df[df.cnx=='inhibitory']\n",
    "    L2=df[df.y_pia<330]\n",
    "    L4=df[(df.y_pia>330) & (df.y_pia<480)]\n",
    "    L5=df[(df.y_pia>480)]\n",
    "    ec='none'\n",
    "    ax0.scatter(L2.abs_x, abs(L2.peakOfAvg),facecolor=color,edgecolors=ec,alpha=0.9,s=10)\n",
    "    ax1.scatter(L4.abs_x, abs(L4.peakOfAvg), facecolor=color, edgecolors=ec, alpha=0.9, s=10)\n",
    "    ax2.scatter(L5.abs_x, abs(L5.peakOfAvg), facecolor=color, edgecolors=ec, alpha=0.9, s=10)\n",
    "    for Ldf, ax in zip([L2,L4,L5],[ax0,ax1,ax2]):\n",
    "        binned_median=stats.binned_statistic(Ldf.abs_x,abs(Ldf.peakOfAvg), bins=x_bins, statistic='median')[0]\n",
    "        binned_up=stats.binned_statistic(Ldf.abs_x, abs(Ldf.peakOfAvg),bins=x_bins,statistic=high_quant)[0]\n",
    "        binned_low=stats.binned_statistic(Ldf.abs_x, abs(Ldf.peakOfAvg), bins=x_bins, statistic=low_quant)[0]\n",
    "        count=stats.binned_statistic(Ldf.abs_x,abs(Ldf.peakOfAvg),  bins=x_bins, statistic='count')[0]\n",
    "        thresh=count>min_cnx\n",
    "   \n",
    "        y=binned_median[thresh]\n",
    "        x=opto.midPoints(x_bins)[thresh]\n",
    "        yerr=[y-binned_low[thresh],binned_up[thresh]-y]\n",
    "        ax.errorbar(x, y, yerr=yerr, color=color2,  marker='o', ms=6,elinewidth=2, capsize=1,xlolims=True)\n",
    "\n",
    "        \n",
    "for ax in [ax0,ax1,ax2]:\n",
    "    ax.set_xlim([-10,310])\n",
    "    ax.set_ylim([0.005,10])\n",
    "    ax.set_yscale('log')\n",
    "    ax.spines['right'].set_visible(False)\n",
    "    ax.spines['top'].set_visible(False)\n",
    "    ax.tick_params(axis='both', which='both', labelsize=10, direction='out')\n",
    "    ax.yaxis.set_ticks_position('left')\n",
    "    ax.xaxis.set_ticks_position('bottom')\n",
    "\n",
    "    ax.yaxis.set_major_formatter(FormatStrFormatter('%g'))\n",
    "\n",
    "ax0.axes.xaxis.set_visible(False)\n",
    "ax1.axes.xaxis.set_visible(False)\n",
    "ax2.xaxis.set_major_locator(plt.MaxNLocator(4))\n",
    "\n",
    "ax2.set_xlabel('horizontal distance (' r'$\\mu$'+'m)')\n"
   ]
  },
  {
   "cell_type": "code",
   "execution_count": 27,
   "metadata": {},
   "outputs": [],
   "source": [
    "def PSP_population_params(df, cnx_call,label):\n",
    "    cnxs=df[df.cnx==cnx_call]\n",
    "    cnxs=cnxs.dropna(subset=['peakOfAvg'])\n",
    "    median=np.median(abs(cnxs.peakOfAvg))\n",
    "    mean=np.mean(abs(cnxs.peakOfAvg))\n",
    "    sd=np.std(abs(cnxs.peakOfAvg))\n",
    "    n=len(cnxs.peakOfAvg)\n",
    "    skew=stats.skew(abs(cnxs.peakOfAvg))\n",
    "    CV=np.nanmean(cnxs.CV)\n",
    "    rise_sub=cnxs[abs(cnxs.peakOfAvg)>0.1]\n",
    "    rise_mean=np.nanmean(rise_sub.rise2080)\n",
    "    cnxs=cnxs.dropna(subset=['abs_x','y_pia'])\n",
    "    XspearmanR,XspearmanP=stats.spearmanr(cnxs.abs_x,cnxs.peakOfAvg)\n",
    "    YspearmanR,YspearmanP=stats.spearmanr(cnxs.y_pia,cnxs.peakOfAvg)\n",
    "    PSP_dict={'connection class':label,'amp. median (mV)':median,'amp. mean (mV)':mean,\n",
    "              'amp. sd (mV)':sd,'amp. skew':skew,'n':n,'CV':CV,'20-80% rise (ms)':rise_mean}\n",
    "    return PSP_dict\n",
    "def PSP_dist_corr(df,cnx_call,label):\n",
    "    cnxs=df[df.cnx==cnx_call]\n",
    "    cnxs=cnxs.dropna(subset=['peakOfAvg','y_pia','abs_x'])\n",
    "    amps=cnxs.peakOfAvg\n",
    "    x=cnxs.abs_x\n",
    "    y=cnxs.y_pia\n",
    "    XspearmanR,XspearmanP=stats.spearmanr(x,amps)\n",
    "    YspearmanR,YspearmanP=stats.spearmanr(y,amps)\n",
    "    n=len(amps)\n",
    "    corr_dict={'connection class':label,'horizontal Spearman R':XspearmanR,'horizontal Spearman p':XspearmanP,\n",
    "             'presyn. pia Spearman R':YspearmanR,'presyn. pia Spearman p':YspearmanP,'n':n}\n",
    "    return corr_dict"
   ]
  },
  {
   "cell_type": "code",
   "execution_count": 28,
   "metadata": {},
   "outputs": [
    {
     "name": "stderr",
     "output_type": "stream",
     "text": [
      "/var/folders/r_/1r34q4315614mp9bkdvjcjph0000gp/T/ipykernel_17623/1692640933.py:11: RuntimeWarning: Mean of empty slice\n",
      "  rise_mean=np.nanmean(rise_sub.rise2080)\n"
     ]
    },
    {
     "data": {
      "text/html": [
       "<div>\n",
       "<style scoped>\n",
       "    .dataframe tbody tr th:only-of-type {\n",
       "        vertical-align: middle;\n",
       "    }\n",
       "\n",
       "    .dataframe tbody tr th {\n",
       "        vertical-align: top;\n",
       "    }\n",
       "\n",
       "    .dataframe thead th {\n",
       "        text-align: right;\n",
       "    }\n",
       "</style>\n",
       "<table border=\"1\" class=\"dataframe\">\n",
       "  <thead>\n",
       "    <tr style=\"text-align: right;\">\n",
       "      <th></th>\n",
       "      <th>connection class</th>\n",
       "      <th>amp. median (mV)</th>\n",
       "      <th>amp. mean (mV)</th>\n",
       "      <th>amp. sd (mV)</th>\n",
       "      <th>amp. skew</th>\n",
       "      <th>n</th>\n",
       "      <th>CV</th>\n",
       "      <th>20-80% rise (ms)</th>\n",
       "    </tr>\n",
       "  </thead>\n",
       "  <tbody>\n",
       "    <tr>\n",
       "      <th>0</th>\n",
       "      <td>Penk to L2/3 PC</td>\n",
       "      <td>0.146486</td>\n",
       "      <td>0.174925</td>\n",
       "      <td>0.104434</td>\n",
       "      <td>1.297460</td>\n",
       "      <td>16</td>\n",
       "      <td>0.797779</td>\n",
       "      <td>1.918923</td>\n",
       "    </tr>\n",
       "    <tr>\n",
       "      <th>1</th>\n",
       "      <td>Rorb to L2/3 PC</td>\n",
       "      <td>0.250468</td>\n",
       "      <td>0.383338</td>\n",
       "      <td>0.416290</td>\n",
       "      <td>3.023495</td>\n",
       "      <td>245</td>\n",
       "      <td>0.633395</td>\n",
       "      <td>2.014566</td>\n",
       "    </tr>\n",
       "    <tr>\n",
       "      <th>2</th>\n",
       "      <td>Tlx3 to L2/3 PC</td>\n",
       "      <td>0.304859</td>\n",
       "      <td>0.455875</td>\n",
       "      <td>0.513689</td>\n",
       "      <td>3.201072</td>\n",
       "      <td>85</td>\n",
       "      <td>0.538308</td>\n",
       "      <td>1.723459</td>\n",
       "    </tr>\n",
       "    <tr>\n",
       "      <th>3</th>\n",
       "      <td>Ntsr1 to L2/3 PC</td>\n",
       "      <td>0.092858</td>\n",
       "      <td>0.092858</td>\n",
       "      <td>0.000000</td>\n",
       "      <td>0.000000</td>\n",
       "      <td>1</td>\n",
       "      <td>1.085600</td>\n",
       "      <td>NaN</td>\n",
       "    </tr>\n",
       "    <tr>\n",
       "      <th>4</th>\n",
       "      <td>Penk to L2/3 FSI</td>\n",
       "      <td>0.811742</td>\n",
       "      <td>1.002615</td>\n",
       "      <td>0.985359</td>\n",
       "      <td>1.407496</td>\n",
       "      <td>28</td>\n",
       "      <td>0.896457</td>\n",
       "      <td>1.524869</td>\n",
       "    </tr>\n",
       "    <tr>\n",
       "      <th>5</th>\n",
       "      <td>Rorb to L2/3 FSI</td>\n",
       "      <td>0.404168</td>\n",
       "      <td>0.547148</td>\n",
       "      <td>0.382470</td>\n",
       "      <td>1.303851</td>\n",
       "      <td>24</td>\n",
       "      <td>0.754512</td>\n",
       "      <td>1.231490</td>\n",
       "    </tr>\n",
       "    <tr>\n",
       "      <th>6</th>\n",
       "      <td>Tlx3 to L2/3 FSI</td>\n",
       "      <td>0.439667</td>\n",
       "      <td>0.396489</td>\n",
       "      <td>0.217038</td>\n",
       "      <td>0.179792</td>\n",
       "      <td>9</td>\n",
       "      <td>0.749269</td>\n",
       "      <td>1.159951</td>\n",
       "    </tr>\n",
       "    <tr>\n",
       "      <th>7</th>\n",
       "      <td>Pvalb to L2/3 PC</td>\n",
       "      <td>0.272244</td>\n",
       "      <td>0.406684</td>\n",
       "      <td>0.445330</td>\n",
       "      <td>1.969450</td>\n",
       "      <td>77</td>\n",
       "      <td>0.584943</td>\n",
       "      <td>3.035219</td>\n",
       "    </tr>\n",
       "    <tr>\n",
       "      <th>8</th>\n",
       "      <td>Sst to L2/3 PC</td>\n",
       "      <td>0.114605</td>\n",
       "      <td>0.159684</td>\n",
       "      <td>0.127290</td>\n",
       "      <td>2.350467</td>\n",
       "      <td>162</td>\n",
       "      <td>0.849414</td>\n",
       "      <td>4.512205</td>\n",
       "    </tr>\n",
       "    <tr>\n",
       "      <th>9</th>\n",
       "      <td>Pvalb to L2/3 FSI</td>\n",
       "      <td>0.155071</td>\n",
       "      <td>0.205219</td>\n",
       "      <td>0.179378</td>\n",
       "      <td>2.608240</td>\n",
       "      <td>34</td>\n",
       "      <td>0.862443</td>\n",
       "      <td>2.029468</td>\n",
       "    </tr>\n",
       "    <tr>\n",
       "      <th>10</th>\n",
       "      <td>Sst to L2/3 FSI</td>\n",
       "      <td>0.194480</td>\n",
       "      <td>0.337991</td>\n",
       "      <td>0.420714</td>\n",
       "      <td>2.384198</td>\n",
       "      <td>18</td>\n",
       "      <td>0.751002</td>\n",
       "      <td>2.734192</td>\n",
       "    </tr>\n",
       "  </tbody>\n",
       "</table>\n",
       "</div>"
      ],
      "text/plain": [
       "     connection class  amp. median (mV)  amp. mean (mV)  amp. sd (mV)  \\\n",
       "0     Penk to L2/3 PC          0.146486        0.174925      0.104434   \n",
       "1     Rorb to L2/3 PC          0.250468        0.383338      0.416290   \n",
       "2     Tlx3 to L2/3 PC          0.304859        0.455875      0.513689   \n",
       "3    Ntsr1 to L2/3 PC          0.092858        0.092858      0.000000   \n",
       "4    Penk to L2/3 FSI          0.811742        1.002615      0.985359   \n",
       "5    Rorb to L2/3 FSI          0.404168        0.547148      0.382470   \n",
       "6    Tlx3 to L2/3 FSI          0.439667        0.396489      0.217038   \n",
       "7    Pvalb to L2/3 PC          0.272244        0.406684      0.445330   \n",
       "8      Sst to L2/3 PC          0.114605        0.159684      0.127290   \n",
       "9   Pvalb to L2/3 FSI          0.155071        0.205219      0.179378   \n",
       "10    Sst to L2/3 FSI          0.194480        0.337991      0.420714   \n",
       "\n",
       "    amp. skew    n        CV  20-80% rise (ms)  \n",
       "0    1.297460   16  0.797779          1.918923  \n",
       "1    3.023495  245  0.633395          2.014566  \n",
       "2    3.201072   85  0.538308          1.723459  \n",
       "3    0.000000    1  1.085600               NaN  \n",
       "4    1.407496   28  0.896457          1.524869  \n",
       "5    1.303851   24  0.754512          1.231490  \n",
       "6    0.179792    9  0.749269          1.159951  \n",
       "7    1.969450   77  0.584943          3.035219  \n",
       "8    2.350467  162  0.849414          4.512205  \n",
       "9    2.608240   34  0.862443          2.029468  \n",
       "10   2.384198   18  0.751002          2.734192  "
      ]
     },
     "execution_count": 28,
     "metadata": {},
     "output_type": "execute_result"
    }
   ],
   "source": [
    "cnx_classes=['Penk to L2/3 PC', 'Rorb to L2/3 PC',  'Tlx3 to L2/3 PC', 'Ntsr1 to L2/3 PC',\n",
    "             'Penk to L2/3 FSI','Rorb to L2/3 FSI', 'Tlx3 to L2/3 FSI',\n",
    "             'Pvalb to L2/3 PC', 'Sst to L2/3 PC', 'Pvalb to L2/3 FSI', 'Sst to L2/3 FSI']\n",
    "df_list=[Penk_L23pyr,Rorb_L23pyr,Tlx3_L23pyr,Ntsr1_L23pyr,Penk_L23fsi,Rorb_L23fsi,Tlx3_L23fsi,\n",
    "         Pvalb_L23pyr, Sst_L23pyr, Pvalb_Pvalb, Sst_L23fsi]\n",
    "calls=['excitatory','excitatory','excitatory','excitatory','excitatory','excitatory','excitatory',\n",
    "      'inhibitory','inhibitory','inhibitory','inhibitory']\n",
    "rows=[]\n",
    "corr_rows=[]\n",
    "for df,label,call in zip(df_list, cnx_classes,calls):\n",
    "    PSP_dict=PSP_population_params(df,call,label)\n",
    "    corr_dict=PSP_dist_corr(df,call,label)\n",
    "    rows.append(PSP_dict)\n",
    "    corr_rows.append(corr_dict)\n",
    "PSP_df=pd.DataFrame.from_dict(rows)\n",
    "corr_df=pd.DataFrame.from_dict(corr_rows)\n",
    "PSP_df.to_csv('outputs/PSP_props.csv')\n",
    "corr_df.to_csv('outputs/PSP_dist_corr.csv')\n",
    "PSP_df"
   ]
  },
  {
   "cell_type": "code",
   "execution_count": 29,
   "metadata": {},
   "outputs": [
    {
     "data": {
      "text/html": [
       "<div>\n",
       "<style scoped>\n",
       "    .dataframe tbody tr th:only-of-type {\n",
       "        vertical-align: middle;\n",
       "    }\n",
       "\n",
       "    .dataframe tbody tr th {\n",
       "        vertical-align: top;\n",
       "    }\n",
       "\n",
       "    .dataframe thead th {\n",
       "        text-align: right;\n",
       "    }\n",
       "</style>\n",
       "<table border=\"1\" class=\"dataframe\">\n",
       "  <thead>\n",
       "    <tr style=\"text-align: right;\">\n",
       "      <th></th>\n",
       "      <th>connection class</th>\n",
       "      <th>horizontal Spearman R</th>\n",
       "      <th>horizontal Spearman p</th>\n",
       "      <th>presyn. pia Spearman R</th>\n",
       "      <th>presyn. pia Spearman p</th>\n",
       "      <th>n</th>\n",
       "    </tr>\n",
       "  </thead>\n",
       "  <tbody>\n",
       "    <tr>\n",
       "      <th>0</th>\n",
       "      <td>Penk to L2/3 PC</td>\n",
       "      <td>-0.526471</td>\n",
       "      <td>0.036167</td>\n",
       "      <td>-0.505882</td>\n",
       "      <td>0.045582</td>\n",
       "      <td>16</td>\n",
       "    </tr>\n",
       "    <tr>\n",
       "      <th>1</th>\n",
       "      <td>Rorb to L2/3 PC</td>\n",
       "      <td>0.079746</td>\n",
       "      <td>0.214513</td>\n",
       "      <td>0.029029</td>\n",
       "      <td>0.651834</td>\n",
       "      <td>244</td>\n",
       "    </tr>\n",
       "    <tr>\n",
       "      <th>2</th>\n",
       "      <td>Tlx3 to L2/3 PC</td>\n",
       "      <td>0.184835</td>\n",
       "      <td>0.090363</td>\n",
       "      <td>-0.012859</td>\n",
       "      <td>0.907015</td>\n",
       "      <td>85</td>\n",
       "    </tr>\n",
       "    <tr>\n",
       "      <th>3</th>\n",
       "      <td>Ntsr1 to L2/3 PC</td>\n",
       "      <td>NaN</td>\n",
       "      <td>NaN</td>\n",
       "      <td>NaN</td>\n",
       "      <td>NaN</td>\n",
       "      <td>1</td>\n",
       "    </tr>\n",
       "    <tr>\n",
       "      <th>4</th>\n",
       "      <td>Penk to L2/3 FSI</td>\n",
       "      <td>-0.351396</td>\n",
       "      <td>0.066712</td>\n",
       "      <td>-0.443350</td>\n",
       "      <td>0.018128</td>\n",
       "      <td>28</td>\n",
       "    </tr>\n",
       "    <tr>\n",
       "      <th>5</th>\n",
       "      <td>Rorb to L2/3 FSI</td>\n",
       "      <td>-0.274783</td>\n",
       "      <td>0.193781</td>\n",
       "      <td>-0.054783</td>\n",
       "      <td>0.799308</td>\n",
       "      <td>24</td>\n",
       "    </tr>\n",
       "    <tr>\n",
       "      <th>6</th>\n",
       "      <td>Tlx3 to L2/3 FSI</td>\n",
       "      <td>0.716667</td>\n",
       "      <td>0.029818</td>\n",
       "      <td>0.566667</td>\n",
       "      <td>0.111633</td>\n",
       "      <td>9</td>\n",
       "    </tr>\n",
       "    <tr>\n",
       "      <th>7</th>\n",
       "      <td>Pvalb to L2/3 PC</td>\n",
       "      <td>0.075556</td>\n",
       "      <td>0.513697</td>\n",
       "      <td>0.170461</td>\n",
       "      <td>0.138288</td>\n",
       "      <td>77</td>\n",
       "    </tr>\n",
       "    <tr>\n",
       "      <th>8</th>\n",
       "      <td>Sst to L2/3 PC</td>\n",
       "      <td>0.185061</td>\n",
       "      <td>0.018393</td>\n",
       "      <td>0.044322</td>\n",
       "      <td>0.575454</td>\n",
       "      <td>162</td>\n",
       "    </tr>\n",
       "    <tr>\n",
       "      <th>9</th>\n",
       "      <td>Pvalb to L2/3 FSI</td>\n",
       "      <td>-0.073186</td>\n",
       "      <td>0.680829</td>\n",
       "      <td>0.043545</td>\n",
       "      <td>0.806824</td>\n",
       "      <td>34</td>\n",
       "    </tr>\n",
       "    <tr>\n",
       "      <th>10</th>\n",
       "      <td>Sst to L2/3 FSI</td>\n",
       "      <td>0.399381</td>\n",
       "      <td>0.100600</td>\n",
       "      <td>0.126935</td>\n",
       "      <td>0.615727</td>\n",
       "      <td>18</td>\n",
       "    </tr>\n",
       "  </tbody>\n",
       "</table>\n",
       "</div>"
      ],
      "text/plain": [
       "     connection class  horizontal Spearman R  horizontal Spearman p  \\\n",
       "0     Penk to L2/3 PC              -0.526471               0.036167   \n",
       "1     Rorb to L2/3 PC               0.079746               0.214513   \n",
       "2     Tlx3 to L2/3 PC               0.184835               0.090363   \n",
       "3    Ntsr1 to L2/3 PC                    NaN                    NaN   \n",
       "4    Penk to L2/3 FSI              -0.351396               0.066712   \n",
       "5    Rorb to L2/3 FSI              -0.274783               0.193781   \n",
       "6    Tlx3 to L2/3 FSI               0.716667               0.029818   \n",
       "7    Pvalb to L2/3 PC               0.075556               0.513697   \n",
       "8      Sst to L2/3 PC               0.185061               0.018393   \n",
       "9   Pvalb to L2/3 FSI              -0.073186               0.680829   \n",
       "10    Sst to L2/3 FSI               0.399381               0.100600   \n",
       "\n",
       "    presyn. pia Spearman R  presyn. pia Spearman p    n  \n",
       "0                -0.505882                0.045582   16  \n",
       "1                 0.029029                0.651834  244  \n",
       "2                -0.012859                0.907015   85  \n",
       "3                      NaN                     NaN    1  \n",
       "4                -0.443350                0.018128   28  \n",
       "5                -0.054783                0.799308   24  \n",
       "6                 0.566667                0.111633    9  \n",
       "7                 0.170461                0.138288   77  \n",
       "8                 0.044322                0.575454  162  \n",
       "9                 0.043545                0.806824   34  \n",
       "10                0.126935                0.615727   18  "
      ]
     },
     "execution_count": 29,
     "metadata": {},
     "output_type": "execute_result"
    }
   ],
   "source": [
    "corr_df"
   ]
  },
  {
   "cell_type": "code",
   "execution_count": 30,
   "metadata": {},
   "outputs": [
    {
     "name": "stderr",
     "output_type": "stream",
     "text": [
      "/var/folders/r_/1r34q4315614mp9bkdvjcjph0000gp/T/ipykernel_17623/1878958519.py:4: SettingWithCopyWarning: \n",
      "A value is trying to be set on a copy of a slice from a DataFrame.\n",
      "Try using .loc[row_indexer,col_indexer] = value instead\n",
      "\n",
      "See the caveats in the documentation: https://pandas.pydata.org/pandas-docs/stable/user_guide/indexing.html#returning-a-view-versus-a-copy\n",
      "  sub['horizontal BH corrected p']=horiz_bh\n",
      "/var/folders/r_/1r34q4315614mp9bkdvjcjph0000gp/T/ipykernel_17623/1878958519.py:5: SettingWithCopyWarning: \n",
      "A value is trying to be set on a copy of a slice from a DataFrame.\n",
      "Try using .loc[row_indexer,col_indexer] = value instead\n",
      "\n",
      "See the caveats in the documentation: https://pandas.pydata.org/pandas-docs/stable/user_guide/indexing.html#returning-a-view-versus-a-copy\n",
      "  sub['pia BH corrected p']=pia_bh\n"
     ]
    },
    {
     "data": {
      "text/html": [
       "<div>\n",
       "<style scoped>\n",
       "    .dataframe tbody tr th:only-of-type {\n",
       "        vertical-align: middle;\n",
       "    }\n",
       "\n",
       "    .dataframe tbody tr th {\n",
       "        vertical-align: top;\n",
       "    }\n",
       "\n",
       "    .dataframe thead th {\n",
       "        text-align: right;\n",
       "    }\n",
       "</style>\n",
       "<table border=\"1\" class=\"dataframe\">\n",
       "  <thead>\n",
       "    <tr style=\"text-align: right;\">\n",
       "      <th></th>\n",
       "      <th>connection class</th>\n",
       "      <th>horizontal Spearman R</th>\n",
       "      <th>horizontal Spearman p</th>\n",
       "      <th>presyn. pia Spearman R</th>\n",
       "      <th>presyn. pia Spearman p</th>\n",
       "      <th>n</th>\n",
       "      <th>horizontal BH corrected p</th>\n",
       "      <th>pia BH corrected p</th>\n",
       "    </tr>\n",
       "  </thead>\n",
       "  <tbody>\n",
       "    <tr>\n",
       "      <th>0</th>\n",
       "      <td>Penk to L2/3 PC</td>\n",
       "      <td>-0.526471</td>\n",
       "      <td>0.036167</td>\n",
       "      <td>-0.505882</td>\n",
       "      <td>0.045582</td>\n",
       "      <td>16</td>\n",
       "      <td>0.120555</td>\n",
       "      <td>0.227908</td>\n",
       "    </tr>\n",
       "    <tr>\n",
       "      <th>1</th>\n",
       "      <td>Rorb to L2/3 PC</td>\n",
       "      <td>0.079746</td>\n",
       "      <td>0.214513</td>\n",
       "      <td>0.029029</td>\n",
       "      <td>0.651834</td>\n",
       "      <td>244</td>\n",
       "      <td>0.268141</td>\n",
       "      <td>0.896471</td>\n",
       "    </tr>\n",
       "    <tr>\n",
       "      <th>2</th>\n",
       "      <td>Tlx3 to L2/3 PC</td>\n",
       "      <td>0.184835</td>\n",
       "      <td>0.090363</td>\n",
       "      <td>-0.012859</td>\n",
       "      <td>0.907015</td>\n",
       "      <td>85</td>\n",
       "      <td>0.167667</td>\n",
       "      <td>0.907015</td>\n",
       "    </tr>\n",
       "    <tr>\n",
       "      <th>4</th>\n",
       "      <td>Penk to L2/3 FSI</td>\n",
       "      <td>-0.351396</td>\n",
       "      <td>0.066712</td>\n",
       "      <td>-0.443350</td>\n",
       "      <td>0.018128</td>\n",
       "      <td>28</td>\n",
       "      <td>0.166779</td>\n",
       "      <td>0.181276</td>\n",
       "    </tr>\n",
       "    <tr>\n",
       "      <th>5</th>\n",
       "      <td>Rorb to L2/3 FSI</td>\n",
       "      <td>-0.274783</td>\n",
       "      <td>0.193781</td>\n",
       "      <td>-0.054783</td>\n",
       "      <td>0.799308</td>\n",
       "      <td>24</td>\n",
       "      <td>0.268141</td>\n",
       "      <td>0.896471</td>\n",
       "    </tr>\n",
       "    <tr>\n",
       "      <th>6</th>\n",
       "      <td>Tlx3 to L2/3 FSI</td>\n",
       "      <td>0.716667</td>\n",
       "      <td>0.029818</td>\n",
       "      <td>0.566667</td>\n",
       "      <td>0.111633</td>\n",
       "      <td>9</td>\n",
       "      <td>0.120555</td>\n",
       "      <td>0.345720</td>\n",
       "    </tr>\n",
       "    <tr>\n",
       "      <th>7</th>\n",
       "      <td>Pvalb to L2/3 PC</td>\n",
       "      <td>0.075556</td>\n",
       "      <td>0.513697</td>\n",
       "      <td>0.170461</td>\n",
       "      <td>0.138288</td>\n",
       "      <td>77</td>\n",
       "      <td>0.570775</td>\n",
       "      <td>0.345720</td>\n",
       "    </tr>\n",
       "    <tr>\n",
       "      <th>8</th>\n",
       "      <td>Sst to L2/3 PC</td>\n",
       "      <td>0.185061</td>\n",
       "      <td>0.018393</td>\n",
       "      <td>0.044322</td>\n",
       "      <td>0.575454</td>\n",
       "      <td>162</td>\n",
       "      <td>0.120555</td>\n",
       "      <td>0.896471</td>\n",
       "    </tr>\n",
       "    <tr>\n",
       "      <th>9</th>\n",
       "      <td>Pvalb to L2/3 FSI</td>\n",
       "      <td>-0.073186</td>\n",
       "      <td>0.680829</td>\n",
       "      <td>0.043545</td>\n",
       "      <td>0.806824</td>\n",
       "      <td>34</td>\n",
       "      <td>0.680829</td>\n",
       "      <td>0.896471</td>\n",
       "    </tr>\n",
       "    <tr>\n",
       "      <th>10</th>\n",
       "      <td>Sst to L2/3 FSI</td>\n",
       "      <td>0.399381</td>\n",
       "      <td>0.100600</td>\n",
       "      <td>0.126935</td>\n",
       "      <td>0.615727</td>\n",
       "      <td>18</td>\n",
       "      <td>0.167667</td>\n",
       "      <td>0.896471</td>\n",
       "    </tr>\n",
       "  </tbody>\n",
       "</table>\n",
       "</div>"
      ],
      "text/plain": [
       "     connection class  horizontal Spearman R  horizontal Spearman p  \\\n",
       "0     Penk to L2/3 PC              -0.526471               0.036167   \n",
       "1     Rorb to L2/3 PC               0.079746               0.214513   \n",
       "2     Tlx3 to L2/3 PC               0.184835               0.090363   \n",
       "4    Penk to L2/3 FSI              -0.351396               0.066712   \n",
       "5    Rorb to L2/3 FSI              -0.274783               0.193781   \n",
       "6    Tlx3 to L2/3 FSI               0.716667               0.029818   \n",
       "7    Pvalb to L2/3 PC               0.075556               0.513697   \n",
       "8      Sst to L2/3 PC               0.185061               0.018393   \n",
       "9   Pvalb to L2/3 FSI              -0.073186               0.680829   \n",
       "10    Sst to L2/3 FSI               0.399381               0.100600   \n",
       "\n",
       "    presyn. pia Spearman R  presyn. pia Spearman p    n  \\\n",
       "0                -0.505882                0.045582   16   \n",
       "1                 0.029029                0.651834  244   \n",
       "2                -0.012859                0.907015   85   \n",
       "4                -0.443350                0.018128   28   \n",
       "5                -0.054783                0.799308   24   \n",
       "6                 0.566667                0.111633    9   \n",
       "7                 0.170461                0.138288   77   \n",
       "8                 0.044322                0.575454  162   \n",
       "9                 0.043545                0.806824   34   \n",
       "10                0.126935                0.615727   18   \n",
       "\n",
       "    horizontal BH corrected p  pia BH corrected p  \n",
       "0                    0.120555            0.227908  \n",
       "1                    0.268141            0.896471  \n",
       "2                    0.167667            0.907015  \n",
       "4                    0.166779            0.181276  \n",
       "5                    0.268141            0.896471  \n",
       "6                    0.120555            0.345720  \n",
       "7                    0.570775            0.345720  \n",
       "8                    0.120555            0.896471  \n",
       "9                    0.680829            0.896471  \n",
       "10                   0.167667            0.896471  "
      ]
     },
     "execution_count": 30,
     "metadata": {},
     "output_type": "execute_result"
    }
   ],
   "source": [
    "sub=corr_df.dropna()\n",
    "horiz_bh= sm.stats.multipletests(sub['horizontal Spearman p'], alpha=0.1, method='fdr_bh', is_sorted=False, returnsorted=False)[1]\n",
    "pia_bh=sm.stats.multipletests(sub['presyn. pia Spearman p'], alpha=0.1, method='fdr_bh', is_sorted=False, returnsorted=False)[1]\n",
    "sub['horizontal BH corrected p']=horiz_bh\n",
    "sub['pia BH corrected p']=pia_bh\n",
    "sub"
   ]
  },
  {
   "cell_type": "code",
   "execution_count": 31,
   "metadata": {},
   "outputs": [],
   "source": [
    "sub.to_csv('outputs/PSP_dist_corr_BH.csv')"
   ]
  },
  {
   "cell_type": "code",
   "execution_count": 32,
   "metadata": {},
   "outputs": [],
   "source": [
    "cnx_classes=['Penk to L2/3 PC', 'Rorb to L2/3 PC',  'Tlx3 to L2/3 PC','Penk to L2/3 FSI','Rorb to L2/3 FSI',\n",
    "            'Tlx3 to L2/3 FSI']\n",
    "measures=['amp. median', 'amp. mean', 'amp. sd', 'skew', 'CV', 'rise2080']\n",
    "df_list=[Penk_L23pyr,Rorb_L23pyr,Tlx3_L23pyr,Penk_L23fsi,Rorb_L23fsi,Tlx3_L23fsi]\n",
    "i=0\n",
    "amp_master=[]\n",
    "rise_master=[]\n",
    "summary_table=np.zeros([len(cnx_classes),len(measures)])\n",
    "for df in df_list:\n",
    "    exc_cnxs=df[df.cnx=='excitatory']\n",
    "    exc_cnxs=exc_cnxs.dropna(subset=['peakOfAvg'])\n",
    "    class_name=cnx_classes[i]\n",
    "    \n",
    "    median=np.median(exc_cnxs.peakOfAvg)\n",
    "    mean=np.mean(exc_cnxs.peakOfAvg)\n",
    "    sd=np.std(exc_cnxs.peakOfAvg)\n",
    "    n=len(exc_cnxs.peakOfAvg)\n",
    "    skew=stats.skew(exc_cnxs.peakOfAvg)\n",
    "    CV=np.nanmean(exc_cnxs.CV)\n",
    "    rise=np.nanmean(exc_cnxs.rise2080)\n",
    "    summary_table[i,:]=np.array([median, mean, sd, skew,CV,rise])\n",
    "    amp_master.append(np.array(exc_cnxs.peakOfAvg))\n",
    "    exc_cnxs_rise=exc_cnxs.dropna(subset=['rise2080'])\n",
    "    rise_master.append(np.array(exc_cnxs_rise.rise2080))\n",
    "    i+=1"
   ]
  },
  {
   "cell_type": "code",
   "execution_count": 33,
   "metadata": {},
   "outputs": [
    {
     "data": {
      "text/plain": [
       "array([[0.14648558, 0.17492532, 0.10443425, 1.29745982, 0.79777858,\n",
       "        1.90934975],\n",
       "       [0.25046769, 0.38333844, 0.41629013, 3.0234951 , 0.63339455,\n",
       "        1.98709483],\n",
       "       [0.30485916, 0.45587488, 0.51368922, 3.20107168, 0.53830818,\n",
       "        1.81302675],\n",
       "       [0.81174159, 1.0026152 , 0.98535925, 1.40749633, 0.89645704,\n",
       "        1.50738839],\n",
       "       [0.40416814, 0.54714776, 0.38246963, 1.30385141, 0.7545124 ,\n",
       "        1.23340415],\n",
       "       [0.43966651, 0.39648871, 0.21703757, 0.17979232, 0.74926864,\n",
       "        1.15995129]])"
      ]
     },
     "execution_count": 33,
     "metadata": {},
     "output_type": "execute_result"
    }
   ],
   "source": [
    "summary_table"
   ]
  },
  {
   "cell_type": "code",
   "execution_count": 34,
   "metadata": {},
   "outputs": [
    {
     "data": {
      "text/plain": [
       "KruskalResult(statistic=9.468106895411525, pvalue=0.00879076581446018)"
      ]
     },
     "execution_count": 34,
     "metadata": {},
     "output_type": "execute_result"
    }
   ],
   "source": [
    "stats.kruskal(np.array(amp_master[0]),np.array(amp_master[1]),np.array(amp_master[2]))"
   ]
  },
  {
   "cell_type": "code",
   "execution_count": 35,
   "metadata": {},
   "outputs": [
    {
     "data": {
      "text/plain": [
       "KruskalResult(statistic=2.478265188284695, pvalue=0.28963534040160543)"
      ]
     },
     "execution_count": 35,
     "metadata": {},
     "output_type": "execute_result"
    }
   ],
   "source": [
    "stats.kruskal(np.array(rise_master[0]),np.array(rise_master[1]),np.array(rise_master[2]))"
   ]
  },
  {
   "cell_type": "code",
   "execution_count": 36,
   "metadata": {},
   "outputs": [
    {
     "data": {
      "text/plain": [
       "KruskalResult(statistic=29.257936648730862, pvalue=2.0636327469436655e-05)"
      ]
     },
     "execution_count": 36,
     "metadata": {},
     "output_type": "execute_result"
    }
   ],
   "source": [
    "args=[l for l in amp_master]\n",
    "stats.kruskal(*args)"
   ]
  },
  {
   "cell_type": "code",
   "execution_count": 37,
   "metadata": {},
   "outputs": [],
   "source": [
    "import scikit_posthocs as sp\n",
    "def Cohens_d(pop1,pop2):\n",
    "    u1=np.mean(pop1)\n",
    "    u2=np.mean(pop2)\n",
    "    s=np.std(np.append(pop1,pop2))\n",
    "    s1=np.std(pop1)\n",
    "    s2=np.std(pop2)\n",
    "    d=(u2-u1)/((0.5*(s1**2+s2**2)))**0.5\n",
    "    return d"
   ]
  },
  {
   "cell_type": "code",
   "execution_count": 38,
   "metadata": {},
   "outputs": [],
   "source": [
    "out_array=np.zeros([6,6])\n",
    "y_array=range(6)\n",
    "x_array=range(6)\n",
    "i=0\n",
    "for y in y_array:\n",
    "    x_array=range(0,6)\n",
    "    for x in x_array:\n",
    "        #print (cnx_classes[y], cnx_classes[x])\n",
    "        d=Cohens_d(args[x],args[y])\n",
    "        #print (d)\n",
    "        out_array[x,y]=d\n",
    "    i+=1"
   ]
  },
  {
   "cell_type": "code",
   "execution_count": 39,
   "metadata": {},
   "outputs": [
    {
     "data": {
      "text/html": [
       "<div>\n",
       "<style scoped>\n",
       "    .dataframe tbody tr th:only-of-type {\n",
       "        vertical-align: middle;\n",
       "    }\n",
       "\n",
       "    .dataframe tbody tr th {\n",
       "        vertical-align: top;\n",
       "    }\n",
       "\n",
       "    .dataframe thead th {\n",
       "        text-align: right;\n",
       "    }\n",
       "</style>\n",
       "<table border=\"1\" class=\"dataframe\">\n",
       "  <thead>\n",
       "    <tr style=\"text-align: right;\">\n",
       "      <th></th>\n",
       "      <th>1</th>\n",
       "      <th>2</th>\n",
       "      <th>3</th>\n",
       "      <th>4</th>\n",
       "      <th>5</th>\n",
       "      <th>6</th>\n",
       "    </tr>\n",
       "  </thead>\n",
       "  <tbody>\n",
       "    <tr>\n",
       "      <th>1</th>\n",
       "      <td>1.000000</td>\n",
       "      <td>0.028032</td>\n",
       "      <td>0.011027</td>\n",
       "      <td>0.000208</td>\n",
       "      <td>0.000771</td>\n",
       "      <td>0.036764</td>\n",
       "    </tr>\n",
       "    <tr>\n",
       "      <th>2</th>\n",
       "      <td>0.028032</td>\n",
       "      <td>1.000000</td>\n",
       "      <td>0.264882</td>\n",
       "      <td>0.001488</td>\n",
       "      <td>0.012435</td>\n",
       "      <td>0.409824</td>\n",
       "    </tr>\n",
       "    <tr>\n",
       "      <th>3</th>\n",
       "      <td>0.011027</td>\n",
       "      <td>0.264882</td>\n",
       "      <td>1.000000</td>\n",
       "      <td>0.028032</td>\n",
       "      <td>0.092089</td>\n",
       "      <td>0.690034</td>\n",
       "    </tr>\n",
       "    <tr>\n",
       "      <th>4</th>\n",
       "      <td>0.000208</td>\n",
       "      <td>0.001488</td>\n",
       "      <td>0.028032</td>\n",
       "      <td>1.000000</td>\n",
       "      <td>0.696673</td>\n",
       "      <td>0.409824</td>\n",
       "    </tr>\n",
       "    <tr>\n",
       "      <th>5</th>\n",
       "      <td>0.000771</td>\n",
       "      <td>0.012435</td>\n",
       "      <td>0.092089</td>\n",
       "      <td>0.696673</td>\n",
       "      <td>1.000000</td>\n",
       "      <td>0.544623</td>\n",
       "    </tr>\n",
       "    <tr>\n",
       "      <th>6</th>\n",
       "      <td>0.036764</td>\n",
       "      <td>0.409824</td>\n",
       "      <td>0.690034</td>\n",
       "      <td>0.409824</td>\n",
       "      <td>0.544623</td>\n",
       "      <td>1.000000</td>\n",
       "    </tr>\n",
       "  </tbody>\n",
       "</table>\n",
       "</div>"
      ],
      "text/plain": [
       "          1         2         3         4         5         6\n",
       "1  1.000000  0.028032  0.011027  0.000208  0.000771  0.036764\n",
       "2  0.028032  1.000000  0.264882  0.001488  0.012435  0.409824\n",
       "3  0.011027  0.264882  1.000000  0.028032  0.092089  0.690034\n",
       "4  0.000208  0.001488  0.028032  1.000000  0.696673  0.409824\n",
       "5  0.000771  0.012435  0.092089  0.696673  1.000000  0.544623\n",
       "6  0.036764  0.409824  0.690034  0.409824  0.544623  1.000000"
      ]
     },
     "execution_count": 39,
     "metadata": {},
     "output_type": "execute_result"
    }
   ],
   "source": [
    "exc_dunn=sp.posthoc_dunn(args,p_adjust='fdr_bh')\n",
    "exc_dunn"
   ]
  },
  {
   "cell_type": "code",
   "execution_count": 40,
   "metadata": {
    "scrolled": true
   },
   "outputs": [
    {
     "data": {
      "text/plain": [
       "([<matplotlib.axis.YTick at 0x7ffbda1217f0>,\n",
       "  <matplotlib.axis.YTick at 0x7ffbda11bfa0>,\n",
       "  <matplotlib.axis.YTick at 0x7ffbda17bf70>,\n",
       "  <matplotlib.axis.YTick at 0x7ffbda192c10>,\n",
       "  <matplotlib.axis.YTick at 0x7ffbda1983a0>,\n",
       "  <matplotlib.axis.YTick at 0x7ffbda198af0>],\n",
       " [Text(0, 0.5, 'Penk to L2/3 PC'),\n",
       "  Text(0, 1.5, 'Rorb to L2/3 PC'),\n",
       "  Text(0, 2.5, 'Tlx3 to L2/3 PC'),\n",
       "  Text(0, 3.5, 'Penk to L2/3 FSI'),\n",
       "  Text(0, 4.5, 'Rorb to L2/3 FSI'),\n",
       "  Text(0, 5.5, 'Tlx3 to L2/3 FSI')])"
      ]
     },
     "execution_count": 40,
     "metadata": {},
     "output_type": "execute_result"
    },
    {
     "data": {
      "image/png": "[encoded data removed]",
      "text/plain": [
       "<Figure size 432x288 with 2 Axes>"
      ]
     },
     "metadata": {
      "needs_background": "light"
     },
     "output_type": "display_data"
    }
   ],
   "source": [
    "##excitatory amp comparison table\n",
    "sns.heatmap(np.transpose(out_array),cmap='vlag',square=True, annot=exc_dunn, cbar_kws={'label': \"Cohen's d\"})\n",
    "plt.xticks([0.5,1.5,2.5,3.5,4.5,5.5], cnx_classes, rotation='vertical')\n",
    "plt.yticks([0.5,1.5,2.5,3.5,4.5,5.5], cnx_classes, rotation='horizontal')\n",
    "#plt.savefig('exc_amp_comparison_table.svg')"
   ]
  },
  {
   "cell_type": "code",
   "execution_count": 41,
   "metadata": {},
   "outputs": [
    {
     "name": "stdout",
     "output_type": "stream",
     "text": [
      "KruskalResult(statistic=35.290930963181836, pvalue=1.3163029875176739e-06)\n"
     ]
    },
    {
     "data": {
      "text/plain": [
       "([<matplotlib.axis.YTick at 0x7ffbda43e220>,\n",
       "  <matplotlib.axis.YTick at 0x7ffbda437a60>,\n",
       "  <matplotlib.axis.YTick at 0x7ffbda252bb0>,\n",
       "  <matplotlib.axis.YTick at 0x7ffbda4a5e20>,\n",
       "  <matplotlib.axis.YTick at 0x7ffbda4ab5b0>,\n",
       "  <matplotlib.axis.YTick at 0x7ffbda4abd00>],\n",
       " [Text(0, 0.5, 'Penk to L2/3 PC'),\n",
       "  Text(0, 1.5, 'Rorb to L2/3 PC'),\n",
       "  Text(0, 2.5, 'Tlx3 to L2/3 PC'),\n",
       "  Text(0, 3.5, 'Penk to L2/3 FSI'),\n",
       "  Text(0, 4.5, 'Rorb to L2/3 FSI'),\n",
       "  Text(0, 5.5, 'Tlx3 to L2/3 FSI')])"
      ]
     },
     "execution_count": 41,
     "metadata": {},
     "output_type": "execute_result"
    },
    {
     "data": {
      "image/png": "[encoded data removed]",
      "text/plain": [
       "<Figure size 432x288 with 2 Axes>"
      ]
     },
     "metadata": {
      "needs_background": "light"
     },
     "output_type": "display_data"
    }
   ],
   "source": [
    "args=[l for l in rise_master]\n",
    "print (stats.kruskal(*args))\n",
    "out_array=np.zeros([6,6])\n",
    "y_array=range(6)\n",
    "x_array=range(6)\n",
    "i=0\n",
    "for y in y_array:\n",
    "    x_array=range(0,6)\n",
    "    for x in x_array:\n",
    "        #print cnx_classes[y], cnx_classes[x]\n",
    "        d=Cohens_d(args[x],args[y])\n",
    "        #print d\n",
    "        out_array[x,y]=d\n",
    "    i+=1\n",
    "    \n",
    "out_array[out_array == 0] ='nan'\n",
    "exc_dunn_rise=sp.posthoc_dunn(args,p_adjust='fdr_bh')\n",
    "sns.heatmap(np.transpose(out_array),cmap='vlag',square=True, annot=exc_dunn_rise, cbar_kws={'label': \"Cohen's d\"})\n",
    "plt.xticks([0.5,1.5,2.5,3.5,4.5,5.5], cnx_classes, rotation='vertical')\n",
    "plt.yticks([0.5,1.5,2.5,3.5,4.5,5.5], cnx_classes, rotation='horizontal')\n",
    "#plt.savefig('exc_rise_comparison_table.svg')"
   ]
  },
  {
   "cell_type": "code",
   "execution_count": 42,
   "metadata": {},
   "outputs": [
    {
     "name": "stdout",
     "output_type": "stream",
     "text": [
      "Pvalb to L2/3 PC 0.27224353 0.40668365346753255 0.44533027803224023 1.96944969542753 0.5849427918181819 2.9804102412987015\n",
      "Sst to L2/3 PC 0.11460514 0.15968361426543207 0.12729008641993256 2.3504668055929354 0.8494139724691359 4.027286719135803\n",
      "Pvalb to L2/3 Pvalb 0.15507073999999998 0.2209873559642857 0.18831560270146208 2.5472037579825466 0.7616326335714287 2.1017170464285715\n",
      "Sst to L2/3 FSI 0.194480255 0.33799078427777773 0.4207139294598545 2.3841976129283746 0.751002473888889 2.726183394444445\n"
     ]
    }
   ],
   "source": [
    "cnx_classes=['Pvalb to L2/3 PC', 'Sst to L2/3 PC',  'Pvalb to L2/3 Pvalb','Sst to L2/3 FSI']\n",
    "measures=['amp. median', 'amp. mean', 'amp. sd', 'skew', 'CV', 'rise2080']\n",
    "Pvalb_Pvalb_sub=Pvalb_Pvalb[Pvalb_Pvalb.xyz_dist>100]\n",
    "df_list=[Pvalb_L23pyr,Sst_L23pyr,Pvalb_Pvalb_sub,Sst_L23fsi]\n",
    "i=0\n",
    "amp_master=[]\n",
    "rise_master=[]\n",
    "summary_table=np.zeros([len(cnx_classes),len(measures)])\n",
    "for df in df_list:\n",
    "    inh_cnxs=df[df.cnx=='inhibitory']\n",
    "    inh_cnxs=inh_cnxs.dropna(subset=['peakOfAvg'])\n",
    "    class_name=cnx_classes[i]\n",
    "    \n",
    "    median=np.median(inh_cnxs.peakOfAvg*-1)\n",
    "    mean=np.mean(inh_cnxs.peakOfAvg*-1)\n",
    "    sd=np.std(inh_cnxs.peakOfAvg*-1)\n",
    "    n=len(inh_cnxs.peakOfAvg)\n",
    "    skew=stats.skew(inh_cnxs.peakOfAvg*-1)\n",
    "    CV=np.nanmean(inh_cnxs.CV)\n",
    "    rise=np.nanmean(inh_cnxs.rise2080)\n",
    "    print (class_name, median, mean ,sd, skew,CV,rise)\n",
    "    summary_table[i,:]=np.array([median, mean, sd, skew,CV,rise])\n",
    "    amp_master.append(np.array(inh_cnxs.peakOfAvg*-1))\n",
    "    inh_cnxs_rise=inh_cnxs.dropna(subset=['rise2080'])\n",
    "    rise_master.append(np.array(inh_cnxs_rise.rise2080))\n",
    "    i+=1"
   ]
  },
  {
   "cell_type": "code",
   "execution_count": 43,
   "metadata": {},
   "outputs": [
    {
     "data": {
      "text/plain": [
       "KruskalResult(statistic=30.18137868393046, pvalue=1.2639814212761591e-06)"
      ]
     },
     "execution_count": 43,
     "metadata": {},
     "output_type": "execute_result"
    }
   ],
   "source": [
    "args=[l for l in amp_master]\n",
    "stats.kruskal(*args)"
   ]
  },
  {
   "cell_type": "code",
   "execution_count": 44,
   "metadata": {},
   "outputs": [
    {
     "data": {
      "text/plain": [
       "KruskalResult(statistic=41.793097339190126, pvalue=4.438931766124997e-09)"
      ]
     },
     "execution_count": 44,
     "metadata": {},
     "output_type": "execute_result"
    }
   ],
   "source": [
    "args=[l for l in rise_master]\n",
    "stats.kruskal(*args)"
   ]
  },
  {
   "cell_type": "code",
   "execution_count": 45,
   "metadata": {},
   "outputs": [],
   "source": [
    "out_array=np.zeros([4,4])\n",
    "y_array=range(4)\n",
    "x_array=range(4)\n",
    "i=0\n",
    "for y in y_array:\n",
    "    x_array=range(0,4)\n",
    "    for x in x_array:\n",
    "        \n",
    "        d=Cohens_d(args[x],args[y])\n",
    "        out_array[x,y]=d\n",
    "    i+=1"
   ]
  },
  {
   "cell_type": "code",
   "execution_count": 46,
   "metadata": {},
   "outputs": [
    {
     "data": {
      "text/html": [
       "<div>\n",
       "<style scoped>\n",
       "    .dataframe tbody tr th:only-of-type {\n",
       "        vertical-align: middle;\n",
       "    }\n",
       "\n",
       "    .dataframe tbody tr th {\n",
       "        vertical-align: top;\n",
       "    }\n",
       "\n",
       "    .dataframe thead th {\n",
       "        text-align: right;\n",
       "    }\n",
       "</style>\n",
       "<table border=\"1\" class=\"dataframe\">\n",
       "  <thead>\n",
       "    <tr style=\"text-align: right;\">\n",
       "      <th></th>\n",
       "      <th>1</th>\n",
       "      <th>2</th>\n",
       "      <th>3</th>\n",
       "      <th>4</th>\n",
       "    </tr>\n",
       "  </thead>\n",
       "  <tbody>\n",
       "    <tr>\n",
       "      <th>1</th>\n",
       "      <td>1.000000</td>\n",
       "      <td>5.612595e-04</td>\n",
       "      <td>4.776047e-03</td>\n",
       "      <td>0.771579</td>\n",
       "    </tr>\n",
       "    <tr>\n",
       "      <th>2</th>\n",
       "      <td>0.000561</td>\n",
       "      <td>1.000000e+00</td>\n",
       "      <td>3.941899e-08</td>\n",
       "      <td>0.025462</td>\n",
       "    </tr>\n",
       "    <tr>\n",
       "      <th>3</th>\n",
       "      <td>0.004776</td>\n",
       "      <td>3.941899e-08</td>\n",
       "      <td>1.000000e+00</td>\n",
       "      <td>0.059018</td>\n",
       "    </tr>\n",
       "    <tr>\n",
       "      <th>4</th>\n",
       "      <td>0.771579</td>\n",
       "      <td>2.546237e-02</td>\n",
       "      <td>5.901849e-02</td>\n",
       "      <td>1.000000</td>\n",
       "    </tr>\n",
       "  </tbody>\n",
       "</table>\n",
       "</div>"
      ],
      "text/plain": [
       "          1             2             3         4\n",
       "1  1.000000  5.612595e-04  4.776047e-03  0.771579\n",
       "2  0.000561  1.000000e+00  3.941899e-08  0.025462\n",
       "3  0.004776  3.941899e-08  1.000000e+00  0.059018\n",
       "4  0.771579  2.546237e-02  5.901849e-02  1.000000"
      ]
     },
     "execution_count": 46,
     "metadata": {},
     "output_type": "execute_result"
    }
   ],
   "source": [
    "inh_dunn=sp.posthoc_dunn(args,p_adjust='fdr_bh')\n",
    "inh_dunn"
   ]
  },
  {
   "cell_type": "code",
   "execution_count": 47,
   "metadata": {},
   "outputs": [
    {
     "data": {
      "text/plain": [
       "([<matplotlib.axis.YTick at 0x7ffbda5106d0>,\n",
       "  <matplotlib.axis.YTick at 0x7ffbda4be3d0>,\n",
       "  <matplotlib.axis.YTick at 0x7ffbdab6c910>,\n",
       "  <matplotlib.axis.YTick at 0x7ffbda625e80>],\n",
       " [Text(0, 0.5, 'Pvalb to L2/3 PC'),\n",
       "  Text(0, 1.5, 'Sst to L2/3 PC'),\n",
       "  Text(0, 2.5, 'Pvalb to L2/3 Pvalb'),\n",
       "  Text(0, 3.5, 'Sst to L2/3 FSI')])"
      ]
     },
     "execution_count": 47,
     "metadata": {},
     "output_type": "execute_result"
    },
    {
     "data": {
      "image/png": "[encoded data removed]",
      "text/plain": [
       "<Figure size 432x288 with 2 Axes>"
      ]
     },
     "metadata": {
      "needs_background": "light"
     },
     "output_type": "display_data"
    }
   ],
   "source": [
    "\n",
    "sns.heatmap(np.transpose(out_array),cmap='vlag',square=True, annot=inh_dunn, cbar_kws={'label': \"Cohen's d\"})\n",
    "plt.xticks([0.5,1.5,2.5,3.5], cnx_classes, rotation='vertical')\n",
    "plt.yticks([0.5,1.5,2.5,3.5], cnx_classes, rotation='horizontal')\n",
    "#plt.savefig('inh_amp_comparison_table.svg')"
   ]
  },
  {
   "cell_type": "code",
   "execution_count": 48,
   "metadata": {},
   "outputs": [
    {
     "data": {
      "text/plain": [
       "([<matplotlib.axis.YTick at 0x7ffbdb0a82e0>,\n",
       "  <matplotlib.axis.YTick at 0x7ffbda688b20>,\n",
       "  <matplotlib.axis.YTick at 0x7ffbdb140e20>,\n",
       "  <matplotlib.axis.YTick at 0x7ffbdb159490>],\n",
       " [Text(0, 0.5, 'Pvalb to L2/3 PC'),\n",
       "  Text(0, 1.5, 'Sst to L2/3 PC'),\n",
       "  Text(0, 2.5, 'Pvalb to L2/3 Pvalb'),\n",
       "  Text(0, 3.5, 'Sst to L2/3 FSI')])"
      ]
     },
     "execution_count": 48,
     "metadata": {},
     "output_type": "execute_result"
    },
    {
     "data": {
      "image/png": "[encoded data removed]",
      "text/plain": [
       "<Figure size 432x288 with 2 Axes>"
      ]
     },
     "metadata": {
      "needs_background": "light"
     },
     "output_type": "display_data"
    }
   ],
   "source": [
    "args=[l for l in rise_master]\n",
    "stats.kruskal(*args)\n",
    "out_array=np.zeros([4,4])\n",
    "y_array=range(4)\n",
    "x_array=range(4)\n",
    "i=0\n",
    "for y in y_array:\n",
    "    x_array=range(0,4)\n",
    "    for x in x_array:\n",
    "        \n",
    "        d=Cohens_d(args[x],args[y])\n",
    "        \n",
    "        out_array[x,y]=d\n",
    "    i+=1\n",
    "    \n",
    "out_array[out_array == 0] ='nan'\n",
    "inh_dunn_rise=sp.posthoc_dunn(args,p_adjust='fdr_bh')\n",
    "sns.heatmap(np.transpose(out_array),cmap='vlag',square=True, annot=inh_dunn_rise, cbar_kws={'label': \"Cohen's d\"})\n",
    "plt.xticks([0.5,1.5,2.5,3.5], cnx_classes, rotation='vertical')\n",
    "plt.yticks([0.5,1.5,2.5,3.5], cnx_classes, rotation='horizontal')\n",
    "#plt.savefig('inh_rise_comparison_table.svg')"
   ]
  },
  {
   "cell_type": "code",
   "execution_count": 49,
   "metadata": {},
   "outputs": [
    {
     "data": {
      "image/png": "[encoded data removed]",
      "text/plain": [
       "<Figure size 144x144 with 1 Axes>"
      ]
     },
     "metadata": {
      "needs_background": "light"
     },
     "output_type": "display_data"
    },
    {
     "data": {
      "image/png": "[encoded data removed]",
      "text/plain": [
       "<Figure size 144x144 with 1 Axes>"
      ]
     },
     "metadata": {
      "needs_background": "light"
     },
     "output_type": "display_data"
    }
   ],
   "source": [
    "df=standard_df\n",
    "df=df[df.cnx=='excitatory']\n",
    "df=df.dropna(subset=['jitter'])\n",
    "fig, ax= plt.subplots()\n",
    "ax.hist(df.jitter,edgecolor='darkblue',facecolor='skyblue',alpha=0.8,density=True)\n",
    "ax.set_xlabel('jitter of EPSP peak (ms)')\n",
    "ax.set_ylabel('prob. density')\n",
    "ax.tick_params(axis='both', which='both', labelsize=10, direction='out')\n",
    "ax.spines['right'].set_visible(False)\n",
    "ax.spines['left'].set_visible(True)\n",
    "ax.spines['top'].set_visible(False)\n",
    "ax.yaxis.set_ticks_position('left')\n",
    "ax.xaxis.set_ticks_position('bottom')\n",
    "ax.yaxis.set_major_formatter(FormatStrFormatter('%g'))\n",
    "ax.xaxis.set_major_locator(plt.MaxNLocator(3))\n",
    "ax.yaxis.set_major_locator(plt.MaxNLocator(3))\n",
    "ax.axes.xaxis.set_visible(True)\n",
    "\n",
    "fig.set_figheight(2)\n",
    "fig.set_figwidth(2)\n",
    "#plt.savefig('EPSP_jitter_hist.svg')\n",
    "plt.show()\n",
    "\n",
    "fig, ax = plt.subplots()\n",
    "bins=np.arange(0,45,1)\n",
    "ax.hist(df.timeOfPeak,bins=bins)\n",
    "ax.set_xlabel('latency of EPSP peak (ms)')\n",
    "ax.set_ylabel('# of connections')\n",
    "ax.tick_params(axis='both', which='both', labelsize=10, direction='out')\n",
    "ax.spines['right'].set_visible(False)\n",
    "ax.spines['left'].set_visible(True)\n",
    "ax.spines['top'].set_visible(False)\n",
    "ax.yaxis.set_ticks_position('left')\n",
    "ax.xaxis.set_ticks_position('bottom')\n",
    "ax.yaxis.set_major_formatter(FormatStrFormatter('%g'))\n",
    "ax.xaxis.set_major_locator(plt.MaxNLocator(3))\n",
    "ax.axes.xaxis.set_visible(True)\n",
    "ax.set_xlim(0,40)\n",
    "fig.set_figheight(2)\n",
    "fig.set_figwidth(2)\n",
    "#plt.savefig('EPSP_latency_hist.svg')\n",
    "plt.show()\n"
   ]
  },
  {
   "cell_type": "code",
   "execution_count": null,
   "metadata": {},
   "outputs": [],
   "source": []
  }
 ],
 "metadata": {
  "kernelspec": {
   "display_name": "Python 3 (ipykernel)",
   "language": "python",
   "name": "python3"
  },
  "language_info": {
   "codemirror_mode": {
    "name": "ipython",
    "version": 3
   },
   "file_extension": ".py",
   "mimetype": "text/x-python",
   "name": "python",
   "nbconvert_exporter": "python",
   "pygments_lexer": "ipython3",
   "version": "3.9.5"
  }
 },
 "nbformat": 4,
 "nbformat_minor": 2
}
