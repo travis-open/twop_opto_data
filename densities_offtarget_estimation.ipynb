{
 "cells": [
  {
   "cell_type": "code",
   "execution_count": 1,
   "metadata": {},
   "outputs": [],
   "source": [
    "import pandas as pd\n",
    "import numpy as np\n",
    "from matplotlib import pyplot as plt\n",
    "import matplotlib as mpl\n",
    "from scipy.interpolate import interp1d\n",
    "import scipy.stats as stats\n",
    "from scipy.stats import norm\n",
    "import math\n",
    "import os\n",
    "import sys\n",
    "import random\n",
    "from mpl_toolkits.mplot3d import Axes3D\n",
    "from matplotlib.ticker import FormatStrFormatter\n",
    "import statsmodels.api as sm\n",
    "import opto_util as opto"
   ]
  },
  {
   "cell_type": "code",
   "execution_count": 2,
   "metadata": {},
   "outputs": [],
   "source": [
    "plt.rcParams.update({\n",
    "    'font.sans-serif': 'arial',\n",
    "    'font.family': 'sans-serif'\n",
    "})"
   ]
  },
  {
   "cell_type": "code",
   "execution_count": 3,
   "metadata": {},
   "outputs": [],
   "source": [
    "def add_names(sheet_df):\n",
    "    c_names = ['cell','area', 'mean', 'min', 'max', 'x', 'y', 'slice']\n",
    "    \n",
    "    if sheet_df.columns[1] == 'Unnamed: 1':\n",
    "        sheet_df.columns = c_names\n",
    "    return sheet_df\n",
    "\n",
    "def measure_z_stack(stack_df):\n",
    "    count = np.shape(stack_df)[0]\n",
    "    \n",
    "    min_x = np.min(stack_df.x)\n",
    "    max_x = np.max(stack_df.x)\n",
    "    min_y = np.min(stack_df.y)\n",
    "    max_y = np.max(stack_df.y)\n",
    "    min_z = np.min(stack_df.slice)\n",
    "    max_z = np.max(stack_df.slice)\n",
    "    volume = (max_x-min_x)/1000*(max_y-min_y)/1000*(max_z-min_z)/1000\n",
    "    volume = max_x/1000*max_y/1000*max_z/1000\n",
    "    density = count/volume\n",
    "    summary_dict = {'min_x':min_x,'max_x':max_x,'min_y':min_y,'max_y':max_y,'min_z':min_z,'max_z':max_z,\n",
    "                   'volume':volume,'count':count,'density':density}\n",
    "    return summary_dict\n",
    "\n",
    "def Cre_df_from_xls(xls_file):\n",
    "    xls = pd.ExcelFile(xls_file)\n",
    "    dict_list=[]\n",
    "    for sheet_name in xls.sheet_names:\n",
    "    \n",
    "        sheet_df = xls.parse(sheet_name)\n",
    "        sheet_df = add_names(sheet_df)\n",
    "        dic=measure_z_stack(sheet_df)\n",
    "        dic['sheet_name']=sheet_name\n",
    "        dict_list.append(dic)\n",
    "    return pd.DataFrame(dict_list)"
   ]
  },
  {
   "cell_type": "code",
   "execution_count": 4,
   "metadata": {},
   "outputs": [],
   "source": [
    "PenkKv_df = Cre_df_from_xls('cell_locations/penk_kv_z_stacks.xlsx')\n",
    "RorbKv_df = Cre_df_from_xls('cell_locations/rorb_kv_z_stacks.xlsx')\n",
    "RorbAi_df = Cre_df_from_xls('cell_locations/rorb_ai167_z_stacks.xlsx')\n",
    "Tlx3Kv_df = Cre_df_from_xls('cell_locations/tlx3_kv_z_stacks.xlsx')\n",
    "Ntsr1Ai_df = Cre_df_from_xls('cell_locations/ntsr1_ai167_z_stacks.xlsx')\n",
    "PvalbKv_df = Cre_df_from_xls('cell_locations/pvalb_kv_z_stacks.xlsx')\n",
    "SstAi_df = Cre_df_from_xls('cell_locations/sst_ai167_z_stacks.xlsx')\n",
    "SstKv_df = Cre_df_from_xls('cell_locations/sst_kv_z_stacks.xlsx')\n",
    "Scnn1a_df = Cre_df_from_xls('cell_locations/scnn1a_ai167_z_stacks.xlsx')\n"
   ]
  },
  {
   "cell_type": "code",
   "execution_count": 5,
   "metadata": {},
   "outputs": [
    {
     "data": {
      "text/html": [
       "<div>\n",
       "<style scoped>\n",
       "    .dataframe tbody tr th:only-of-type {\n",
       "        vertical-align: middle;\n",
       "    }\n",
       "\n",
       "    .dataframe tbody tr th {\n",
       "        vertical-align: top;\n",
       "    }\n",
       "\n",
       "    .dataframe thead th {\n",
       "        text-align: right;\n",
       "    }\n",
       "</style>\n",
       "<table border=\"1\" class=\"dataframe\">\n",
       "  <thead>\n",
       "    <tr style=\"text-align: right;\">\n",
       "      <th></th>\n",
       "      <th>min_x</th>\n",
       "      <th>max_x</th>\n",
       "      <th>min_y</th>\n",
       "      <th>max_y</th>\n",
       "      <th>min_z</th>\n",
       "      <th>max_z</th>\n",
       "      <th>volume</th>\n",
       "      <th>count</th>\n",
       "      <th>density</th>\n",
       "      <th>sheet_name</th>\n",
       "    </tr>\n",
       "  </thead>\n",
       "  <tbody>\n",
       "    <tr>\n",
       "      <th>0</th>\n",
       "      <td>7.583</td>\n",
       "      <td>285.222</td>\n",
       "      <td>7.583</td>\n",
       "      <td>288.139</td>\n",
       "      <td>11.0</td>\n",
       "      <td>140.0</td>\n",
       "      <td>0.011506</td>\n",
       "      <td>115</td>\n",
       "      <td>9995.044665</td>\n",
       "      <td>03232020_049</td>\n",
       "    </tr>\n",
       "    <tr>\n",
       "      <th>1</th>\n",
       "      <td>6.416</td>\n",
       "      <td>288.139</td>\n",
       "      <td>16.915</td>\n",
       "      <td>290.472</td>\n",
       "      <td>15.0</td>\n",
       "      <td>121.0</td>\n",
       "      <td>0.010127</td>\n",
       "      <td>49</td>\n",
       "      <td>4838.429196</td>\n",
       "      <td>05282020_113</td>\n",
       "    </tr>\n",
       "    <tr>\n",
       "      <th>2</th>\n",
       "      <td>2.333</td>\n",
       "      <td>281.139</td>\n",
       "      <td>22.748</td>\n",
       "      <td>271.807</td>\n",
       "      <td>1.0</td>\n",
       "      <td>132.0</td>\n",
       "      <td>0.010087</td>\n",
       "      <td>90</td>\n",
       "      <td>8922.505931</td>\n",
       "      <td>03232020_050</td>\n",
       "    </tr>\n",
       "    <tr>\n",
       "      <th>3</th>\n",
       "      <td>3.500</td>\n",
       "      <td>289.305</td>\n",
       "      <td>106.740</td>\n",
       "      <td>285.222</td>\n",
       "      <td>1.0</td>\n",
       "      <td>72.0</td>\n",
       "      <td>0.005941</td>\n",
       "      <td>60</td>\n",
       "      <td>10099.033052</td>\n",
       "      <td>05282020_134</td>\n",
       "    </tr>\n",
       "    <tr>\n",
       "      <th>4</th>\n",
       "      <td>3.500</td>\n",
       "      <td>273.557</td>\n",
       "      <td>65.910</td>\n",
       "      <td>288.139</td>\n",
       "      <td>1.0</td>\n",
       "      <td>56.0</td>\n",
       "      <td>0.004414</td>\n",
       "      <td>39</td>\n",
       "      <td>8835.409912</td>\n",
       "      <td>05282020_137</td>\n",
       "    </tr>\n",
       "    <tr>\n",
       "      <th>5</th>\n",
       "      <td>4.083</td>\n",
       "      <td>274.723</td>\n",
       "      <td>5.833</td>\n",
       "      <td>294.555</td>\n",
       "      <td>1.0</td>\n",
       "      <td>112.0</td>\n",
       "      <td>0.009063</td>\n",
       "      <td>93</td>\n",
       "      <td>10261.326498</td>\n",
       "      <td>05282020_138</td>\n",
       "    </tr>\n",
       "    <tr>\n",
       "      <th>6</th>\n",
       "      <td>7.583</td>\n",
       "      <td>296.888</td>\n",
       "      <td>16.915</td>\n",
       "      <td>286.389</td>\n",
       "      <td>1.0</td>\n",
       "      <td>94.0</td>\n",
       "      <td>0.007992</td>\n",
       "      <td>86</td>\n",
       "      <td>10760.231637</td>\n",
       "      <td>05282020_144</td>\n",
       "    </tr>\n",
       "    <tr>\n",
       "      <th>7</th>\n",
       "      <td>4.666</td>\n",
       "      <td>296.304</td>\n",
       "      <td>31.497</td>\n",
       "      <td>289.305</td>\n",
       "      <td>7.0</td>\n",
       "      <td>72.0</td>\n",
       "      <td>0.006172</td>\n",
       "      <td>52</td>\n",
       "      <td>8425.145181</td>\n",
       "      <td>05282020_145</td>\n",
       "    </tr>\n",
       "    <tr>\n",
       "      <th>8</th>\n",
       "      <td>7.583</td>\n",
       "      <td>293.388</td>\n",
       "      <td>6.999</td>\n",
       "      <td>242.060</td>\n",
       "      <td>1.0</td>\n",
       "      <td>87.0</td>\n",
       "      <td>0.006179</td>\n",
       "      <td>67</td>\n",
       "      <td>10844.016620</td>\n",
       "      <td>05282020_146</td>\n",
       "    </tr>\n",
       "    <tr>\n",
       "      <th>9</th>\n",
       "      <td>1.750</td>\n",
       "      <td>282.306</td>\n",
       "      <td>2.333</td>\n",
       "      <td>275.890</td>\n",
       "      <td>1.0</td>\n",
       "      <td>83.0</td>\n",
       "      <td>0.006464</td>\n",
       "      <td>76</td>\n",
       "      <td>11756.537465</td>\n",
       "      <td>05282020_161</td>\n",
       "    </tr>\n",
       "    <tr>\n",
       "      <th>10</th>\n",
       "      <td>6.416</td>\n",
       "      <td>292.222</td>\n",
       "      <td>1.750</td>\n",
       "      <td>259.558</td>\n",
       "      <td>1.0</td>\n",
       "      <td>95.0</td>\n",
       "      <td>0.007206</td>\n",
       "      <td>89</td>\n",
       "      <td>12351.482105</td>\n",
       "      <td>05282020_162</td>\n",
       "    </tr>\n",
       "    <tr>\n",
       "      <th>11</th>\n",
       "      <td>2.333</td>\n",
       "      <td>236.810</td>\n",
       "      <td>12.832</td>\n",
       "      <td>288.722</td>\n",
       "      <td>4.0</td>\n",
       "      <td>62.0</td>\n",
       "      <td>0.004239</td>\n",
       "      <td>29</td>\n",
       "      <td>6841.107157</td>\n",
       "      <td>05282020_163</td>\n",
       "    </tr>\n",
       "    <tr>\n",
       "      <th>12</th>\n",
       "      <td>4.666</td>\n",
       "      <td>288.722</td>\n",
       "      <td>35.580</td>\n",
       "      <td>249.059</td>\n",
       "      <td>1.0</td>\n",
       "      <td>55.0</td>\n",
       "      <td>0.003955</td>\n",
       "      <td>40</td>\n",
       "      <td>10113.819169</td>\n",
       "      <td>10302020_235</td>\n",
       "    </tr>\n",
       "    <tr>\n",
       "      <th>13</th>\n",
       "      <td>6.999</td>\n",
       "      <td>285.222</td>\n",
       "      <td>69.993</td>\n",
       "      <td>252.559</td>\n",
       "      <td>1.0</td>\n",
       "      <td>85.0</td>\n",
       "      <td>0.006123</td>\n",
       "      <td>38</td>\n",
       "      <td>6206.100451</td>\n",
       "      <td>10302020_236</td>\n",
       "    </tr>\n",
       "    <tr>\n",
       "      <th>14</th>\n",
       "      <td>4.666</td>\n",
       "      <td>294.555</td>\n",
       "      <td>49.578</td>\n",
       "      <td>267.724</td>\n",
       "      <td>1.0</td>\n",
       "      <td>154.0</td>\n",
       "      <td>0.012144</td>\n",
       "      <td>104</td>\n",
       "      <td>8563.650099</td>\n",
       "      <td>05272020_051</td>\n",
       "    </tr>\n",
       "    <tr>\n",
       "      <th>15</th>\n",
       "      <td>2.333</td>\n",
       "      <td>296.888</td>\n",
       "      <td>18.665</td>\n",
       "      <td>287.555</td>\n",
       "      <td>14.0</td>\n",
       "      <td>129.0</td>\n",
       "      <td>0.011013</td>\n",
       "      <td>110</td>\n",
       "      <td>9988.250077</td>\n",
       "      <td>05272020_052</td>\n",
       "    </tr>\n",
       "    <tr>\n",
       "      <th>16</th>\n",
       "      <td>4.083</td>\n",
       "      <td>295.721</td>\n",
       "      <td>5.833</td>\n",
       "      <td>297.471</td>\n",
       "      <td>1.0</td>\n",
       "      <td>149.0</td>\n",
       "      <td>0.013107</td>\n",
       "      <td>112</td>\n",
       "      <td>8544.860062</td>\n",
       "      <td>05272020_053</td>\n",
       "    </tr>\n",
       "  </tbody>\n",
       "</table>\n",
       "</div>"
      ],
      "text/plain": [
       "    min_x    max_x    min_y    max_y  min_z  max_z    volume  count  \\\n",
       "0   7.583  285.222    7.583  288.139   11.0  140.0  0.011506    115   \n",
       "1   6.416  288.139   16.915  290.472   15.0  121.0  0.010127     49   \n",
       "2   2.333  281.139   22.748  271.807    1.0  132.0  0.010087     90   \n",
       "3   3.500  289.305  106.740  285.222    1.0   72.0  0.005941     60   \n",
       "4   3.500  273.557   65.910  288.139    1.0   56.0  0.004414     39   \n",
       "5   4.083  274.723    5.833  294.555    1.0  112.0  0.009063     93   \n",
       "6   7.583  296.888   16.915  286.389    1.0   94.0  0.007992     86   \n",
       "7   4.666  296.304   31.497  289.305    7.0   72.0  0.006172     52   \n",
       "8   7.583  293.388    6.999  242.060    1.0   87.0  0.006179     67   \n",
       "9   1.750  282.306    2.333  275.890    1.0   83.0  0.006464     76   \n",
       "10  6.416  292.222    1.750  259.558    1.0   95.0  0.007206     89   \n",
       "11  2.333  236.810   12.832  288.722    4.0   62.0  0.004239     29   \n",
       "12  4.666  288.722   35.580  249.059    1.0   55.0  0.003955     40   \n",
       "13  6.999  285.222   69.993  252.559    1.0   85.0  0.006123     38   \n",
       "14  4.666  294.555   49.578  267.724    1.0  154.0  0.012144    104   \n",
       "15  2.333  296.888   18.665  287.555   14.0  129.0  0.011013    110   \n",
       "16  4.083  295.721    5.833  297.471    1.0  149.0  0.013107    112   \n",
       "\n",
       "         density    sheet_name  \n",
       "0    9995.044665  03232020_049  \n",
       "1    4838.429196  05282020_113  \n",
       "2    8922.505931  03232020_050  \n",
       "3   10099.033052  05282020_134  \n",
       "4    8835.409912  05282020_137  \n",
       "5   10261.326498  05282020_138  \n",
       "6   10760.231637  05282020_144  \n",
       "7    8425.145181  05282020_145  \n",
       "8   10844.016620  05282020_146  \n",
       "9   11756.537465  05282020_161  \n",
       "10  12351.482105  05282020_162  \n",
       "11   6841.107157  05282020_163  \n",
       "12  10113.819169  10302020_235  \n",
       "13   6206.100451  10302020_236  \n",
       "14   8563.650099  05272020_051  \n",
       "15   9988.250077  05272020_052  \n",
       "16   8544.860062  05272020_053  "
      ]
     },
     "execution_count": 5,
     "metadata": {},
     "output_type": "execute_result"
    }
   ],
   "source": [
    "PenkKv_df"
   ]
  },
  {
   "cell_type": "code",
   "execution_count": 6,
   "metadata": {},
   "outputs": [],
   "source": [
    "def measure_density_tdT(cell_locs,thickness, res):\n",
    "    min_x=np.min(cell_locs.x)\n",
    "    max_x=np.max(cell_locs.x)\n",
    "    min_y=np.min(cell_locs.y)\n",
    "    max_y=np.max(cell_locs.y)\n",
    "    dx=max_x-min_x\n",
    "    dy=max_y-min_y\n",
    "    dx_m=dx/1000.*res\n",
    "    dy_m=dy/1000.*res\n",
    "    thickness/=1000.\n",
    "    sa=dx_m*dy_m\n",
    "    v=dx_m*dy_m*thickness\n",
    "    count=np.shape(cell_locs)[0]\n",
    "    density=count/v\n",
    "    summary_dict = {'min_x':min_x,'max_x':max_x,'min_y':min_y,'max_y':max_y,'thickness':thickness,\n",
    "                    'volume':v,'count':count,'density':density,'sa':sa}\n",
    "    return summary_dict"
   ]
  },
  {
   "cell_type": "code",
   "execution_count": 7,
   "metadata": {},
   "outputs": [
    {
     "data": {
      "text/html": [
       "<div>\n",
       "<style scoped>\n",
       "    .dataframe tbody tr th:only-of-type {\n",
       "        vertical-align: middle;\n",
       "    }\n",
       "\n",
       "    .dataframe tbody tr th {\n",
       "        vertical-align: top;\n",
       "    }\n",
       "\n",
       "    .dataframe thead th {\n",
       "        text-align: right;\n",
       "    }\n",
       "</style>\n",
       "<table border=\"1\" class=\"dataframe\">\n",
       "  <thead>\n",
       "    <tr style=\"text-align: right;\">\n",
       "      <th></th>\n",
       "      <th>min_x</th>\n",
       "      <th>max_x</th>\n",
       "      <th>min_y</th>\n",
       "      <th>max_y</th>\n",
       "      <th>thickness</th>\n",
       "      <th>volume</th>\n",
       "      <th>count</th>\n",
       "      <th>density</th>\n",
       "      <th>sa</th>\n",
       "      <th>Cre</th>\n",
       "    </tr>\n",
       "  </thead>\n",
       "  <tbody>\n",
       "    <tr>\n",
       "      <th>0</th>\n",
       "      <td>7781.000</td>\n",
       "      <td>9145.000</td>\n",
       "      <td>699.333</td>\n",
       "      <td>1568.667</td>\n",
       "      <td>0.025</td>\n",
       "      <td>0.029538</td>\n",
       "      <td>175</td>\n",
       "      <td>5924.638730</td>\n",
       "      <td>1.181507</td>\n",
       "      <td>Sst</td>\n",
       "    </tr>\n",
       "    <tr>\n",
       "      <th>1</th>\n",
       "      <td>7598.667</td>\n",
       "      <td>9822.333</td>\n",
       "      <td>893.333</td>\n",
       "      <td>1845.333</td>\n",
       "      <td>0.025</td>\n",
       "      <td>0.052733</td>\n",
       "      <td>287</td>\n",
       "      <td>5442.522747</td>\n",
       "      <td>2.109316</td>\n",
       "      <td>Sst</td>\n",
       "    </tr>\n",
       "    <tr>\n",
       "      <th>2</th>\n",
       "      <td>7574.000</td>\n",
       "      <td>9339.333</td>\n",
       "      <td>552.000</td>\n",
       "      <td>1493.333</td>\n",
       "      <td>0.025</td>\n",
       "      <td>0.041395</td>\n",
       "      <td>131</td>\n",
       "      <td>3164.653985</td>\n",
       "      <td>1.655789</td>\n",
       "      <td>Sst</td>\n",
       "    </tr>\n",
       "    <tr>\n",
       "      <th>3</th>\n",
       "      <td>7745.000</td>\n",
       "      <td>8794.000</td>\n",
       "      <td>2562.000</td>\n",
       "      <td>2805.000</td>\n",
       "      <td>0.033</td>\n",
       "      <td>0.008382</td>\n",
       "      <td>126</td>\n",
       "      <td>15032.794214</td>\n",
       "      <td>0.253990</td>\n",
       "      <td>Penk</td>\n",
       "    </tr>\n",
       "    <tr>\n",
       "      <th>4</th>\n",
       "      <td>4820.000</td>\n",
       "      <td>5734.667</td>\n",
       "      <td>2537.333</td>\n",
       "      <td>2716.000</td>\n",
       "      <td>0.033</td>\n",
       "      <td>0.005373</td>\n",
       "      <td>76</td>\n",
       "      <td>14143.508817</td>\n",
       "      <td>0.162833</td>\n",
       "      <td>Penk</td>\n",
       "    </tr>\n",
       "    <tr>\n",
       "      <th>5</th>\n",
       "      <td>4802.000</td>\n",
       "      <td>5892.000</td>\n",
       "      <td>2230.000</td>\n",
       "      <td>2410.000</td>\n",
       "      <td>0.033</td>\n",
       "      <td>0.006451</td>\n",
       "      <td>80</td>\n",
       "      <td>12400.577560</td>\n",
       "      <td>0.195494</td>\n",
       "      <td>Penk</td>\n",
       "    </tr>\n",
       "    <tr>\n",
       "      <th>6</th>\n",
       "      <td>6791.000</td>\n",
       "      <td>7717.000</td>\n",
       "      <td>2777.000</td>\n",
       "      <td>3121.000</td>\n",
       "      <td>0.033</td>\n",
       "      <td>0.010474</td>\n",
       "      <td>205</td>\n",
       "      <td>19572.006930</td>\n",
       "      <td>0.317398</td>\n",
       "      <td>Rorb</td>\n",
       "    </tr>\n",
       "    <tr>\n",
       "      <th>7</th>\n",
       "      <td>3575.333</td>\n",
       "      <td>4515.333</td>\n",
       "      <td>399.667</td>\n",
       "      <td>737.000</td>\n",
       "      <td>0.033</td>\n",
       "      <td>0.010426</td>\n",
       "      <td>213</td>\n",
       "      <td>20428.846738</td>\n",
       "      <td>0.315953</td>\n",
       "      <td>Rorb</td>\n",
       "    </tr>\n",
       "    <tr>\n",
       "      <th>8</th>\n",
       "      <td>6957.000</td>\n",
       "      <td>8179.000</td>\n",
       "      <td>1493.667</td>\n",
       "      <td>1844.333</td>\n",
       "      <td>0.033</td>\n",
       "      <td>0.014090</td>\n",
       "      <td>227</td>\n",
       "      <td>16110.607640</td>\n",
       "      <td>0.426973</td>\n",
       "      <td>Rorb</td>\n",
       "    </tr>\n",
       "    <tr>\n",
       "      <th>9</th>\n",
       "      <td>5555.000</td>\n",
       "      <td>6145.000</td>\n",
       "      <td>1318.000</td>\n",
       "      <td>1673.000</td>\n",
       "      <td>0.033</td>\n",
       "      <td>0.006887</td>\n",
       "      <td>165</td>\n",
       "      <td>23958.217794</td>\n",
       "      <td>0.208697</td>\n",
       "      <td>Tlx3</td>\n",
       "    </tr>\n",
       "    <tr>\n",
       "      <th>10</th>\n",
       "      <td>8642.667</td>\n",
       "      <td>9461.333</td>\n",
       "      <td>2986.667</td>\n",
       "      <td>3388.000</td>\n",
       "      <td>0.033</td>\n",
       "      <td>0.010803</td>\n",
       "      <td>280</td>\n",
       "      <td>25917.752294</td>\n",
       "      <td>0.327376</td>\n",
       "      <td>Tlx3</td>\n",
       "    </tr>\n",
       "    <tr>\n",
       "      <th>11</th>\n",
       "      <td>4975.000</td>\n",
       "      <td>5720.000</td>\n",
       "      <td>1028.000</td>\n",
       "      <td>1373.000</td>\n",
       "      <td>0.033</td>\n",
       "      <td>0.008451</td>\n",
       "      <td>211</td>\n",
       "      <td>24966.520278</td>\n",
       "      <td>0.256101</td>\n",
       "      <td>Tlx3</td>\n",
       "    </tr>\n",
       "    <tr>\n",
       "      <th>12</th>\n",
       "      <td>7527.000</td>\n",
       "      <td>8073.000</td>\n",
       "      <td>2553.000</td>\n",
       "      <td>2907.000</td>\n",
       "      <td>0.050</td>\n",
       "      <td>0.010634</td>\n",
       "      <td>308</td>\n",
       "      <td>28962.352235</td>\n",
       "      <td>0.212690</td>\n",
       "      <td>Ntsr1</td>\n",
       "    </tr>\n",
       "    <tr>\n",
       "      <th>13</th>\n",
       "      <td>8042.333</td>\n",
       "      <td>8662.333</td>\n",
       "      <td>2915.667</td>\n",
       "      <td>3241.000</td>\n",
       "      <td>0.050</td>\n",
       "      <td>0.011098</td>\n",
       "      <td>305</td>\n",
       "      <td>27482.678105</td>\n",
       "      <td>0.221958</td>\n",
       "      <td>Ntsr1</td>\n",
       "    </tr>\n",
       "    <tr>\n",
       "      <th>14</th>\n",
       "      <td>6749.000</td>\n",
       "      <td>7389.333</td>\n",
       "      <td>3207.667</td>\n",
       "      <td>3594.000</td>\n",
       "      <td>0.050</td>\n",
       "      <td>0.013611</td>\n",
       "      <td>382</td>\n",
       "      <td>28065.623289</td>\n",
       "      <td>0.272219</td>\n",
       "      <td>Ntsr1</td>\n",
       "    </tr>\n",
       "    <tr>\n",
       "      <th>15</th>\n",
       "      <td>9660.000</td>\n",
       "      <td>10571.000</td>\n",
       "      <td>4135.000</td>\n",
       "      <td>4359.000</td>\n",
       "      <td>0.050</td>\n",
       "      <td>0.011228</td>\n",
       "      <td>184</td>\n",
       "      <td>16388.169494</td>\n",
       "      <td>0.224552</td>\n",
       "      <td>Scnn1a</td>\n",
       "    </tr>\n",
       "    <tr>\n",
       "      <th>16</th>\n",
       "      <td>8769.000</td>\n",
       "      <td>9565.000</td>\n",
       "      <td>2211.000</td>\n",
       "      <td>2514.000</td>\n",
       "      <td>0.050</td>\n",
       "      <td>0.013270</td>\n",
       "      <td>225</td>\n",
       "      <td>16955.314162</td>\n",
       "      <td>0.265404</td>\n",
       "      <td>Scnn1a</td>\n",
       "    </tr>\n",
       "    <tr>\n",
       "      <th>17</th>\n",
       "      <td>8255.000</td>\n",
       "      <td>9291.000</td>\n",
       "      <td>1993.000</td>\n",
       "      <td>2240.000</td>\n",
       "      <td>0.050</td>\n",
       "      <td>0.014079</td>\n",
       "      <td>219</td>\n",
       "      <td>15554.871419</td>\n",
       "      <td>0.281584</td>\n",
       "      <td>Scnn1a</td>\n",
       "    </tr>\n",
       "    <tr>\n",
       "      <th>18</th>\n",
       "      <td>8960.667</td>\n",
       "      <td>10487.333</td>\n",
       "      <td>1514.000</td>\n",
       "      <td>2312.667</td>\n",
       "      <td>0.025</td>\n",
       "      <td>0.033543</td>\n",
       "      <td>168</td>\n",
       "      <td>5008.509741</td>\n",
       "      <td>1.341716</td>\n",
       "      <td>Pvalb</td>\n",
       "    </tr>\n",
       "    <tr>\n",
       "      <th>19</th>\n",
       "      <td>4987.000</td>\n",
       "      <td>7156.333</td>\n",
       "      <td>2120.667</td>\n",
       "      <td>3002.000</td>\n",
       "      <td>0.025</td>\n",
       "      <td>0.052597</td>\n",
       "      <td>271</td>\n",
       "      <td>5152.429418</td>\n",
       "      <td>2.103862</td>\n",
       "      <td>Pvalb</td>\n",
       "    </tr>\n",
       "    <tr>\n",
       "      <th>20</th>\n",
       "      <td>5776.667</td>\n",
       "      <td>7651.667</td>\n",
       "      <td>2258.000</td>\n",
       "      <td>3092.667</td>\n",
       "      <td>0.025</td>\n",
       "      <td>0.043053</td>\n",
       "      <td>156</td>\n",
       "      <td>3623.423511</td>\n",
       "      <td>1.722128</td>\n",
       "      <td>Pvalb</td>\n",
       "    </tr>\n",
       "  </tbody>\n",
       "</table>\n",
       "</div>"
      ],
      "text/plain": [
       "       min_x      max_x     min_y     max_y  thickness    volume  count  \\\n",
       "0   7781.000   9145.000   699.333  1568.667      0.025  0.029538    175   \n",
       "1   7598.667   9822.333   893.333  1845.333      0.025  0.052733    287   \n",
       "2   7574.000   9339.333   552.000  1493.333      0.025  0.041395    131   \n",
       "3   7745.000   8794.000  2562.000  2805.000      0.033  0.008382    126   \n",
       "4   4820.000   5734.667  2537.333  2716.000      0.033  0.005373     76   \n",
       "5   4802.000   5892.000  2230.000  2410.000      0.033  0.006451     80   \n",
       "6   6791.000   7717.000  2777.000  3121.000      0.033  0.010474    205   \n",
       "7   3575.333   4515.333   399.667   737.000      0.033  0.010426    213   \n",
       "8   6957.000   8179.000  1493.667  1844.333      0.033  0.014090    227   \n",
       "9   5555.000   6145.000  1318.000  1673.000      0.033  0.006887    165   \n",
       "10  8642.667   9461.333  2986.667  3388.000      0.033  0.010803    280   \n",
       "11  4975.000   5720.000  1028.000  1373.000      0.033  0.008451    211   \n",
       "12  7527.000   8073.000  2553.000  2907.000      0.050  0.010634    308   \n",
       "13  8042.333   8662.333  2915.667  3241.000      0.050  0.011098    305   \n",
       "14  6749.000   7389.333  3207.667  3594.000      0.050  0.013611    382   \n",
       "15  9660.000  10571.000  4135.000  4359.000      0.050  0.011228    184   \n",
       "16  8769.000   9565.000  2211.000  2514.000      0.050  0.013270    225   \n",
       "17  8255.000   9291.000  1993.000  2240.000      0.050  0.014079    219   \n",
       "18  8960.667  10487.333  1514.000  2312.667      0.025  0.033543    168   \n",
       "19  4987.000   7156.333  2120.667  3002.000      0.025  0.052597    271   \n",
       "20  5776.667   7651.667  2258.000  3092.667      0.025  0.043053    156   \n",
       "\n",
       "         density        sa     Cre  \n",
       "0    5924.638730  1.181507     Sst  \n",
       "1    5442.522747  2.109316     Sst  \n",
       "2    3164.653985  1.655789     Sst  \n",
       "3   15032.794214  0.253990    Penk  \n",
       "4   14143.508817  0.162833    Penk  \n",
       "5   12400.577560  0.195494    Penk  \n",
       "6   19572.006930  0.317398    Rorb  \n",
       "7   20428.846738  0.315953    Rorb  \n",
       "8   16110.607640  0.426973    Rorb  \n",
       "9   23958.217794  0.208697    Tlx3  \n",
       "10  25917.752294  0.327376    Tlx3  \n",
       "11  24966.520278  0.256101    Tlx3  \n",
       "12  28962.352235  0.212690   Ntsr1  \n",
       "13  27482.678105  0.221958   Ntsr1  \n",
       "14  28065.623289  0.272219   Ntsr1  \n",
       "15  16388.169494  0.224552  Scnn1a  \n",
       "16  16955.314162  0.265404  Scnn1a  \n",
       "17  15554.871419  0.281584  Scnn1a  \n",
       "18   5008.509741  1.341716   Pvalb  \n",
       "19   5152.429418  2.103862   Pvalb  \n",
       "20   3623.423511  1.722128   Pvalb  "
      ]
     },
     "execution_count": 7,
     "metadata": {},
     "output_type": "execute_result"
    }
   ],
   "source": [
    "transgenic_tdT_xls=pd.ExcelFile('cell_locations/transgenic_characterization_links.xlsx')\n",
    "tdT_key=transgenic_tdT_xls.parse('image_info',dtype={'image_id': str})\n",
    "\n",
    "dict_list=[]\n",
    "for i in tdT_key.index:\n",
    "    image_id = tdT_key['image_id'][i]\n",
    "    cell_locs=transgenic_tdT_xls.parse(str(image_id))\n",
    "    thickness=tdT_key['thickness'][i]\n",
    "    \n",
    "    res=tdT_key['resolution'][i]\n",
    "    cre=tdT_key['Cre'][i]\n",
    "    summary_dict=measure_density_tdT(cell_locs,thickness,res)\n",
    "    summary_dict['Cre']=cre\n",
    "    dict_list.append(summary_dict)\n",
    "tdT_dens=pd.DataFrame(dict_list)\n",
    "tdT_dens"
   ]
  },
  {
   "cell_type": "code",
   "execution_count": 8,
   "metadata": {},
   "outputs": [
    {
     "name": "stdout",
     "output_type": "stream",
     "text": [
      "4843.938487417326\n",
      "4594.787556620368\n"
     ]
    }
   ],
   "source": [
    "print (np.mean(tdT_dens[tdT_dens.Cre=='Sst'].density))\n",
    "print (np.mean(tdT_dens[tdT_dens.Cre=='Pvalb'].density))"
   ]
  },
  {
   "cell_type": "code",
   "execution_count": 11,
   "metadata": {},
   "outputs": [
    {
     "name": "stdout",
     "output_type": "stream",
     "text": [
      "Penk\n",
      "9255.70289868112 cells/mm3\n",
      "Rorb\n",
      "19813.14510734547 cells/mm3\n",
      "Tlx3\n",
      "22330.49893935085 cells/mm3\n",
      "Sst\n",
      "4095.64525514143 cells/mm3\n",
      "Pvalb\n",
      "3349.1725035755426 cells/mm3\n"
     ]
    },
    {
     "data": {
      "image/png": "[encoded data removed]",
      "text/plain": [
       "<Figure size 144x144 with 1 Axes>"
      ]
     },
     "metadata": {
      "needs_background": "light"
     },
     "output_type": "display_data"
    }
   ],
   "source": [
    "\n",
    "fs=10\n",
    "tick_size=4\n",
    "df_list=[PenkKv_df,RorbKv_df,Tlx3Kv_df, SstKv_df, PvalbKv_df]\n",
    "colors=['magenta', 'blue', 'darkorange', 'green', 'purple']\n",
    "styles=['dashed', 'dashed', 'dashed','dashed', 'dashed']\n",
    "cres=['Penk','Rorb','Tlx3','Sst','Pvalb']\n",
    "offs=[0,0,0,0.01,-0.01] ##offsets for marker plotting to avoid Pvalb/Sst overlap\n",
    "fig, ax = plt.subplots()\n",
    "norm_ys=[]\n",
    "tdT_dens_list=[]\n",
    "opto_dens_list=[]\n",
    "csv_file=open('mapping_densities.csv','w')\n",
    "for i in range(len(df_list)):\n",
    "    df=df_list[i]\n",
    "    y=df.density\n",
    "    y_sorted= np.sort(y)\n",
    "    cdf=np.linspace(0.,1.,np.size(y_sorted))\n",
    "    color=colors[i]\n",
    "    style=styles[i]\n",
    "    cre=cres[i]\n",
    "    off=offs[i]\n",
    "    ax.plot(y_sorted,cdf,c=color, ls=style, lw=2)\n",
    "    tdT_df=tdT_dens[tdT_dens.Cre==cre]\n",
    "    tdT_mean=np.mean(tdT_df.density)\n",
    "    tdT_dens_list.append(tdT_mean)\n",
    "    tdT_std=np.std(tdT_df.density)\n",
    "    description=cre+':AAV density (cells/mm^3)'\n",
    "    opto.write_csv(csv_file,y_sorted,description)\n",
    "    ax.scatter([tdT_mean],[1.05+off],edgecolor=color,facecolor='none',marker='v')\n",
    "    norm_y=y/tdT_mean\n",
    "    print(cre)\n",
    "    print(np.mean(y), 'cells/mm3')\n",
    "    opto_dens_list.append(np.mean(y))\n",
    "    norm_ys.extend(norm_y)\n",
    "ax.scatter([164000],[1.05],c='grey',marker='v')\n",
    "ax.spines['right'].set_visible(False)\n",
    "ax.spines['top'].set_visible(False)\n",
    "ax.yaxis.set_ticks_position('left')\n",
    "ax.xaxis.set_ticks_position('bottom')\n",
    "ax.yaxis.set_tick_params(size=tick_size,labelsize=fs, direction='out')\n",
    "ax.xaxis.set_tick_params(size=tick_size,labelsize=fs, direction='out')\n",
    "ax.xaxis.set_major_formatter(FormatStrFormatter('%g'))\n",
    "ax.yaxis.set_major_formatter(FormatStrFormatter('%g'))\n",
    "plt.xscale('log')\n",
    "plt.axis([200,200000,0,1.1])\n",
    "plt.ylabel('cumulative density fraction')\n",
    "plt.xlabel('density (cells/mm$^{3}$)')\n",
    "fig.set_figheight(2)\n",
    "fig.set_figwidth(2)    \n",
    "#plt.savefig('AAV_densities.svg')"
   ]
  },
  {
   "cell_type": "code",
   "execution_count": 12,
   "metadata": {},
   "outputs": [],
   "source": [
    "opto.write_csv(csv_file,cres,'Cre:AAV')\n",
    "opto.write_csv(csv_file,tdT_dens_list,'Cre_tdT_density')\n",
    "opto.write_csv(csv_file,opto_dens_list,'AAV_tdT_density')"
   ]
  },
  {
   "cell_type": "code",
   "execution_count": 13,
   "metadata": {},
   "outputs": [
    {
     "name": "stdout",
     "output_type": "stream",
     "text": [
      "0.8350665951015351\n"
     ]
    }
   ],
   "source": [
    "print(np.mean(norm_ys))"
   ]
  },
  {
   "cell_type": "code",
   "execution_count": 14,
   "metadata": {
    "scrolled": true
   },
   "outputs": [
    {
     "name": "stdout",
     "output_type": "stream",
     "text": [
      "Rorb\n",
      "4424.813404671313 cells/mm3\n",
      "Scnn1a\n",
      "1730.0018522123257 cells/mm3\n",
      "Ntsr1\n",
      "10094.000592162387 cells/mm3\n",
      "Sst\n",
      "1429.936587938761 cells/mm3\n"
     ]
    },
    {
     "data": {
      "image/png": "[encoded data removed]",
      "text/plain": [
       "<Figure size 144x144 with 1 Axes>"
      ]
     },
     "metadata": {
      "needs_background": "light"
     },
     "output_type": "display_data"
    }
   ],
   "source": [
    "\n",
    "fs=10\n",
    "tick_size=4\n",
    "df_list=[RorbAi_df, Scnn1a_df,Ntsr1Ai_df,SstAi_df]\n",
    "colors=['blue','cyan','red','green']\n",
    "styles=['solid','solid','solid','solid']\n",
    "cres=['Rorb','Scnn1a','Ntsr1','Sst']\n",
    "offs=[0.01,-0.01,0,0]\n",
    "fig, ax = plt.subplots()\n",
    "norm_ys=[]\n",
    "tdT_dens_list=[]\n",
    "opto_dens_list=[]\n",
    "for i in range(len(df_list)):\n",
    "    df=df_list[i]\n",
    "    y=df.density\n",
    "    y_sorted= np.sort(y)\n",
    "    cdf=np.linspace(0.,1.,np.size(y_sorted))\n",
    "    color=colors[i]\n",
    "    style=styles[i]\n",
    "    cre=cres[i]\n",
    "    off=offs[i]\n",
    "    ax.plot(y_sorted,cdf,c=color, ls=style, lw=2)\n",
    "    tdT_df=tdT_dens[tdT_dens.Cre==cre]\n",
    "    tdT_mean=np.mean(tdT_df.density)\n",
    "    tdT_dens_list.append(tdT_mean)\n",
    "    tdT_std=np.std(tdT_df.density)\n",
    "    description=cre+':Ai167 density (cells/mm^3)'\n",
    "    opto_dens_list.append(np.mean(y))\n",
    "    opto.write_csv(csv_file,y_sorted,description)\n",
    "    ax.scatter([tdT_mean],[1.05+off],edgecolor=color,facecolor='none',marker='v')\n",
    "    norm_y=y/tdT_mean\n",
    "    print(cre)\n",
    "    print(np.mean(y), 'cells/mm3')\n",
    "    norm_ys.extend(norm_y)\n",
    "    \n",
    "\n",
    "ax.scatter([164000],[1.05],c='grey',marker='v')\n",
    "ax.spines['right'].set_visible(False)\n",
    "ax.spines['top'].set_visible(False)\n",
    "ax.yaxis.set_ticks_position('left')\n",
    "ax.xaxis.set_ticks_position('bottom')\n",
    "ax.yaxis.set_tick_params(size=tick_size,labelsize=fs, direction='out')\n",
    "ax.xaxis.set_tick_params(size=tick_size,labelsize=fs, direction='out')\n",
    "ax.xaxis.set_major_formatter(FormatStrFormatter('%g'))\n",
    "ax.yaxis.set_major_formatter(FormatStrFormatter('%g'))\n",
    "plt.xscale('log')\n",
    "plt.axis([200,200000,0,1.1])\n",
    "plt.ylabel('cumulative density fraction')\n",
    "plt.xlabel('density (cells/mm$^{3}$)')\n",
    "fig.set_figheight(2)\n",
    "fig.set_figwidth(2)    \n",
    "#plt.savefig('Ai167_densities.svg')"
   ]
  },
  {
   "cell_type": "code",
   "execution_count": 15,
   "metadata": {},
   "outputs": [],
   "source": [
    "opto.write_csv(csv_file,cres,'Cre:Ai167')\n",
    "opto.write_csv(csv_file,tdT_dens_list,'Cre_tdT_density')\n",
    "opto.write_csv(csv_file,opto_dens_list,'Ai167_tdT_density')"
   ]
  },
  {
   "cell_type": "code",
   "execution_count": 16,
   "metadata": {},
   "outputs": [],
   "source": [
    "csv_file.close()"
   ]
  },
  {
   "cell_type": "code",
   "execution_count": 17,
   "metadata": {},
   "outputs": [
    {
     "name": "stdout",
     "output_type": "stream",
     "text": [
      "0.2506456563546914\n"
     ]
    }
   ],
   "source": [
    "print(np.mean(norm_ys))"
   ]
  },
  {
   "cell_type": "code",
   "execution_count": 18,
   "metadata": {},
   "outputs": [
    {
     "data": {
      "image/png": "[encoded data removed]",
      "text/plain": [
       "<Figure size 108x136.8 with 1 Axes>"
      ]
     },
     "metadata": {
      "needs_background": "light"
     },
     "output_type": "display_data"
    }
   ],
   "source": [
    "conf_list=[RorbKv_df,Tlx3Kv_df, RorbAi_df, SstKv_df, PvalbKv_df]\n",
    "tested=[4.,4.,4.,15.,7.]\n",
    "conf=[4.,3.,4.,15.,7.]\n",
    "colors=['blue','darkorange','blue','green','purple']\n",
    "facecolors=['white','white','blue','white','white']\n",
    "dens_l=[]\n",
    "i=0\n",
    "fig, ax = plt.subplots()\n",
    "for df in conf_list:\n",
    "    dens=[np.mean(df.density)]\n",
    "    c=colors[i]\n",
    "    fc=facecolors[i]\n",
    "    ppr=conf[i]/tested[i]\n",
    "    ax.scatter(dens,ppr,ec=c,fc=fc)\n",
    "    dens_l.append(dens)\n",
    "    i+=1\n",
    "dens_dens=np.mean(dens_l[0:2])\n",
    "dens_sparse=np.mean(dens_l[2:])\n",
    "ax.scatter([dens_dens],[7./8],c='black',alpha=0.5,marker='s')\n",
    "CI=sm.stats.proportion_confint([7],[8], method='jeffreys')\n",
    "ax.fill_between([dens_dens],CI[0],CI[1],color='black')\n",
    "ax.scatter([dens_sparse],[26/26.],c='black',alpha=0.5,marker='s')\n",
    "CI=sm.stats.proportion_confint([26],[26], method='jeffreys')\n",
    "ax.fill_between([dens_sparse],CI[0],CI[1],color='black')\n",
    "ax.yaxis.set_label('positive predictive value')\n",
    "ax.spines['right'].set_visible(False)\n",
    "ax.spines['top'].set_visible(False)\n",
    "ax.yaxis.set_ticks_position('left')\n",
    "ax.xaxis.set_ticks_position('bottom')\n",
    "ax.yaxis.set_tick_params(size=tick_size,labelsize=fs, direction='out')\n",
    "ax.xaxis.set_tick_params(size=tick_size,labelsize=fs, direction='out')\n",
    "ax.set_ylim([0,1.05])\n",
    "xl=ax.get_xlim()\n",
    "ax.set_xlim([1000,50000])\n",
    "ax.yaxis.set_major_formatter(FormatStrFormatter('%g'))\n",
    "plt.ylabel('positive predictive value')\n",
    "fig.set_figheight(1.9)\n",
    "fig.set_figwidth(1.5)\n",
    "plt.xlabel('average density (cells/mm$^{3}$)')\n",
    "plt.xscale('log')\n",
    "#plt.savefig('ppv_density.svg')\n",
    "plt.show()"
   ]
  },
  {
   "cell_type": "code",
   "execution_count": 19,
   "metadata": {},
   "outputs": [],
   "source": [
    "##results of Gaussian fits to measured spatial resolutions for precise firing (Figure 1-supp. 2E, Figure 1-suppl. 3D)\n",
    "RorbKv_popt_x=[1.        , 0.84361004, 6.77530826]\n",
    "PenkKv_popt_x=[ 1.        , -0.2978597 ,  5.44462275]\n",
    "Tlx3Kv_popt_x=[1.        , 0.1008984 , 5.33277538]\n",
    "SstKv_popt_x=[0.99999957, 0.05276496, 5.04222882]\n",
    "PvalbKv_popt_x=[ 1.        , -1.        ,  9.57963163]\n",
    "SstAi_popt_x=[1.        , 0.35355629, 6.09053678]\n",
    "RorbAi_popt_x=[ 1.        , -0.61669749,  6.64957942]\n",
    "Ntsr1Ai_popt_x=[ 1.        ,  1.        , 10.06377989]\n",
    "Scnn1aAi_popt_x=[0.99000003, 1.        , 6.47350589]\n",
    "\n",
    "RorbKv_popt_z=[ 1.        ,  1.        , 27.63557715]\n",
    "PenkKv_popt_z=[ 1.        , -1.        , 21.11038258]\n",
    "Tlx3Kv_popt_z=[ 1.        ,  0.66846301, 15.1767489 ]\n",
    "RorbAi_popt_z=[ 1.        ,  1.        , 24.72929232]\n",
    "SstKv_popt_z=[ 1.        , -0.67435284, 15.5338903 ]\n",
    "PvalbKv_popt_z=[ 1.        , -1.        , 23.22440667]\n",
    "SstAi_popt_z=[ 1.        , -0.29772707, 22.76692667]\n",
    "Scnn1aAi_popt_z=[ 1.        , -1.        , 20.55288537]\n",
    "Ntsr1Ai_popt_z=[ 1.        ,  1.        , 28.37021021]\n",
    "\n",
    "SstAi_sens=15./17.\n",
    "SstKv_sens=15./16.\n",
    "RorbAi_sens=17./19.\n",
    "RorbKv_sens=10./10.\n",
    "Tlx3Kv_sens=11./12.\n",
    "Scnn1a_sens=13./15.\n",
    "PenkKv_sens=8./8.\n",
    "PvalbKv_sens=12./14.\n",
    "Ntsr1_sens=10./10."
   ]
  },
  {
   "cell_type": "code",
   "execution_count": 20,
   "metadata": {},
   "outputs": [],
   "source": [
    "def make_inter_df(xls_path, popt_x, popt_z):\n",
    "    xls = pd.ExcelFile(xls_path)\n",
    "    df_list=[]\n",
    "    for sheet_name in xls.sheet_names:\n",
    "        sheet_df = xls.parse(sheet_name)\n",
    "        sheet_df = add_names(sheet_df)\n",
    "        sheet_df = add_inter_df2(sheet_df, sheet_name, popt_x, popt_z)\n",
    "        df_list.append(sheet_df)\n",
    "    inter_df = pd.DataFrame()\n",
    "    inter_df = inter_df.append(df_list).reset_index()\n",
    "    return inter_df\n",
    "\n",
    "def add_inter_df2(stack_df,sheet_name, popt_x, popt_z):\n",
    "    xyz_array=np.array(stack_df[['x','y','slice']])\n",
    "    dx=[]\n",
    "    dy=[]\n",
    "    dz=[]\n",
    "    dxy=[]\n",
    "    neigh_probs=[]\n",
    "    tot_prob=[]\n",
    "    max_prob=[]\n",
    "    for i in range(np.shape(xyz_array)[0]):  ##for each cell\n",
    "        cell_i_coact=[] ##a list with Pcoactivation for all j\n",
    "        neigh_dict = neighbors2(xyz_array,i, popt_x, popt_z)\n",
    "        dx.append(neigh_dict['neigh_dx'])\n",
    "        dy.append(neigh_dict['neigh_dy'])\n",
    "        dz.append(neigh_dict['neigh_dz'])\n",
    "        dxy.append(neigh_dict['neigh_dxy'])\n",
    "        neigh_probs.append(neigh_dict['neigh_probs'])\n",
    "        tot_prob.append(np.sum(neigh_dict['neigh_probs']))\n",
    "        max_prob.append(np.max(neigh_dict['neigh_probs']))\n",
    "    stack_df['dx']=dx\n",
    "    stack_df['dy']=dy\n",
    "    stack_df['dz']=dz\n",
    "    stack_df['dxy']=dxy\n",
    "    stack_df['neigh_probs']=neigh_probs\n",
    "    stack_df['tot_prob']=tot_prob\n",
    "    stack_df['max_prob']=max_prob\n",
    "    stack_df['min_x']= np.min(stack_df.x)\n",
    "    stack_df['max_x'] = np.max(stack_df.x)\n",
    "    stack_df['min_y'] = np.min(stack_df.y)\n",
    "    stack_df['max_y'] = np.max(stack_df.y)\n",
    "    stack_df['min_z'] = np.min(stack_df.slice)\n",
    "    stack_df['max_z'] = np.max(stack_df.slice)\n",
    "    stack_df['sheet_name'] = sheet_name\n",
    "    return stack_df \n",
    "\n",
    "def neighbors2(xyz_array,i,popt_x, popt_z):\n",
    "    neigh_dx = []\n",
    "    neigh_dy = []\n",
    "    neigh_dz = []\n",
    "    neigh_dxy = []\n",
    "    neigh_probs = []\n",
    "    for j in range(np.shape(xyz_array)[0]):\n",
    "        if i!=j:\n",
    "            dx = xyz_array[j,0] - xyz_array[i,0]\n",
    "            dy = xyz_array[j,1] - xyz_array[i,1]\n",
    "            dz = xyz_array[j,2] - xyz_array[i,2]\n",
    "            dxy = math.sqrt(dx**2+dy**2)\n",
    "            prob = off_activation_prob2(dxy,dz, popt_x, popt_z)\n",
    "            neigh_dx.append(dx)\n",
    "            neigh_dy.append(dy)\n",
    "            neigh_dz.append(dz)\n",
    "            neigh_dxy.append(dxy)\n",
    "            neigh_probs.append(float(prob))\n",
    "    return {'neigh_dx':neigh_dx, 'neigh_dy':neigh_dy,'neigh_dz':neigh_dz,'neigh_dxy':neigh_dxy,\n",
    "           'neigh_probs':neigh_probs}\n",
    "\n",
    "\n",
    "def off_activation_prob2(dxy,dz, popt_x, popt_z):\n",
    "    max_xy=40\n",
    "    max_z=100\n",
    "    if dxy > max_xy or abs(dz) > max_z: #save some time if large distance between neighbors\n",
    "        return 0\n",
    "    else:\n",
    "        xy_prob = Gauss(dxy, *popt_x)\n",
    "        z_prob = Gauss(dz, *popt_z)\n",
    "        return min([xy_prob,z_prob])\n",
    "    \n",
    "    \n",
    "def Gauss(x, a, x0, sigma):\n",
    "    return a * np.exp(-(x - x0)**2 / (2 * sigma**2))"
   ]
  },
  {
   "cell_type": "code",
   "execution_count": 21,
   "metadata": {},
   "outputs": [],
   "source": [
    "PenkKv_inter=make_inter_df('cell_locations/penk_kv_z_stacks.xlsx',PenkKv_popt_x, PenkKv_popt_z)\n",
    "RorbKv_inter=make_inter_df('cell_locations/rorb_kv_z_stacks.xlsx',RorbKv_popt_x, RorbKv_popt_z)\n",
    "RorbAi_inter=make_inter_df('cell_locations/rorb_ai167_z_stacks.xlsx',RorbAi_popt_x, RorbAi_popt_z)\n",
    "Tlx3Kv_inter=make_inter_df('cell_locations/tlx3_kv_z_stacks.xlsx',Tlx3Kv_popt_x, Tlx3Kv_popt_z)\n",
    "Scnn1a_inter=make_inter_df('cell_locations/scnn1a_ai167_z_stacks.xlsx',Scnn1aAi_popt_x, Scnn1aAi_popt_z)\n",
    "Ntsr1_inter=make_inter_df('cell_locations/ntsr1_ai167_z_stacks.xlsx',Ntsr1Ai_popt_x, Ntsr1Ai_popt_z)\n",
    "PvalbKv_inter=make_inter_df('cell_locations/pvalb_kv_z_stacks.xlsx',PvalbKv_popt_x, PvalbKv_popt_z)\n",
    "SstKv_inter=make_inter_df('cell_locations/sst_kv_z_stacks.xlsx',SstKv_popt_x, SstKv_popt_z)\n",
    "SstAi_inter=make_inter_df('cell_locations/sst_ai167_z_stacks.xlsx',SstAi_popt_x, SstAi_popt_z)"
   ]
  },
  {
   "cell_type": "code",
   "execution_count": 66,
   "metadata": {},
   "outputs": [
    {
     "data": {
      "text/html": [
       "<div>\n",
       "<style scoped>\n",
       "    .dataframe tbody tr th:only-of-type {\n",
       "        vertical-align: middle;\n",
       "    }\n",
       "\n",
       "    .dataframe tbody tr th {\n",
       "        vertical-align: top;\n",
       "    }\n",
       "\n",
       "    .dataframe thead th {\n",
       "        text-align: right;\n",
       "    }\n",
       "</style>\n",
       "<table border=\"1\" class=\"dataframe\">\n",
       "  <thead>\n",
       "    <tr style=\"text-align: right;\">\n",
       "      <th></th>\n",
       "      <th>index</th>\n",
       "      <th>x</th>\n",
       "      <th>y</th>\n",
       "      <th>slice</th>\n",
       "      <th>dz</th>\n",
       "      <th>dxy</th>\n",
       "      <th>neigh_probs</th>\n",
       "      <th>tot_prob</th>\n",
       "      <th>max_prob</th>\n",
       "      <th>sheet_name</th>\n",
       "    </tr>\n",
       "  </thead>\n",
       "  <tbody>\n",
       "    <tr>\n",
       "      <th>0</th>\n",
       "      <td>0</td>\n",
       "      <td>160.984</td>\n",
       "      <td>65.910</td>\n",
       "      <td>11.0</td>\n",
       "      <td>[2.0, 2.0, 8.0, 9.0, 11.0, 12.0, 15.0, 19.0, 2...</td>\n",
       "      <td>[121.93987076014146, 155.0081277385157, 96.875...</td>\n",
       "      <td>[0.0, 0.0, 0.0, 0.0, 0.0, 0.0, 0.0, 0.0, 0.0, ...</td>\n",
       "      <td>5.149611e-10</td>\n",
       "      <td>5.149611e-10</td>\n",
       "      <td>03232020_049</td>\n",
       "    </tr>\n",
       "    <tr>\n",
       "      <th>1</th>\n",
       "      <td>1</td>\n",
       "      <td>158.068</td>\n",
       "      <td>187.815</td>\n",
       "      <td>13.0</td>\n",
       "      <td>[-2.0, 0.0, 6.0, 7.0, 9.0, 10.0, 13.0, 17.0, 1...</td>\n",
       "      <td>[121.93987076014146, 99.2958340012309, 134.047...</td>\n",
       "      <td>[0.0, 0.0, 0.0, 0.0, 0.0, 8.037601760233238e-1...</td>\n",
       "      <td>1.004836e-02</td>\n",
       "      <td>4.411090e-03</td>\n",
       "      <td>03232020_049</td>\n",
       "    </tr>\n",
       "    <tr>\n",
       "      <th>2</th>\n",
       "      <td>2</td>\n",
       "      <td>58.911</td>\n",
       "      <td>182.566</td>\n",
       "      <td>13.0</td>\n",
       "      <td>[-2.0, 0.0, 6.0, 7.0, 9.0, 10.0, 13.0, 17.0, 1...</td>\n",
       "      <td>[155.0081277385157, 99.2958340012309, 214.0390...</td>\n",
       "      <td>[0.0, 0.0, 0.0, 0.0, 0.0, 0.0, 0.0, 0.0, 0.0, ...</td>\n",
       "      <td>1.176097e-01</td>\n",
       "      <td>1.031087e-01</td>\n",
       "      <td>03232020_049</td>\n",
       "    </tr>\n",
       "    <tr>\n",
       "      <th>3</th>\n",
       "      <td>3</td>\n",
       "      <td>253.725</td>\n",
       "      <td>93.908</td>\n",
       "      <td>19.0</td>\n",
       "      <td>[-8.0, -6.0, -6.0, 1.0, 3.0, 4.0, 7.0, 11.0, 1...</td>\n",
       "      <td>[96.87507979351551, 134.04770157671484, 214.03...</td>\n",
       "      <td>[0.0, 0.0, 0.0, 0.0, 0.0, 0.0, 0.0, 0.0, 0.0, ...</td>\n",
       "      <td>2.437228e-05</td>\n",
       "      <td>1.070152e-05</td>\n",
       "      <td>03232020_049</td>\n",
       "    </tr>\n",
       "    <tr>\n",
       "      <th>4</th>\n",
       "      <td>4</td>\n",
       "      <td>218.729</td>\n",
       "      <td>140.570</td>\n",
       "      <td>20.0</td>\n",
       "      <td>[-9.0, -7.0, -7.0, -1.0, 2.0, 3.0, 6.0, 10.0, ...</td>\n",
       "      <td>[94.38538353474016, 76.88853585548368, 165.243...</td>\n",
       "      <td>[0.0, 0.0, 0.0, 0.0, 0.0, 0.0, 1.4566259959916...</td>\n",
       "      <td>2.134046e-03</td>\n",
       "      <td>1.818031e-03</td>\n",
       "      <td>03232020_049</td>\n",
       "    </tr>\n",
       "    <tr>\n",
       "      <th>...</th>\n",
       "      <td>...</td>\n",
       "      <td>...</td>\n",
       "      <td>...</td>\n",
       "      <td>...</td>\n",
       "      <td>...</td>\n",
       "      <td>...</td>\n",
       "      <td>...</td>\n",
       "      <td>...</td>\n",
       "      <td>...</td>\n",
       "      <td>...</td>\n",
       "    </tr>\n",
       "    <tr>\n",
       "      <th>1244</th>\n",
       "      <td>107</td>\n",
       "      <td>131.820</td>\n",
       "      <td>173.233</td>\n",
       "      <td>149.0</td>\n",
       "      <td>[-148.0, -148.0, -148.0, -144.0, -138.0, -138....</td>\n",
       "      <td>[73.1983070979104, 87.89089839681921, 154.7471...</td>\n",
       "      <td>[0.0, 0.0, 0.0, 0.0, 0.0, 0.0, 0.0, 0.0, 0.0, ...</td>\n",
       "      <td>1.043849e-01</td>\n",
       "      <td>1.031087e-01</td>\n",
       "      <td>05272020_053</td>\n",
       "    </tr>\n",
       "    <tr>\n",
       "      <th>1245</th>\n",
       "      <td>108</td>\n",
       "      <td>192.481</td>\n",
       "      <td>181.399</td>\n",
       "      <td>149.0</td>\n",
       "      <td>[-148.0, -148.0, -148.0, -144.0, -138.0, -138....</td>\n",
       "      <td>[48.95661598803578, 113.97923453857723, 200.87...</td>\n",
       "      <td>[0.0, 0.0, 0.0, 0.0, 0.0, 0.0, 0.0, 0.0, 0.0, ...</td>\n",
       "      <td>5.926322e-02</td>\n",
       "      <td>3.002056e-02</td>\n",
       "      <td>05272020_053</td>\n",
       "    </tr>\n",
       "    <tr>\n",
       "      <th>1246</th>\n",
       "      <td>109</td>\n",
       "      <td>197.731</td>\n",
       "      <td>164.484</td>\n",
       "      <td>149.0</td>\n",
       "      <td>[-148.0, -148.0, -148.0, -144.0, -138.0, -138....</td>\n",
       "      <td>[66.6593153580203, 129.52953177171602, 213.668...</td>\n",
       "      <td>[0.0, 0.0, 0.0, 0.0, 0.0, 0.0, 0.0, 0.0, 0.0, ...</td>\n",
       "      <td>1.020853e-02</td>\n",
       "      <td>4.210182e-03</td>\n",
       "      <td>05272020_053</td>\n",
       "    </tr>\n",
       "    <tr>\n",
       "      <th>1247</th>\n",
       "      <td>110</td>\n",
       "      <td>47.245</td>\n",
       "      <td>134.154</td>\n",
       "      <td>149.0</td>\n",
       "      <td>[-148.0, -148.0, -148.0, -144.0, -138.0, -138....</td>\n",
       "      <td>[162.66277790570282, 137.73187226274098, 143.3...</td>\n",
       "      <td>[0.0, 0.0, 0.0, 0.0, 0.0, 0.0, 0.0, 0.0, 0.0, ...</td>\n",
       "      <td>1.316992e-04</td>\n",
       "      <td>1.316746e-04</td>\n",
       "      <td>05272020_053</td>\n",
       "    </tr>\n",
       "    <tr>\n",
       "      <th>1248</th>\n",
       "      <td>111</td>\n",
       "      <td>71.743</td>\n",
       "      <td>228.061</td>\n",
       "      <td>149.0</td>\n",
       "      <td>[-148.0, -148.0, -148.0, -144.0, -138.0, -138....</td>\n",
       "      <td>[107.90757491946523, 46.82570424457063, 73.513...</td>\n",
       "      <td>[0.0, 0.0, 0.0, 0.0, 0.0, 0.0, 0.0, 0.0, 0.0, ...</td>\n",
       "      <td>1.304510e-04</td>\n",
       "      <td>8.817810e-05</td>\n",
       "      <td>05272020_053</td>\n",
       "    </tr>\n",
       "  </tbody>\n",
       "</table>\n",
       "<p>1249 rows × 10 columns</p>\n",
       "</div>"
      ],
      "text/plain": [
       "      index        x        y  slice  \\\n",
       "0         0  160.984   65.910   11.0   \n",
       "1         1  158.068  187.815   13.0   \n",
       "2         2   58.911  182.566   13.0   \n",
       "3         3  253.725   93.908   19.0   \n",
       "4         4  218.729  140.570   20.0   \n",
       "...     ...      ...      ...    ...   \n",
       "1244    107  131.820  173.233  149.0   \n",
       "1245    108  192.481  181.399  149.0   \n",
       "1246    109  197.731  164.484  149.0   \n",
       "1247    110   47.245  134.154  149.0   \n",
       "1248    111   71.743  228.061  149.0   \n",
       "\n",
       "                                                     dz  \\\n",
       "0     [2.0, 2.0, 8.0, 9.0, 11.0, 12.0, 15.0, 19.0, 2...   \n",
       "1     [-2.0, 0.0, 6.0, 7.0, 9.0, 10.0, 13.0, 17.0, 1...   \n",
       "2     [-2.0, 0.0, 6.0, 7.0, 9.0, 10.0, 13.0, 17.0, 1...   \n",
       "3     [-8.0, -6.0, -6.0, 1.0, 3.0, 4.0, 7.0, 11.0, 1...   \n",
       "4     [-9.0, -7.0, -7.0, -1.0, 2.0, 3.0, 6.0, 10.0, ...   \n",
       "...                                                 ...   \n",
       "1244  [-148.0, -148.0, -148.0, -144.0, -138.0, -138....   \n",
       "1245  [-148.0, -148.0, -148.0, -144.0, -138.0, -138....   \n",
       "1246  [-148.0, -148.0, -148.0, -144.0, -138.0, -138....   \n",
       "1247  [-148.0, -148.0, -148.0, -144.0, -138.0, -138....   \n",
       "1248  [-148.0, -148.0, -148.0, -144.0, -138.0, -138....   \n",
       "\n",
       "                                                    dxy  \\\n",
       "0     [121.93987076014146, 155.0081277385157, 96.875...   \n",
       "1     [121.93987076014146, 99.2958340012309, 134.047...   \n",
       "2     [155.0081277385157, 99.2958340012309, 214.0390...   \n",
       "3     [96.87507979351551, 134.04770157671484, 214.03...   \n",
       "4     [94.38538353474016, 76.88853585548368, 165.243...   \n",
       "...                                                 ...   \n",
       "1244  [73.1983070979104, 87.89089839681921, 154.7471...   \n",
       "1245  [48.95661598803578, 113.97923453857723, 200.87...   \n",
       "1246  [66.6593153580203, 129.52953177171602, 213.668...   \n",
       "1247  [162.66277790570282, 137.73187226274098, 143.3...   \n",
       "1248  [107.90757491946523, 46.82570424457063, 73.513...   \n",
       "\n",
       "                                            neigh_probs      tot_prob  \\\n",
       "0     [0.0, 0.0, 0.0, 0.0, 0.0, 0.0, 0.0, 0.0, 0.0, ...  5.149611e-10   \n",
       "1     [0.0, 0.0, 0.0, 0.0, 0.0, 8.037601760233238e-1...  1.004836e-02   \n",
       "2     [0.0, 0.0, 0.0, 0.0, 0.0, 0.0, 0.0, 0.0, 0.0, ...  1.176097e-01   \n",
       "3     [0.0, 0.0, 0.0, 0.0, 0.0, 0.0, 0.0, 0.0, 0.0, ...  2.437228e-05   \n",
       "4     [0.0, 0.0, 0.0, 0.0, 0.0, 0.0, 1.4566259959916...  2.134046e-03   \n",
       "...                                                 ...           ...   \n",
       "1244  [0.0, 0.0, 0.0, 0.0, 0.0, 0.0, 0.0, 0.0, 0.0, ...  1.043849e-01   \n",
       "1245  [0.0, 0.0, 0.0, 0.0, 0.0, 0.0, 0.0, 0.0, 0.0, ...  5.926322e-02   \n",
       "1246  [0.0, 0.0, 0.0, 0.0, 0.0, 0.0, 0.0, 0.0, 0.0, ...  1.020853e-02   \n",
       "1247  [0.0, 0.0, 0.0, 0.0, 0.0, 0.0, 0.0, 0.0, 0.0, ...  1.316992e-04   \n",
       "1248  [0.0, 0.0, 0.0, 0.0, 0.0, 0.0, 0.0, 0.0, 0.0, ...  1.304510e-04   \n",
       "\n",
       "          max_prob    sheet_name  \n",
       "0     5.149611e-10  03232020_049  \n",
       "1     4.411090e-03  03232020_049  \n",
       "2     1.031087e-01  03232020_049  \n",
       "3     1.070152e-05  03232020_049  \n",
       "4     1.818031e-03  03232020_049  \n",
       "...            ...           ...  \n",
       "1244  1.031087e-01  05272020_053  \n",
       "1245  3.002056e-02  05272020_053  \n",
       "1246  4.210182e-03  05272020_053  \n",
       "1247  1.316746e-04  05272020_053  \n",
       "1248  8.817810e-05  05272020_053  \n",
       "\n",
       "[1249 rows x 10 columns]"
      ]
     },
     "execution_count": 66,
     "metadata": {},
     "output_type": "execute_result"
    }
   ],
   "source": [
    "##created data frames where each row is cell. dxy, dz each contain an array for each cell with corresponding \n",
    "##distances to all imaged neighbors, neigh_probs contains an array with corresponding off-target estimates\n",
    "c_list=['index','x','y','slice','dz','dxy','neigh_probs','tot_prob','max_prob','sheet_name']\n",
    "PenkKv_inter[c_list]"
   ]
  },
  {
   "cell_type": "code",
   "execution_count": 49,
   "metadata": {},
   "outputs": [],
   "source": [
    "def plot_neighbors(sheet_df, i,ax):\n",
    "    dxys=sheet_df.dxy[i]\n",
    "    dzs = sheet_df.dz[i]\n",
    "    probs = sheet_df.neigh_probs[i]\n",
    "    ax.scatter(dxys,dzs,c=probs)\n",
    "\n",
    "def plot_neighbors_3d(sheet_df, i,ax,sens_factor=1):\n",
    "    \n",
    "    dxs=np.array(sheet_df.dx.values[i])\n",
    "    dys = np.array(sheet_df.dy.values[i])\n",
    "    dzs = np.array(sheet_df.dz.values[i])\n",
    "    probs = np.array(sheet_df.neigh_probs.values[i])*sens_factor\n",
    "    neigh_df=pd.DataFrame({'x':dxs,'y':dys,'z':dzs,'prob':probs})\n",
    "    z_p=neigh_df[neigh_df.prob<0.010]\n",
    "    z_p=z_p[(abs(z_p.x)<50) & (abs(z_p.y)<50)]\n",
    "    plot_df=neigh_df[neigh_df.prob>0.01]\n",
    "    count=np.shape(plot_df)[0]\n",
    "    ax.scatter(plot_df.x,plot_df.y,plot_df.z,c=plot_df.prob,cmap='plasma',alpha=0.5,vmin=0,vmax=1,s=7,zorder=1)\n",
    "    ax.scatter(z_p.x,z_p.y,z_p.z,c='black',alpha=0.1,s=1,zorder=0)\n",
    "    return count\n",
    "\n",
    "def overlay_cells(df,n,sens_factor=1,name=''):\n",
    "    df['z_dist']=df['max_z']-df['slice']\n",
    "\n",
    "    sub=df[(df.z_dist>30) & (df.slice>30)] #subset for cells >30 microns from borders\n",
    "    random.seed(10)\n",
    "    random_list=random.sample(list(sub.index),n)\n",
    "    fig = plt.figure(figsize=(2,2))\n",
    "    ax = fig.add_subplot(111, projection='3d')\n",
    "    count=0\n",
    "    for i in random_list:\n",
    "        i_count=plot_neighbors_3d(df,i,ax,sens_factor)\n",
    "        count=count+i_count\n",
    "    print(count)\n",
    "    xyzlim = np.array([ax.get_xlim3d(),ax.get_ylim3d(),ax.get_zlim3d()]).T\n",
    "    XYZlim = [min(xyzlim[0]),max(xyzlim[1])]\n",
    "    XYZlim = [-50,50]\n",
    "    ax.set_xlim3d(XYZlim)\n",
    "    ax.set_ylim3d(XYZlim)\n",
    "    ax.set_zlim3d(XYZlim)\n",
    "    ax.set_box_aspect(aspect = (1,1,1))\n",
    "    ax.scatter([0],[0],[0],s=12,c='green',zorder=2)\n",
    "    ax.set_xlabel('x (' r'$\\mu$'+'m)',labelpad=0)\n",
    "    ax.set_ylabel('y (' r'$\\mu$'+'m)',labelpad=0)\n",
    "    ax.set_zlabel('z (' r'$\\mu$'+'m)',labelpad=0)\n",
    "    tvs=[-50,-25,0,25,50]    \n",
    "    ax.set(xticks=tvs, yticks=tvs,zticks=tvs)\n",
    "    ax.axes.xaxis.set_ticklabels(['-50','','0','','50'])\n",
    "    ax.axes.yaxis.set_ticklabels([-50,'',0,'',50])\n",
    "    ax.axes.zaxis.set_ticklabels([-50,'',0,'',50])\n",
    "    ax.tick_params(axis='x', which='major', pad=0)\n",
    "    ax.tick_params(axis='y', which='major', pad=0)\n",
    "    ax.tick_params(axis='z', which='major', pad=0)\n",
    "    for item in ([ax.title, ax.xaxis.label, ax.yaxis.label, ax.zaxis.label] +\n",
    "             ax.get_xticklabels() + ax.get_yticklabels() + ax.get_zticklabels()):\n",
    "        item.set_fontsize(8)\n",
    "    fig.tight_layout()\n",
    "    if len(name)>0:\n",
    "        plt.savefig(name+'3d.svg')\n",
    "    plt.show()\n"
   ]
  },
  {
   "cell_type": "code",
   "execution_count": 50,
   "metadata": {},
   "outputs": [
    {
     "name": "stdout",
     "output_type": "stream",
     "text": [
      "93\n"
     ]
    },
    {
     "name": "stderr",
     "output_type": "stream",
     "text": [
      "/var/folders/r_/1r34q4315614mp9bkdvjcjph0000gp/T/ipykernel_16502/2526501001.py:57: UserWarning: Tight layout not applied. The left and right margins cannot be made large enough to accommodate all axes decorations. \n",
      "  fig.tight_layout()\n"
     ]
    },
    {
     "data": {
      "image/png": "[encoded data removed]",
      "text/plain": [
       "<Figure size 144x144 with 1 Axes>"
      ]
     },
     "metadata": {
      "needs_background": "light"
     },
     "output_type": "display_data"
    }
   ],
   "source": [
    "overlay_cells(PenkKv_inter,100,PenkKv_sens,'Penk_')"
   ]
  },
  {
   "cell_type": "code",
   "execution_count": 51,
   "metadata": {},
   "outputs": [
    {
     "data": {
      "image/png": "[encoded data removed]",
      "text/plain": [
       "<Figure size 144x36 with 1 Axes>"
      ]
     },
     "metadata": {
      "needs_background": "light"
     },
     "output_type": "display_data"
    }
   ],
   "source": [
    "fig,ax=plt.subplots()\n",
    "p=ax.scatter([0,0.2,0.4,0.6,0.8,1],[1,1,1,1,1,1],c=[0,0.2,0.4,0.6,0.8,1],alpha=1,cmap='plasma')\n",
    "\n",
    "\n",
    "\n",
    "plt.yticks([])\n",
    "plt.xticks([0,0.2,0.4,0.6,0.8,1],fontname='arial')\n",
    "ax.xaxis.set_major_formatter(FormatStrFormatter('%g'))\n",
    "ax.set_xlabel('off-target spike prob.',fontsize=8,fontname='arial')\n",
    "fig.set_figheight(0.5)\n",
    "fig.set_figwidth(2)\n",
    "ax.spines['right'].set_visible(False)\n",
    "ax.spines['left'].set_visible(False)\n",
    "ax.spines['top'].set_visible(False)\n",
    "\n",
    "plt.tick_params(axis='both', which='major', labelsize=8)\n",
    "#plt.savefig('cbar_h.svg')"
   ]
  },
  {
   "cell_type": "code",
   "execution_count": 52,
   "metadata": {},
   "outputs": [
    {
     "name": "stdout",
     "output_type": "stream",
     "text": [
      "526\n"
     ]
    },
    {
     "name": "stderr",
     "output_type": "stream",
     "text": [
      "/var/folders/r_/1r34q4315614mp9bkdvjcjph0000gp/T/ipykernel_16502/2526501001.py:57: UserWarning: Tight layout not applied. The left and right margins cannot be made large enough to accommodate all axes decorations. \n",
      "  fig.tight_layout()\n"
     ]
    },
    {
     "data": {
      "image/png": "[encoded data removed]",
      "text/plain": [
       "<Figure size 144x144 with 1 Axes>"
      ]
     },
     "metadata": {
      "needs_background": "light"
     },
     "output_type": "display_data"
    }
   ],
   "source": [
    "overlay_cells(RorbKv_inter,100,sens_factor=RorbKv_sens)\n"
   ]
  },
  {
   "cell_type": "code",
   "execution_count": 53,
   "metadata": {},
   "outputs": [
    {
     "name": "stdout",
     "output_type": "stream",
     "text": [
      "35\n"
     ]
    },
    {
     "name": "stderr",
     "output_type": "stream",
     "text": [
      "/var/folders/r_/1r34q4315614mp9bkdvjcjph0000gp/T/ipykernel_16502/2526501001.py:57: UserWarning: Tight layout not applied. The left and right margins cannot be made large enough to accommodate all axes decorations. \n",
      "  fig.tight_layout()\n"
     ]
    },
    {
     "data": {
      "image/png": "[encoded data removed]",
      "text/plain": [
       "<Figure size 144x144 with 1 Axes>"
      ]
     },
     "metadata": {
      "needs_background": "light"
     },
     "output_type": "display_data"
    }
   ],
   "source": [
    "overlay_cells(RorbAi_inter,100,sens_factor=RorbAi_sens)"
   ]
  },
  {
   "cell_type": "code",
   "execution_count": 56,
   "metadata": {},
   "outputs": [
    {
     "name": "stdout",
     "output_type": "stream",
     "text": [
      "161\n"
     ]
    },
    {
     "name": "stderr",
     "output_type": "stream",
     "text": [
      "/var/folders/r_/1r34q4315614mp9bkdvjcjph0000gp/T/ipykernel_16502/2526501001.py:57: UserWarning: Tight layout not applied. The left and right margins cannot be made large enough to accommodate all axes decorations. \n",
      "  fig.tight_layout()\n"
     ]
    },
    {
     "data": {
      "image/png": "[encoded data removed]",
      "text/plain": [
       "<Figure size 144x144 with 1 Axes>"
      ]
     },
     "metadata": {
      "needs_background": "light"
     },
     "output_type": "display_data"
    }
   ],
   "source": [
    "overlay_cells(Tlx3Kv_inter,100,Tlx3Kv_sens,'Tlx3_')\n"
   ]
  },
  {
   "cell_type": "code",
   "execution_count": 57,
   "metadata": {},
   "outputs": [
    {
     "name": "stdout",
     "output_type": "stream",
     "text": [
      "22\n"
     ]
    },
    {
     "name": "stderr",
     "output_type": "stream",
     "text": [
      "/var/folders/r_/1r34q4315614mp9bkdvjcjph0000gp/T/ipykernel_16502/2526501001.py:57: UserWarning: Tight layout not applied. The left and right margins cannot be made large enough to accommodate all axes decorations. \n",
      "  fig.tight_layout()\n"
     ]
    },
    {
     "data": {
      "image/png": "[encoded data removed]",
      "text/plain": [
       "<Figure size 144x144 with 1 Axes>"
      ]
     },
     "metadata": {
      "needs_background": "light"
     },
     "output_type": "display_data"
    }
   ],
   "source": [
    "overlay_cells(SstKv_inter,100,SstKv_sens,'SstKv_')"
   ]
  },
  {
   "cell_type": "code",
   "execution_count": 58,
   "metadata": {},
   "outputs": [
    {
     "name": "stdout",
     "output_type": "stream",
     "text": [
      "359\n"
     ]
    },
    {
     "name": "stderr",
     "output_type": "stream",
     "text": [
      "/var/folders/r_/1r34q4315614mp9bkdvjcjph0000gp/T/ipykernel_16502/2526501001.py:57: UserWarning: Tight layout not applied. The left and right margins cannot be made large enough to accommodate all axes decorations. \n",
      "  fig.tight_layout()\n"
     ]
    },
    {
     "data": {
      "image/png": "[encoded data removed]",
      "text/plain": [
       "<Figure size 144x144 with 1 Axes>"
      ]
     },
     "metadata": {
      "needs_background": "light"
     },
     "output_type": "display_data"
    }
   ],
   "source": [
    "overlay_cells(Ntsr1_inter,100,Ntsr1_sens)"
   ]
  },
  {
   "cell_type": "code",
   "execution_count": 59,
   "metadata": {},
   "outputs": [
    {
     "name": "stdout",
     "output_type": "stream",
     "text": [
      "95\n"
     ]
    },
    {
     "name": "stderr",
     "output_type": "stream",
     "text": [
      "/var/folders/r_/1r34q4315614mp9bkdvjcjph0000gp/T/ipykernel_16502/2526501001.py:57: UserWarning: Tight layout not applied. The left and right margins cannot be made large enough to accommodate all axes decorations. \n",
      "  fig.tight_layout()\n"
     ]
    },
    {
     "data": {
      "image/png": "[encoded data removed]",
      "text/plain": [
       "<Figure size 144x144 with 1 Axes>"
      ]
     },
     "metadata": {
      "needs_background": "light"
     },
     "output_type": "display_data"
    }
   ],
   "source": [
    "overlay_cells(PvalbKv_inter,100,PvalbKv_sens)"
   ]
  },
  {
   "cell_type": "code",
   "execution_count": 60,
   "metadata": {},
   "outputs": [
    {
     "name": "stdout",
     "output_type": "stream",
     "text": [
      "3\n"
     ]
    },
    {
     "name": "stderr",
     "output_type": "stream",
     "text": [
      "/var/folders/r_/1r34q4315614mp9bkdvjcjph0000gp/T/ipykernel_16502/2526501001.py:57: UserWarning: Tight layout not applied. The left and right margins cannot be made large enough to accommodate all axes decorations. \n",
      "  fig.tight_layout()\n"
     ]
    },
    {
     "data": {
      "image/png": "[encoded data removed]",
      "text/plain": [
       "<Figure size 144x144 with 1 Axes>"
      ]
     },
     "metadata": {
      "needs_background": "light"
     },
     "output_type": "display_data"
    }
   ],
   "source": [
    "overlay_cells(SstAi_inter,100,SstAi_sens)"
   ]
  },
  {
   "cell_type": "code",
   "execution_count": 67,
   "metadata": {},
   "outputs": [],
   "source": [
    "def midPoints(x):\n",
    "    x=np.array(x)\n",
    "    x_values=(x[:-1]+x[1:])/2\n",
    "    return x_values\n",
    "\n",
    "def neighbors_tested(df,z_bins=np.arange(-75,76,10),xy_bins=[0,10,20,30,40,50,60],savename='',vmax=0.4):\n",
    "    n_bins=len(z_bins)-1\n",
    "    n_bins_xy=len(xy_bins)-1\n",
    "    z_summary=midPoints(z_bins)\n",
    "    summary_tested=[]\n",
    "    summary_neighs=np.zeros(shape=(n_bins_xy,n_bins))\n",
    "    for i in df.index:\n",
    "        cell=df.loc[i]\n",
    "        probed_down=cell.max_z>=z_summary+cell.slice\n",
    "        probed_up=1<=z_summary+cell.slice\n",
    "        summary_tested.append(probed_down*probed_up)\n",
    "        H_cell, xedges, yedges = np.histogram2d(cell.dxy,cell.dz, bins=(xy_bins, z_bins))\n",
    "        summary_neighs+=H_cell\n",
    "    summary_tested=np.array(summary_tested)\n",
    "    counts=np.sum(summary_tested,axis=0)\n",
    "    out=np.tile(counts,(n_bins_xy,1))\n",
    "    neighbors_heatmap(summary_neighs,xedges,yedges,savename)\n",
    "    corrected_heatmap(summary_neighs,out,xedges,yedges,savename,vmax=vmax)\n",
    "    return {'neighbors':summary_neighs,'tested':out, 'xedges':xedges,'yedges':yedges}\n",
    "\n",
    "def neighbors_heatmap(neighbors, xedges, yedges,savename=''):\n",
    "    fig, ax = plt.subplots()\n",
    "    p=ax.imshow(neighbors.T, interpolation='nearest',filterrad=1,extent=[xedges[0], xedges[-1], yedges[0], yedges[-1]],vmin=0,cmap='gray')\n",
    "    cb=plt.colorbar(p,fraction=0.046*2.2, pad=0.04)\n",
    "    cb.ax.tick_params(labelsize=8) \n",
    "    cb.set_label('# neighbors', fontsize=8, fontname='arial')\n",
    "    plt.ylabel('axial offset (' r'$\\mu$'+'m)',fontsize=8,fontname='arial')\n",
    "    plt.xlabel('lateral offset (' r'$\\mu$'+'m)',fontsize=8,fontname='arial')\n",
    "    fig.set_figwidth(0.8)\n",
    "    plt.tick_params(axis='both', which='major', labelsize=8, direction='out')\n",
    "    plt.yticks(fontname = \"arial\")\n",
    "    plt.xticks(fontname= \"arial\")\n",
    "    if len(savename)>0:\n",
    "        plt.savefig(savename+'_neighsHeat.svg')\n",
    "    plt.show()\n",
    "    \n",
    "def corrected_heatmap(neighbors, tested, xedges, yedges,savename='',vmax=0.4):\n",
    "    fig, ax = plt.subplots()\n",
    "    p=ax.imshow(neighbors.T/tested.T, interpolation='nearest',filterrad=1,extent=[xedges[0], xedges[-1], yedges[0], yedges[-1]],vmin=0,vmax=vmax,cmap='YlGn_r')\n",
    "    cb=plt.colorbar(p, fraction=0.046*2.2, pad=0.04)\n",
    "    cb.set_label('neighbors per cell', fontsize=8, fontname='arial')\n",
    "    cb.ax.tick_params(labelsize=8) \n",
    "    plt.ylabel('axial offset (' r'$\\mu$'+'m)',fontsize=8,fontname='arial')\n",
    "    plt.xlabel('lateral offset (' r'$\\mu$'+'m)',fontsize=8,fontname='arial')\n",
    "    fig.set_figwidth(0.8)\n",
    "    plt.tick_params(axis='both', which='major', labelsize=8, direction='out')\n",
    "    plt.yticks(fontname = \"arial\")\n",
    "    plt.xticks(fontname= \"arial\")\n",
    "    if len(savename)>0:\n",
    "        plt.savefig(savename+'_psCorr.svg')\n",
    "    plt.show()\n",
    "    \n",
    "def photostim_heatmap_fit(xy_popt,z_popt,xy_d,z_d):\n",
    "    midx=(xy_d[:-1]+xy_d[1:])/2\n",
    "    midz=(z_d[:-1]+z_d[1:])/2\n",
    "    summary_probs=np.zeros(shape=[len(midx),len(midz)])\n",
    "    i=0\n",
    "    for x in midx:\n",
    "        j=0\n",
    "        x_p = Gauss(x, *xy_popt)\n",
    "        for z in midz:\n",
    "            z_p = Gauss(z, *z_popt)\n",
    "            if z_p<x_p:\n",
    "                act_prob = z_p\n",
    "            else:\n",
    "                act_prob = x_p\n",
    "            act_prob=x_p*z_p\n",
    "            act_prob=np.min([x_p,z_p])\n",
    "            summary_probs[i,j]=act_prob\n",
    "            j+=1\n",
    "        i+=1\n",
    "    return summary_probs"
   ]
  },
  {
   "cell_type": "code",
   "execution_count": 82,
   "metadata": {},
   "outputs": [
    {
     "data": {
      "image/png": "[encoded data removed]",
      "text/plain": [
       "<Figure size 57.6x288 with 2 Axes>"
      ]
     },
     "metadata": {
      "needs_background": "light"
     },
     "output_type": "display_data"
    },
    {
     "data": {
      "image/png": "[encoded data removed]",
      "text/plain": [
       "<Figure size 57.6x288 with 2 Axes>"
      ]
     },
     "metadata": {
      "needs_background": "light"
     },
     "output_type": "display_data"
    }
   ],
   "source": [
    "##grey scale heatmap is a 2d hist of the number of neighbors. We find more neighbors within an imaging plane due to\n",
    "##edge effects. This is also observed if objects are randomly placed in a confined space.\n",
    "##green-yellow heatmap normalizes the previous heatmap by the number of cells a sufficient distance from the z-borders\n",
    "##of the imaging volume\n",
    "x_d=np.arange(0,61,6)\n",
    "z_d=np.arange(-69,70,6)\n",
    "\n",
    "Tlx3_neighbors=neighbors_tested(Tlx3Kv_inter,z_bins=z_d,xy_bins=x_d)"
   ]
  },
  {
   "cell_type": "code",
   "execution_count": 83,
   "metadata": {},
   "outputs": [
    {
     "data": {
      "image/png": "[encoded data removed]",
      "text/plain": [
       "<Figure size 57.6x288 with 1 Axes>"
      ]
     },
     "metadata": {
      "needs_background": "light"
     },
     "output_type": "display_data"
    }
   ],
   "source": [
    "##cleaned version for fig\n",
    "neighbors=Tlx3_neighbors['neighbors']\n",
    "tested=Tlx3_neighbors['tested']\n",
    "xedges=Tlx3_neighbors['xedges']\n",
    "yedges=Tlx3_neighbors['yedges']\n",
    "fig, ax = plt.subplots()\n",
    "p = ax.imshow(neighbors.T/tested.T, interpolation='nearest',filterrad=1,extent=[xedges[0], xedges[-1], yedges[0], yedges[-1]],vmin=0,vmax=0.4,cmap='YlGn_r')\n",
    "fig.set_figwidth(0.8)\n",
    "plt.ylabel('axial offset (' r'$\\mu$'+'m)',fontsize=8,fontname='arial')\n",
    "plt.xlabel('lateral offset (' r'$\\mu$'+'m)',fontsize=8,fontname='arial')\n",
    "plt.tick_params(axis='both', which='major', labelsize=8, direction='out')\n",
    "plt.yticks(fontname = \"arial\")\n",
    "plt.xticks(fontname= \"arial\")\n",
    "ax.spines['left'].set_visible(False)\n",
    "ax.spines['top'].set_visible(False)\n",
    "ax.spines['right'].set_visible(False)\n",
    "ax.spines['bottom'].set_visible(False)\n",
    "#plt.savefig('Tlx3Kv_normNeigh.svg')"
   ]
  },
  {
   "cell_type": "code",
   "execution_count": 84,
   "metadata": {},
   "outputs": [],
   "source": [
    "np.savetxt(\"Tlx3_neighs.csv\", neighbors.T/tested.T, delimiter=\",\")"
   ]
  },
  {
   "cell_type": "code",
   "execution_count": 85,
   "metadata": {},
   "outputs": [
    {
     "data": {
      "image/png": "[encoded data removed]",
      "text/plain": [
       "<Figure size 57.6x288 with 1 Axes>"
      ]
     },
     "metadata": {
      "needs_background": "light"
     },
     "output_type": "display_data"
    }
   ],
   "source": [
    "Tlx3Kv_ps_array = photostim_heatmap_fit(Tlx3Kv_popt_x,Tlx3Kv_popt_z,x_d,z_d)\n",
    "Tlx3Kv_ps_array = Tlx3Kv_ps_array\n",
    "xedges=Tlx3_neighbors['xedges']\n",
    "yedges=Tlx3_neighbors['yedges']\n",
    "fig, ax = plt.subplots()\n",
    "p=ax.imshow(Tlx3Kv_ps_array.T,interpolation='nearest',filterrad=1,extent=[xedges[0], xedges[-1], yedges[0], yedges[-1]],vmax=1,vmin=0,cmap='plasma')\n",
    "fig.set_figwidth(0.8)\n",
    "plt.tick_params(axis='both', which='major', labelsize=8, direction='out')\n",
    "plt.yticks(fontname = \"arial\")\n",
    "plt.xticks(fontname= \"arial\")\n",
    "plt.xlabel('lateral offset (' r'$\\mu$'+'m)',fontsize=8,fontname='arial')\n",
    "ax.spines['left'].set_visible(False)\n",
    "ax.spines['top'].set_visible(False)\n",
    "ax.spines['right'].set_visible(False)\n",
    "ax.spines['bottom'].set_visible(False)\n",
    "#plt.savefig('Tlx3Kv_ps_sensAdj.svg')"
   ]
  },
  {
   "cell_type": "code",
   "execution_count": 86,
   "metadata": {},
   "outputs": [],
   "source": [
    "np.savetxt(\"Tlx3_photostim.csv\", Tlx3Kv_ps_array.T, delimiter=\",\")"
   ]
  },
  {
   "cell_type": "code",
   "execution_count": 87,
   "metadata": {},
   "outputs": [
    {
     "name": "stdout",
     "output_type": "stream",
     "text": [
      "0.21407267851083908\n"
     ]
    },
    {
     "data": {
      "image/png": "[encoded data removed]",
      "text/plain": [
       "<Figure size 57.6x288 with 1 Axes>"
      ]
     },
     "metadata": {
      "needs_background": "light"
     },
     "output_type": "display_data"
    }
   ],
   "source": [
    "fig,ax = plt.subplots()\n",
    "p=ax.imshow(neighbors.T/tested.T*Tlx3Kv_ps_array.T,interpolation='nearest',filterrad=1,extent=[xedges[0], xedges[-1], yedges[0], yedges[-1]],vmin=0,vmax=0.015,cmap='viridis')\n",
    "fig.set_figwidth(0.8)\n",
    "plt.tick_params(axis='both', which='major', labelsize=8, direction='out')\n",
    "plt.yticks(fontname = \"arial\")\n",
    "plt.xticks(fontname= \"arial\")\n",
    "plt.xlabel('lateral offset (' r'$\\mu$'+'m)',fontsize=8,fontname='arial')\n",
    "ax.scatter([0],[0],c='white',marker='o')\n",
    "ax.spines['left'].set_visible(False)\n",
    "ax.spines['top'].set_visible(False)\n",
    "ax.spines['right'].set_visible(False)\n",
    "ax.spines['bottom'].set_visible(False)\n",
    "print (np.sum(neighbors.T/tested.T*Tlx3Kv_ps_array.T))\n",
    "#plt.savefig('Tlx3Kv_product_heat.svg')"
   ]
  },
  {
   "cell_type": "code",
   "execution_count": 74,
   "metadata": {},
   "outputs": [],
   "source": [
    "np.savetxt(\"Tlx3_prod.csv\", neighbors.T/tested.T*Tlx3Kv_ps_array.T, delimiter=\",\")"
   ]
  },
  {
   "cell_type": "code",
   "execution_count": 75,
   "metadata": {},
   "outputs": [
    {
     "data": {
      "image/png": "[encoded data removed]",
      "text/plain": [
       "<Figure size 57.6x288 with 2 Axes>"
      ]
     },
     "metadata": {
      "needs_background": "light"
     },
     "output_type": "display_data"
    },
    {
     "data": {
      "image/png": "[encoded data removed]",
      "text/plain": [
       "<Figure size 57.6x288 with 2 Axes>"
      ]
     },
     "metadata": {
      "needs_background": "light"
     },
     "output_type": "display_data"
    }
   ],
   "source": [
    "SstKv_neighbors=neighbors_tested(SstKv_inter,z_bins=z_d,xy_bins=x_d)"
   ]
  },
  {
   "cell_type": "code",
   "execution_count": 76,
   "metadata": {},
   "outputs": [
    {
     "data": {
      "image/png": "[encoded data removed]",
      "text/plain": [
       "<Figure size 57.6x288 with 1 Axes>"
      ]
     },
     "metadata": {
      "needs_background": "light"
     },
     "output_type": "display_data"
    }
   ],
   "source": [
    "neighbors=SstKv_neighbors['neighbors']\n",
    "tested=SstKv_neighbors['tested']\n",
    "xedges=SstKv_neighbors['xedges']\n",
    "yedges=SstKv_neighbors['yedges']\n",
    "fig, ax = plt.subplots()\n",
    "p = ax.imshow(neighbors.T/tested.T, interpolation='nearest',filterrad=1,extent=[xedges[0], xedges[-1], yedges[0], yedges[-1]],vmin=0,vmax=0.4,cmap='YlGn_r')\n",
    "fig.set_figwidth(0.8)\n",
    "plt.ylabel('axial offset (' r'$\\mu$'+'m)',fontsize=8,fontname='arial')\n",
    "plt.xlabel('lateral offset (' r'$\\mu$'+'m)',fontsize=8,fontname='arial')\n",
    "plt.tick_params(axis='both', which='major', labelsize=8, direction='out')\n",
    "plt.yticks(fontname = \"arial\")\n",
    "plt.xticks(fontname= \"arial\")\n",
    "ax.spines['left'].set_visible(False)\n",
    "ax.spines['top'].set_visible(False)\n",
    "ax.spines['right'].set_visible(False)\n",
    "ax.spines['bottom'].set_visible(False)\n",
    "#plt.savefig('SstKv_normNeigh.svg')"
   ]
  },
  {
   "cell_type": "code",
   "execution_count": 77,
   "metadata": {},
   "outputs": [],
   "source": [
    "np.savetxt(\"Sst_neighs.csv\", neighbors.T/tested.T, delimiter=\",\")"
   ]
  },
  {
   "cell_type": "code",
   "execution_count": 78,
   "metadata": {},
   "outputs": [
    {
     "data": {
      "image/png": "[encoded data removed]",
      "text/plain": [
       "<Figure size 57.6x288 with 1 Axes>"
      ]
     },
     "metadata": {
      "needs_background": "light"
     },
     "output_type": "display_data"
    }
   ],
   "source": [
    "SstKv_ps_array = photostim_heatmap_fit(SstKv_popt_x,SstKv_popt_z,x_d,z_d)\n",
    "fig, ax = plt.subplots()\n",
    "p=ax.imshow(SstKv_ps_array.T,interpolation='nearest',filterrad=1,extent=[xedges[0], xedges[-1], yedges[0], yedges[-1]],vmax=1,vmin=0,cmap='plasma')\n",
    "fig.set_figwidth(0.8)\n",
    "plt.tick_params(axis='both', which='major', labelsize=8, direction='out')\n",
    "plt.xlabel('lateral offset (' r'$\\mu$'+'m)',fontsize=8,fontname='arial')\n",
    "plt.yticks(fontname = \"arial\")\n",
    "plt.xticks(fontname= \"arial\")\n",
    "ax.spines['left'].set_visible(False)\n",
    "ax.spines['top'].set_visible(False)\n",
    "ax.spines['right'].set_visible(False)\n",
    "ax.spines['bottom'].set_visible(False)\n",
    "##plt.savefig('SstKv_ps_sensAdj.svg')"
   ]
  },
  {
   "cell_type": "code",
   "execution_count": 79,
   "metadata": {},
   "outputs": [],
   "source": [
    "np.savetxt(\"Sst_photostim.csv\", SstKv_ps_array.T, delimiter=\",\")"
   ]
  },
  {
   "cell_type": "code",
   "execution_count": 80,
   "metadata": {},
   "outputs": [
    {
     "name": "stdout",
     "output_type": "stream",
     "text": [
      "0.027499047235153753\n"
     ]
    },
    {
     "data": {
      "image/png": "[encoded data removed]",
      "text/plain": [
       "<Figure size 57.6x288 with 1 Axes>"
      ]
     },
     "metadata": {
      "needs_background": "light"
     },
     "output_type": "display_data"
    }
   ],
   "source": [
    "fig,ax = plt.subplots()\n",
    "p=ax.imshow(neighbors.T/tested.T*SstKv_ps_array.T,interpolation='nearest',filterrad=1,extent=[xedges[0], xedges[-1], yedges[0], yedges[-1]],vmin=0,vmax=0.015,cmap='viridis')\n",
    "fig.set_figwidth(0.8)\n",
    "plt.tick_params(axis='both', which='major', labelsize=8, direction='out')\n",
    "plt.yticks(fontname = \"arial\")\n",
    "plt.xticks(fontname= \"arial\")\n",
    "plt.xlabel('lateral offset (' r'$\\mu$'+'m)',fontsize=8,fontname='arial')\n",
    "ax.scatter([0],[0],c='white',marker='o')\n",
    "ax.spines['left'].set_visible(False)\n",
    "ax.spines['top'].set_visible(False)\n",
    "ax.spines['right'].set_visible(False)\n",
    "ax.spines['bottom'].set_visible(False)\n",
    "print (np.sum(neighbors.T/tested.T*SstKv_ps_array.T))\n",
    "##plt.savefig('SstKv_product_heat.svg')"
   ]
  },
  {
   "cell_type": "code",
   "execution_count": 87,
   "metadata": {},
   "outputs": [],
   "source": [
    "np.savetxt(\"Sst_prod.csv\", neighbors.T/tested.T*SstKv_ps_array.T, delimiter=\",\")"
   ]
  },
  {
   "cell_type": "code",
   "execution_count": 88,
   "metadata": {},
   "outputs": [],
   "source": [
    "def estimate_offtarget_fit(df, x_d, z_d, xy_popt, z_popt, savename=''):\n",
    "    neighs_dict=neighbors_tested(df,z_bins=z_d,xy_bins=x_d,savename=savename)\n",
    "    xedges=neighs_dict['xedges']\n",
    "    yedges=neighs_dict['yedges']\n",
    "    ps_array=photostim_heatmap_fit(xy_popt,z_popt,x_d,z_d)\n",
    "    plot_heatmap(ps_array,xedges,yedges,savename)\n",
    "    neighs_per_cell=neighs_dict['neighbors']/neighs_dict['tested']\n",
    "    plot_photostim_dens_product(ps_array,neighs_per_cell,xedges,yedges)\n",
    "    \n",
    "def plot_heatmap(summary_probs,xedges,yedges,savename=''):\n",
    "    fig, ax = plt.subplots()\n",
    "    p=ax.imshow(summary_probs.T, interpolation='nearest',filterrad=1,extent=[xedges[0], xedges[-1], yedges[0], yedges[-1]],vmax=1,vmin=0,cmap='plasma')\n",
    "    cb=plt.colorbar(p,fraction=0.046*2.2, pad=0.04)\n",
    "    cb.set_label('off-target spike prob.', fontsize=8, fontname='arial')\n",
    "    cb.ax.tick_params(labelsize=8) \n",
    "    plt.ylabel('axial offset (' r'$\\mu$'+'m)',fontsize=8,fontname='arial')\n",
    "    plt.xlabel('lateral offset (' r'$\\mu$'+'m)',fontsize=8,fontname='arial')\n",
    "    fig.set_figwidth(0.8)\n",
    "    plt.tick_params(axis='both', which='major', labelsize=8, direction='out')\n",
    "    plt.yticks(fontname = \"arial\")\n",
    "    plt.xticks(fontname= \"arial\")\n",
    "    if len(savename)>0:\n",
    "        plt.savefig(savename+'_psHeat.svg')\n",
    "    plt.show()\n",
    "    \n",
    "    \n",
    "def plot_photostim_dens_product(summary_probs,neighs_per_cell,xedges,yedges,savename=''):\n",
    "    p=plt.imshow(neighs_per_cell.T*summary_probs.T,interpolation='nearest',filterrad=1,extent=[xedges[0], xedges[-1], yedges[0], yedges[-1]],vmin=0,cmap='plasma')\n",
    "    plt.scatter([0],[0],s=200,c='white')\n",
    "    cb=plt.colorbar(p)\n",
    "    cb.set_label('off-target spike prob. x neighbors/cell', fontsize=10, fontname='arial')\n",
    "    plt.ylabel('axial offset (' r'$\\mu$'+'m)')\n",
    "    plt.xlabel('lateral offset (' r'$\\mu$'+'m)')\n",
    "    if len(savename)>0:\n",
    "        plt.savefig(savename+'_prodHeat.svg')\n",
    "    plt.show()\n",
    "    print(np.nansum(neighs_per_cell.T*summary_probs.T), \"off-target cells/target\")"
   ]
  },
  {
   "cell_type": "code",
   "execution_count": 89,
   "metadata": {},
   "outputs": [
    {
     "data": {
      "image/png": "[encoded data removed]",
      "text/plain": [
       "<Figure size 57.6x288 with 2 Axes>"
      ]
     },
     "metadata": {
      "needs_background": "light"
     },
     "output_type": "display_data"
    },
    {
     "data": {
      "image/png": "[encoded data removed]",
      "text/plain": [
       "<Figure size 57.6x288 with 2 Axes>"
      ]
     },
     "metadata": {
      "needs_background": "light"
     },
     "output_type": "display_data"
    },
    {
     "data": {
      "image/png": "[encoded data removed]",
      "text/plain": [
       "<Figure size 57.6x288 with 2 Axes>"
      ]
     },
     "metadata": {
      "needs_background": "light"
     },
     "output_type": "display_data"
    },
    {
     "data": {
      "image/png": "[encoded data removed]",
      "text/plain": [
       "<Figure size 432x288 with 2 Axes>"
      ]
     },
     "metadata": {
      "needs_background": "light"
     },
     "output_type": "display_data"
    },
    {
     "name": "stdout",
     "output_type": "stream",
     "text": [
      "0.12987469691510176 off-target cells/target\n"
     ]
    }
   ],
   "source": [
    "##above process is strung together for Cre lines without polished plots. cmap scale will vary across Cre lines.\n",
    "estimate_offtarget_fit(PenkKv_inter, x_d, z_d, PenkKv_popt_x, PenkKv_popt_z)"
   ]
  },
  {
   "cell_type": "code",
   "execution_count": 90,
   "metadata": {},
   "outputs": [
    {
     "data": {
      "image/png": "[encoded data removed]",
      "text/plain": [
       "<Figure size 57.6x288 with 2 Axes>"
      ]
     },
     "metadata": {
      "needs_background": "light"
     },
     "output_type": "display_data"
    },
    {
     "data": {
      "image/png": "[encoded data removed]",
      "text/plain": [
       "<Figure size 57.6x288 with 2 Axes>"
      ]
     },
     "metadata": {
      "needs_background": "light"
     },
     "output_type": "display_data"
    },
    {
     "data": {
      "image/png": "[encoded data removed]",
      "text/plain": [
       "<Figure size 57.6x288 with 2 Axes>"
      ]
     },
     "metadata": {
      "needs_background": "light"
     },
     "output_type": "display_data"
    },
    {
     "data": {
      "image/png": "[encoded data removed]",
      "text/plain": [
       "<Figure size 432x288 with 2 Axes>"
      ]
     },
     "metadata": {
      "needs_background": "light"
     },
     "output_type": "display_data"
    },
    {
     "name": "stdout",
     "output_type": "stream",
     "text": [
      "0.8399008301350763 off-target cells/target\n"
     ]
    }
   ],
   "source": [
    "estimate_offtarget_fit(RorbKv_inter, x_d, z_d, RorbKv_popt_x, RorbKv_popt_z)"
   ]
  },
  {
   "cell_type": "code",
   "execution_count": 91,
   "metadata": {},
   "outputs": [
    {
     "data": {
      "image/png": "[encoded data removed]",
      "text/plain": [
       "<Figure size 57.6x288 with 2 Axes>"
      ]
     },
     "metadata": {
      "needs_background": "light"
     },
     "output_type": "display_data"
    },
    {
     "data": {
      "image/png": "[encoded data removed]",
      "text/plain": [
       "<Figure size 57.6x288 with 2 Axes>"
      ]
     },
     "metadata": {
      "needs_background": "light"
     },
     "output_type": "display_data"
    },
    {
     "data": {
      "image/png": "[encoded data removed]",
      "text/plain": [
       "<Figure size 57.6x288 with 2 Axes>"
      ]
     },
     "metadata": {
      "needs_background": "light"
     },
     "output_type": "display_data"
    },
    {
     "data": {
      "image/png": "[encoded data removed]",
      "text/plain": [
       "<Figure size 432x288 with 2 Axes>"
      ]
     },
     "metadata": {
      "needs_background": "light"
     },
     "output_type": "display_data"
    },
    {
     "name": "stdout",
     "output_type": "stream",
     "text": [
      "0.060626545658848945 off-target cells/target\n"
     ]
    }
   ],
   "source": [
    "estimate_offtarget_fit(RorbAi_inter, x_d, z_d, RorbAi_popt_x, RorbAi_popt_z)"
   ]
  },
  {
   "cell_type": "code",
   "execution_count": 92,
   "metadata": {},
   "outputs": [
    {
     "data": {
      "image/png": "[encoded data removed]",
      "text/plain": [
       "<Figure size 57.6x288 with 2 Axes>"
      ]
     },
     "metadata": {
      "needs_background": "light"
     },
     "output_type": "display_data"
    },
    {
     "data": {
      "image/png": "[encoded data removed]",
      "text/plain": [
       "<Figure size 57.6x288 with 2 Axes>"
      ]
     },
     "metadata": {
      "needs_background": "light"
     },
     "output_type": "display_data"
    },
    {
     "data": {
      "image/png": "[encoded data removed]",
      "text/plain": [
       "<Figure size 57.6x288 with 2 Axes>"
      ]
     },
     "metadata": {
      "needs_background": "light"
     },
     "output_type": "display_data"
    },
    {
     "data": {
      "image/png": "[encoded data removed]",
      "text/plain": [
       "<Figure size 432x288 with 2 Axes>"
      ]
     },
     "metadata": {
      "needs_background": "light"
     },
     "output_type": "display_data"
    },
    {
     "name": "stdout",
     "output_type": "stream",
     "text": [
      "0.028577764783655365 off-target cells/target\n"
     ]
    }
   ],
   "source": [
    "estimate_offtarget_fit(Scnn1a_inter, x_d, z_d, Scnn1aAi_popt_x, Scnn1aAi_popt_z)"
   ]
  },
  {
   "cell_type": "code",
   "execution_count": 93,
   "metadata": {},
   "outputs": [
    {
     "data": {
      "image/png": "[encoded data removed]",
      "text/plain": [
       "<Figure size 57.6x288 with 2 Axes>"
      ]
     },
     "metadata": {
      "needs_background": "light"
     },
     "output_type": "display_data"
    },
    {
     "data": {
      "image/png": "[encoded data removed]",
      "text/plain": [
       "<Figure size 57.6x288 with 2 Axes>"
      ]
     },
     "metadata": {
      "needs_background": "light"
     },
     "output_type": "display_data"
    },
    {
     "data": {
      "image/png": "[encoded data removed]",
      "text/plain": [
       "<Figure size 57.6x288 with 2 Axes>"
      ]
     },
     "metadata": {
      "needs_background": "light"
     },
     "output_type": "display_data"
    },
    {
     "data": {
      "image/png": "[encoded data removed]",
      "text/plain": [
       "<Figure size 432x288 with 2 Axes>"
      ]
     },
     "metadata": {
      "needs_background": "light"
     },
     "output_type": "display_data"
    },
    {
     "name": "stdout",
     "output_type": "stream",
     "text": [
      "0.9429267516052415 off-target cells/target\n"
     ]
    }
   ],
   "source": [
    "estimate_offtarget_fit(Ntsr1_inter, x_d, z_d, Ntsr1Ai_popt_x, Ntsr1Ai_popt_z)"
   ]
  },
  {
   "cell_type": "code",
   "execution_count": 94,
   "metadata": {},
   "outputs": [
    {
     "data": {
      "image/png": "[encoded data removed]",
      "text/plain": [
       "<Figure size 57.6x288 with 2 Axes>"
      ]
     },
     "metadata": {
      "needs_background": "light"
     },
     "output_type": "display_data"
    },
    {
     "data": {
      "image/png": "[encoded data removed]",
      "text/plain": [
       "<Figure size 57.6x288 with 2 Axes>"
      ]
     },
     "metadata": {
      "needs_background": "light"
     },
     "output_type": "display_data"
    },
    {
     "data": {
      "image/png": "[encoded data removed]",
      "text/plain": [
       "<Figure size 57.6x288 with 2 Axes>"
      ]
     },
     "metadata": {
      "needs_background": "light"
     },
     "output_type": "display_data"
    },
    {
     "data": {
      "image/png": "[encoded data removed]",
      "text/plain": [
       "<Figure size 432x288 with 2 Axes>"
      ]
     },
     "metadata": {
      "needs_background": "light"
     },
     "output_type": "display_data"
    },
    {
     "name": "stdout",
     "output_type": "stream",
     "text": [
      "0.12982235881634935 off-target cells/target\n"
     ]
    }
   ],
   "source": [
    "estimate_offtarget_fit(PvalbKv_inter, x_d, z_d, PvalbKv_popt_x, PvalbKv_popt_z)"
   ]
  },
  {
   "cell_type": "code",
   "execution_count": 96,
   "metadata": {},
   "outputs": [
    {
     "data": {
      "text/html": [
       "<div>\n",
       "<style scoped>\n",
       "    .dataframe tbody tr th:only-of-type {\n",
       "        vertical-align: middle;\n",
       "    }\n",
       "\n",
       "    .dataframe tbody tr th {\n",
       "        vertical-align: top;\n",
       "    }\n",
       "\n",
       "    .dataframe thead th {\n",
       "        text-align: right;\n",
       "    }\n",
       "</style>\n",
       "<table border=\"1\" class=\"dataframe\">\n",
       "  <thead>\n",
       "    <tr style=\"text-align: right;\">\n",
       "      <th></th>\n",
       "      <th>Cre</th>\n",
       "      <th>effector</th>\n",
       "      <th>avg_dens</th>\n",
       "      <th>xy_sig</th>\n",
       "      <th>z_sig</th>\n",
       "      <th>off_est</th>\n",
       "    </tr>\n",
       "  </thead>\n",
       "  <tbody>\n",
       "    <tr>\n",
       "      <th>0</th>\n",
       "      <td>RorbKv</td>\n",
       "      <td>AAV</td>\n",
       "      <td>19813.145110</td>\n",
       "      <td>6.775308</td>\n",
       "      <td>27.635577</td>\n",
       "      <td>0.839901</td>\n",
       "    </tr>\n",
       "    <tr>\n",
       "      <th>1</th>\n",
       "      <td>SstKv</td>\n",
       "      <td>AAV</td>\n",
       "      <td>4095.645255</td>\n",
       "      <td>5.042229</td>\n",
       "      <td>15.533890</td>\n",
       "      <td>0.027499</td>\n",
       "    </tr>\n",
       "    <tr>\n",
       "      <th>2</th>\n",
       "      <td>Tlx3Kv</td>\n",
       "      <td>AAV</td>\n",
       "      <td>22330.498940</td>\n",
       "      <td>5.332775</td>\n",
       "      <td>15.176749</td>\n",
       "      <td>0.214073</td>\n",
       "    </tr>\n",
       "    <tr>\n",
       "      <th>3</th>\n",
       "      <td>PenkKv</td>\n",
       "      <td>AAV</td>\n",
       "      <td>9255.702899</td>\n",
       "      <td>5.444623</td>\n",
       "      <td>21.110383</td>\n",
       "      <td>0.129875</td>\n",
       "    </tr>\n",
       "    <tr>\n",
       "      <th>4</th>\n",
       "      <td>PvalbKv</td>\n",
       "      <td>AAV</td>\n",
       "      <td>3349.172504</td>\n",
       "      <td>9.579632</td>\n",
       "      <td>23.224407</td>\n",
       "      <td>0.129822</td>\n",
       "    </tr>\n",
       "    <tr>\n",
       "      <th>5</th>\n",
       "      <td>RorbAi</td>\n",
       "      <td>Ai167</td>\n",
       "      <td>4424.813405</td>\n",
       "      <td>6.649579</td>\n",
       "      <td>24.729292</td>\n",
       "      <td>0.060627</td>\n",
       "    </tr>\n",
       "    <tr>\n",
       "      <th>6</th>\n",
       "      <td>Ntsr1Ai</td>\n",
       "      <td>Ai167</td>\n",
       "      <td>10094.000590</td>\n",
       "      <td>10.063780</td>\n",
       "      <td>28.370210</td>\n",
       "      <td>0.942927</td>\n",
       "    </tr>\n",
       "    <tr>\n",
       "      <th>7</th>\n",
       "      <td>Scnn1aAi</td>\n",
       "      <td>Ai167</td>\n",
       "      <td>1730.001852</td>\n",
       "      <td>6.473506</td>\n",
       "      <td>20.552885</td>\n",
       "      <td>0.028578</td>\n",
       "    </tr>\n",
       "    <tr>\n",
       "      <th>8</th>\n",
       "      <td>SstAi</td>\n",
       "      <td>Ai167</td>\n",
       "      <td>1429.936588</td>\n",
       "      <td>6.090537</td>\n",
       "      <td>22.766927</td>\n",
       "      <td>0.012495</td>\n",
       "    </tr>\n",
       "  </tbody>\n",
       "</table>\n",
       "</div>"
      ],
      "text/plain": [
       "        Cre effector      avg_dens     xy_sig      z_sig   off_est\n",
       "0    RorbKv      AAV  19813.145110   6.775308  27.635577  0.839901\n",
       "1     SstKv      AAV   4095.645255   5.042229  15.533890  0.027499\n",
       "2    Tlx3Kv      AAV  22330.498940   5.332775  15.176749  0.214073\n",
       "3    PenkKv      AAV   9255.702899   5.444623  21.110383  0.129875\n",
       "4   PvalbKv      AAV   3349.172504   9.579632  23.224407  0.129822\n",
       "5    RorbAi    Ai167   4424.813405   6.649579  24.729292  0.060627\n",
       "6   Ntsr1Ai    Ai167  10094.000590  10.063780  28.370210  0.942927\n",
       "7  Scnn1aAi    Ai167   1730.001852   6.473506  20.552885  0.028578\n",
       "8     SstAi    Ai167   1429.936588   6.090537  22.766927  0.012495"
      ]
     },
     "execution_count": 96,
     "metadata": {},
     "output_type": "execute_result"
    }
   ],
   "source": [
    "off_ests=pd.read_csv('data/offtarget_ests.csv')\n",
    "off_ests"
   ]
  },
  {
   "cell_type": "code",
   "execution_count": 98,
   "metadata": {},
   "outputs": [],
   "source": [
    "##for estimating off-target with homogenous distribution of cells (i.e. # cells proportional to volume)\n",
    "def neighs_given_dens(density, x_d,z_d):\n",
    "    i=-1\n",
    "    z_height=abs(z_d[1]-z_d[0])\n",
    "    out_array=np.zeros([len(x_d)-1,len(z_d)-1])\n",
    "    for x in x_d:\n",
    "        if x!=0:\n",
    "            sa=math.pi*x**2-math.pi*x_d[i]**2 ##area of outer radius - area of inner radius\n",
    "            v=sa*z_height/1e9 ##cubic um to cubic mm\n",
    "            n_cells=v*density\n",
    "            out_array[i,:]=n_cells\n",
    "        i+=1\n",
    "    return out_array     "
   ]
  },
  {
   "cell_type": "code",
   "execution_count": 99,
   "metadata": {},
   "outputs": [
    {
     "data": {
      "image/png": "[encoded data removed]",
      "text/plain": [
       "<Figure size 57.6x288 with 1 Axes>"
      ]
     },
     "metadata": {
      "needs_background": "light"
     },
     "output_type": "display_data"
    }
   ],
   "source": [
    "## draw effective point spread functions based on best Cre line/AAV/Ai167 combos\n",
    "popt=np.array([1,0,5.096]) ##FWHM = 12 um\n",
    "popt_z=np.array([1,0,14.863]) ##FWHM = 35 um\n",
    "bs=1\n",
    "x_d=np.arange(0,61,bs)\n",
    "z_d=np.arange(-69,70,bs)\n",
    "ps_sim1=photostim_heatmap_fit(popt,popt_z,x_d,z_d)\n",
    "\n",
    "fig, ax = plt.subplots()\n",
    "\n",
    "ax.imshow(ps_sim1.T,extent=[x_d[0], xedges[-1], z_d[0], z_d[-1]],vmax=1,vmin=0,cmap='plasma')\n",
    "\n",
    "fig.set_figwidth(0.8)\n",
    "ax.spines['left'].set_visible(False)\n",
    "ax.spines['top'].set_visible(False)\n",
    "ax.spines['right'].set_visible(False)\n",
    "ax.spines['bottom'].set_visible(False)\n",
    "plt.tick_params(axis='both', which='major', labelsize=8, direction='out')\n",
    "plt.ylabel('axial offset (' r'$\\mu$'+'m)',fontsize=8,fontname='arial')\n",
    "plt.xlabel('lateral offset (' r'$\\mu$'+'m)',fontsize=8,fontname='arial')\n",
    "#plt.savefig('ps_sim1.svg')\n",
    "plt.show()"
   ]
  },
  {
   "cell_type": "code",
   "execution_count": 100,
   "metadata": {},
   "outputs": [
    {
     "data": {
      "image/png": "[encoded data removed]",
      "text/plain": [
       "<Figure size 57.6x288 with 1 Axes>"
      ]
     },
     "metadata": {
      "needs_background": "light"
     },
     "output_type": "display_data"
    }
   ],
   "source": [
    "## draw effective point spread functions based on worst Cre line/AAV/Ai167 combos\n",
    "popt=np.array([1,0,10.192]) #FWHM = 24 um\n",
    "popt_z=np.array([1,0,28.028]) #FWHM = 66 um \n",
    "x_d=np.arange(0,61,bs)\n",
    "z_d=np.arange(-69,70,bs)\n",
    "\n",
    "ps_sim2=photostim_heatmap_fit(popt,popt_z,x_d,z_d)\n",
    "\n",
    "fig, ax = plt.subplots()\n",
    "p=ax.imshow(ps_sim2.T,extent=[x_d[0], xedges[-1], z_d[0], z_d[-1]],vmax=1,vmin=0,cmap='plasma')\n",
    "fig.set_figwidth(0.8)\n",
    "ax.spines['left'].set_visible(False)\n",
    "ax.spines['top'].set_visible(False)\n",
    "ax.spines['right'].set_visible(False)\n",
    "ax.spines['bottom'].set_visible(False)\n",
    "plt.tick_params(axis='both', which='major', labelsize=8, direction='out')\n",
    "plt.ylabel('axial offset (' r'$\\mu$'+'m)',fontsize=8,fontname='arial')\n",
    "plt.xlabel('lateral offset (' r'$\\mu$'+'m)',fontsize=8,fontname='arial')\n",
    "#plt.savefig('ps_sim2.svg')\n",
    "plt.show()"
   ]
  },
  {
   "cell_type": "code",
   "execution_count": 101,
   "metadata": {},
   "outputs": [
    {
     "data": {
      "image/png": "[encoded data removed]",
      "text/plain": [
       "<Figure size 144x144 with 1 Axes>"
      ]
     },
     "metadata": {
      "needs_background": "light"
     },
     "output_type": "display_data"
    }
   ],
   "source": [
    "csv_file=open('homogenous_dist_offT.csv','w')\n",
    "\n",
    "d_list=np.arange(1000,164000,1000) ##range of cell densities\n",
    "off_ts=[]\n",
    "fig, ax = plt.subplots()\n",
    "for density in d_list:\n",
    "    out=neighs_given_dens(density,x_d,z_d)\n",
    "    prod=ps_sim1*out\n",
    "    off_ts.append(np.sum(prod))\n",
    "ax.plot(d_list,off_ts,c='black')\n",
    "opto.write_csv(csv_file,d_list,'densities(cell/mm3)')\n",
    "opto.write_csv(csv_file,off_ts,'high_res_offT')\n",
    "\n",
    "off_ts=[]\n",
    "for density in d_list:\n",
    "    out=neighs_given_dens(density,x_d,z_d)\n",
    "    prod=ps_sim2*out\n",
    "    off_ts.append(np.sum(prod))\n",
    "ax.plot(d_list,off_ts,c='grey',zorder=0)\n",
    "opto.write_csv(csv_file,off_ts,'low_res_offT')\n",
    "\n",
    "colors=['blue','green','darkorange','magenta','purple','blue','red','cyan','green']\n",
    "facecolors=['none','white','white','white','white','blue','red','cyan','green']\n",
    "zs=[1,2,1,1,1,1,1,1,1]\n",
    "for i in off_ests.index:\n",
    "    c=colors[i]\n",
    "    f=facecolors[i]\n",
    "    z=zs[i]\n",
    "    avg_d=off_ests.avg_dens[i]\n",
    "    off=off_ests.off_est[i]\n",
    "    ax.scatter(avg_d, off,edgecolors=c,facecolors=f,zorder=z,alpha=0.8)\n",
    "\n",
    "ax.scatter([68000],[4.7],facecolor='grey', marker='*', edgecolor='black')\n",
    "ax.spines['right'].set_visible(False)\n",
    "ax.spines['top'].set_visible(False)\n",
    "ax.yaxis.set_ticks_position('left')\n",
    "ax.xaxis.set_ticks_position('bottom')\n",
    "ax.yaxis.set_tick_params(size=tick_size,labelsize=fs, direction='out')\n",
    "ax.xaxis.set_tick_params(size=tick_size,labelsize=fs, direction='out')\n",
    "ax.xaxis.set_major_formatter(FormatStrFormatter('%g'))\n",
    "ax.yaxis.set_major_formatter(FormatStrFormatter('%g'))\n",
    "plt.xscale('log')\n",
    "#plt.yscale('log')\n",
    "plt.axis([200,200000,-0.2,5])\n",
    "plt.ylabel('est. off-target cells/stim.')\n",
    "plt.xlabel('density (cells/mm$^{3}$)')\n",
    "fig.set_figheight(2)\n",
    "fig.set_figwidth(2)  \n",
    "csv_file.close()\n",
    "#plt.savefig('off_target_v_density.svg')"
   ]
  },
  {
   "cell_type": "code",
   "execution_count": 102,
   "metadata": {},
   "outputs": [
    {
     "data": {
      "image/png": "[encoded data removed]",
      "text/plain": [
       "<Figure size 144x144 with 1 Axes>"
      ]
     },
     "metadata": {
      "needs_background": "light"
     },
     "output_type": "display_data"
    }
   ],
   "source": [
    "csv_file=open('Presponse_v_Pcnx.csv','w')\n",
    "ns=[1.05,1.3,2,5]\n",
    "cs=['green','darkorange','red','grey']\n",
    "Pcnx=np.arange(0,1.01,0.01)\n",
    "opto.write_csv(csv_file,Pcnx,'connection probability')\n",
    "fig, ax = plt.subplots()\n",
    "\n",
    "for n, c in zip(ns,cs):\n",
    "    \n",
    "    Pnocnx=(1-Pcnx)**n\n",
    "    Patleast1=1-Pnocnx\n",
    "    ax.plot(Pcnx,Patleast1,c=c)\n",
    "    description=\"n=\"+str(n)\n",
    "    opto.write_csv(csv_file, Patleast1, \"response prob \"+description)\n",
    "ax.plot([0,1],[0,1],c='black',ls='dashed')\n",
    "ax.spines['right'].set_visible(False)\n",
    "ax.spines['top'].set_visible(False)\n",
    "ax.yaxis.set_ticks_position('left')\n",
    "ax.xaxis.set_ticks_position('bottom')\n",
    "ax.yaxis.set_tick_params(size=tick_size,labelsize=fs, direction='out')\n",
    "ax.xaxis.set_tick_params(size=tick_size,labelsize=fs, direction='out')\n",
    "ax.xaxis.set_major_formatter(FormatStrFormatter('%g'))\n",
    "ax.yaxis.set_major_formatter(FormatStrFormatter('%g'))\n",
    "\n",
    "plt.ylabel('response probability')\n",
    "plt.xlabel('connection probability')\n",
    "fig.set_figheight(2)\n",
    "fig.set_figwidth(2)    \n",
    "plt.savefig('rf_vs_PCnx.svg')\n",
    "csv_file.close()"
   ]
  },
  {
   "cell_type": "code",
   "execution_count": 103,
   "metadata": {},
   "outputs": [
    {
     "name": "stderr",
     "output_type": "stream",
     "text": [
      "/var/folders/r_/1r34q4315614mp9bkdvjcjph0000gp/T/ipykernel_16502/644726190.py:8: RuntimeWarning: invalid value encountered in true_divide\n",
      "  ppv=Pcnx/Patleast1\n",
      "/var/folders/r_/1r34q4315614mp9bkdvjcjph0000gp/T/ipykernel_16502/644726190.py:8: RuntimeWarning: invalid value encountered in true_divide\n",
      "  ppv=Pcnx/Patleast1\n",
      "/var/folders/r_/1r34q4315614mp9bkdvjcjph0000gp/T/ipykernel_16502/644726190.py:8: RuntimeWarning: invalid value encountered in true_divide\n",
      "  ppv=Pcnx/Patleast1\n",
      "/var/folders/r_/1r34q4315614mp9bkdvjcjph0000gp/T/ipykernel_16502/644726190.py:8: RuntimeWarning: invalid value encountered in true_divide\n",
      "  ppv=Pcnx/Patleast1\n"
     ]
    },
    {
     "data": {
      "image/png": "[encoded data removed]",
      "text/plain": [
       "<Figure size 144x144 with 1 Axes>"
      ]
     },
     "metadata": {
      "needs_background": "light"
     },
     "output_type": "display_data"
    }
   ],
   "source": [
    "fig, ax = plt.subplots()\n",
    "for n, c in zip(ns,cs):\n",
    "    \n",
    "    Pnocnx=(1-Pcnx)**n\n",
    "    Patleast1=1-Pnocnx\n",
    "    PoffCnx=1-(1-Pcnx)**(n-1)\n",
    "    Pfp=(1-Pcnx)*PoffCnx\n",
    "    ppv=Pcnx/Patleast1\n",
    "    ax.plot(Pcnx,Pfp,c=c)\n",
    "ax.plot([0,1],[0,1],c='black',ls='dashed')\n",
    "ax.spines['right'].set_visible(False)\n",
    "ax.spines['top'].set_visible(False)\n",
    "ax.yaxis.set_ticks_position('left')\n",
    "ax.xaxis.set_ticks_position('bottom')\n",
    "ax.yaxis.set_tick_params(size=tick_size,labelsize=fs, direction='out')\n",
    "ax.xaxis.set_tick_params(size=tick_size,labelsize=fs, direction='out')\n",
    "ax.xaxis.set_major_formatter(FormatStrFormatter('%g'))\n",
    "ax.yaxis.set_major_formatter(FormatStrFormatter('%g'))\n",
    "\n",
    "plt.ylabel('false positive rate')\n",
    "plt.xlabel('connection probability')\n",
    "fig.set_figheight(2)\n",
    "fig.set_figwidth(2)"
   ]
  },
  {
   "cell_type": "code",
   "execution_count": 104,
   "metadata": {},
   "outputs": [
    {
     "name": "stderr",
     "output_type": "stream",
     "text": [
      "/var/folders/r_/1r34q4315614mp9bkdvjcjph0000gp/T/ipykernel_16502/2461507170.py:8: RuntimeWarning: invalid value encountered in true_divide\n",
      "  ppv=Pcnx/Patleast1\n",
      "/var/folders/r_/1r34q4315614mp9bkdvjcjph0000gp/T/ipykernel_16502/2461507170.py:8: RuntimeWarning: invalid value encountered in true_divide\n",
      "  ppv=Pcnx/Patleast1\n",
      "/var/folders/r_/1r34q4315614mp9bkdvjcjph0000gp/T/ipykernel_16502/2461507170.py:8: RuntimeWarning: invalid value encountered in true_divide\n",
      "  ppv=Pcnx/Patleast1\n",
      "/var/folders/r_/1r34q4315614mp9bkdvjcjph0000gp/T/ipykernel_16502/2461507170.py:8: RuntimeWarning: invalid value encountered in true_divide\n",
      "  ppv=Pcnx/Patleast1\n"
     ]
    },
    {
     "data": {
      "image/png": "[encoded data removed]",
      "text/plain": [
       "<Figure size 144x144 with 1 Axes>"
      ]
     },
     "metadata": {
      "needs_background": "light"
     },
     "output_type": "display_data"
    }
   ],
   "source": [
    "fig, ax = plt.subplots()\n",
    "for n, c in zip(ns,cs):\n",
    "    \n",
    "    Pnocnx=(1-Pcnx)**n\n",
    "    Patleast1=1-Pnocnx\n",
    "    PoffCnx=1-(1-Pcnx)**(n-1)\n",
    "    Pfp=(1-Pcnx)*PoffCnx\n",
    "    ppv=Pcnx/Patleast1\n",
    "    ax.plot(Pcnx,ppv,c=c)\n",
    "ax.plot([0,1],[0,1],c='black',ls='dashed')\n",
    "ax.spines['right'].set_visible(False)\n",
    "ax.spines['top'].set_visible(False)\n",
    "ax.yaxis.set_ticks_position('left')\n",
    "ax.xaxis.set_ticks_position('bottom')\n",
    "ax.yaxis.set_tick_params(size=tick_size,labelsize=fs, direction='out')\n",
    "ax.xaxis.set_tick_params(size=tick_size,labelsize=fs, direction='out')\n",
    "ax.xaxis.set_major_formatter(FormatStrFormatter('%g'))\n",
    "ax.yaxis.set_major_formatter(FormatStrFormatter('%g'))\n",
    "\n",
    "plt.ylabel('positive predictive value')\n",
    "plt.xlabel('connection probability')\n",
    "fig.set_figheight(2)\n",
    "fig.set_figwidth(2)"
   ]
  },
  {
   "cell_type": "code",
   "execution_count": 105,
   "metadata": {},
   "outputs": [
    {
     "data": {
      "image/png": "[encoded data removed]",
      "text/plain": [
       "<Figure size 432x288 with 1 Axes>"
      ]
     },
     "metadata": {
      "needs_background": "light"
     },
     "output_type": "display_data"
    }
   ],
   "source": [
    "\n",
    "\n",
    "def data_for_cylinder_along_z(center_x,center_y,radius,height_z):\n",
    "    z = np.linspace(0, height_z, 50)\n",
    "    theta = np.linspace(0, 2*np.pi, 50)\n",
    "    theta_grid, z_grid=np.meshgrid(theta, z)\n",
    "    x_grid = radius*np.cos(theta_grid) + center_x\n",
    "    y_grid = radius*np.sin(theta_grid) + center_y\n",
    "    return x_grid,y_grid,z_grid\n",
    "\n",
    "import matplotlib.pyplot as plt\n",
    "from mpl_toolkits.mplot3d import Axes3D\n",
    "fig = plt.figure()\n",
    "ax = fig.add_subplot(111, projection='3d')\n",
    "\n",
    "center_x, center_y = 0, 0\n",
    "r_step=6\n",
    "h=12\n",
    "\n",
    "rs=25\n",
    "\n",
    "Xc,Yc,Zc = data_for_cylinder_along_z(center_x,center_y,r_step*1,h)\n",
    "ax.plot_wireframe(Xc, Yc, Zc, alpha=0.5,color='black',rstride=rs, cstride=0)\n",
    "ax.plot([0,0],[r_step*1,r_step*1],[0,h],c='black')\n",
    "ax.plot([0,0],[r_step*-1,r_step*-1],[0,h],c='black')\n",
    "Xc,Yc,Zc = data_for_cylinder_along_z(center_x,center_y,r_step*2,h)\n",
    "ax.plot_wireframe(Xc, Yc, Zc, alpha=0.5,color='red',rstride=rs, cstride=0)\n",
    "ax.plot([0,0],[r_step*2,r_step*2],[0,h],c='red')\n",
    "ax.plot([0,0],[r_step*-2,r_step*-2],[0,h],c='red')\n",
    "\n",
    "Xc,Yc,Zc = data_for_cylinder_along_z(center_x,center_y,r_step*3,h)\n",
    "ax.plot_wireframe(Xc, Yc, Zc, alpha=0.5,color='blue',rstride=rs, cstride=0)\n",
    "ax.plot([0,0],[r_step*3,r_step*3],[0,h],c='blue')\n",
    "ax.plot([0,0],[r_step*-3,r_step*-3],[0,h],c='blue')\n",
    "\n",
    "Xc,Yc,Zc = data_for_cylinder_along_z(center_x,center_y,r_step*4,h)\n",
    "ax.plot_wireframe(Xc, Yc, Zc, alpha=0.5,color='green',rstride=rs, cstride=0)\n",
    "ax.plot([0,0],[r_step*4,r_step*4],[0,h],c='green')\n",
    "ax.plot([0,0],[r_step*-4,r_step*-4],[0,h],c='green')\n",
    "\n",
    "ax.set_ylabel('lateral offset (' r'$\\mu$'+'m)',fontsize=10,fontname='arial')\n",
    "ax.set_zlabel('axial offset (' r'$\\mu$'+'m)',fontsize=10,fontname='arial')\n",
    "ax.set_zticks([0,h/2,h])\n",
    "\n",
    "\n",
    "ax.view_init(15,0)\n",
    "\n",
    "plt.show()\n"
   ]
  },
  {
   "cell_type": "code",
   "execution_count": 106,
   "metadata": {},
   "outputs": [
    {
     "data": {
      "image/png": "[encoded data removed]",
      "text/plain": [
       "<Figure size 144x144 with 1 Axes>"
      ]
     },
     "metadata": {
      "needs_background": "light"
     },
     "output_type": "display_data"
    }
   ],
   "source": [
    "n=4\n",
    "colors=['black', 'red', 'blue', 'green']\n",
    "fig, ax = plt.subplots()\n",
    "for i in range(n):\n",
    "    c=colors[i]\n",
    "    inner=r_step*i\n",
    "    outer=r_step*(i+1)\n",
    "    sa=math.pi*outer**2-math.pi*inner**2\n",
    "    v=sa*r_step \n",
    "    plt.scatter(outer,v,c=c)\n",
    "    \n",
    "ax.spines['right'].set_visible(False)\n",
    "ax.spines['top'].set_visible(False)\n",
    "x_lim=ax.get_xlim()\n",
    "y_lim=ax.get_ylim()\n",
    "ax.set_xlim([0,x_lim[1]])\n",
    "ax.set_ylim([0,y_lim[1]])\n",
    "ax.set_xlabel('lateral offset (' r'$\\mu$'+'m)', fontsize=10, fontname='arial')\n",
    "ax.set_ylabel('volume  (' r'$\\mu$'+'m'+'$^{3}$)', fontsize=10, fontname='arial')\n",
    "ax.tick_params(axis='both', which='both', labelsize=10, direction='out')\n",
    "fig.set_figwidth(2)\n",
    "fig.set_figheight(2)\n",
    "#plt.savefig('volume_vs_lateral_r.svg')\n",
    "plt.show()"
   ]
  },
  {
   "cell_type": "code",
   "execution_count": null,
   "metadata": {
    "collapsed": true
   },
   "outputs": [],
   "source": []
  }
 ],
 "metadata": {
  "kernelspec": {
   "display_name": "Python 3 (ipykernel)",
   "language": "python",
   "name": "python3"
  },
  "language_info": {
   "codemirror_mode": {
    "name": "ipython",
    "version": 3
   },
   "file_extension": ".py",
   "mimetype": "text/x-python",
   "name": "python",
   "nbconvert_exporter": "python",
   "pygments_lexer": "ipython3",
   "version": "3.9.5"
  }
 },
 "nbformat": 4,
 "nbformat_minor": 2
}
