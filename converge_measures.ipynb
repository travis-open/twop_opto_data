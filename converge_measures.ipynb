{
 "cells": [
  {
   "cell_type": "code",
   "execution_count": 19,
   "id": "d166df4a",
   "metadata": {},
   "outputs": [],
   "source": [
    "import pandas as pd\n",
    "import numpy as np\n",
    "from matplotlib import pyplot as plt\n",
    "import matplotlib.gridspec\n",
    "import math\n",
    "import statsmodels.api as sm\n",
    "import matplotlib.style\n",
    "import matplotlib as mpl\n",
    "import matplotlib.colors as colors\n",
    "import matplotlib.cm as cmx\n",
    "import seaborn as sns\n",
    "from scipy import stats, ndimage, misc\n",
    "import csv\n",
    "import opto_util as opto\n",
    "from matplotlib.ticker import FormatStrFormatter\n",
    "import importlib\n",
    "mpl.style.use('classic')\n",
    "%matplotlib inline"
   ]
  },
  {
   "cell_type": "code",
   "execution_count": 2,
   "id": "623c9673",
   "metadata": {},
   "outputs": [],
   "source": [
    "plt.rcParams.update({\n",
    "    'font.sans-serif': 'arial',\n",
    "    'font.family': 'sans-serif'\n",
    "})"
   ]
  },
  {
   "cell_type": "code",
   "execution_count": 3,
   "id": "0c7d732f",
   "metadata": {},
   "outputs": [
    {
     "name": "stderr",
     "output_type": "stream",
     "text": [
      "/Users/travish/opt/miniconda3/lib/python3.9/site-packages/IPython/core/interactiveshell.py:3441: DtypeWarning: Columns (5,24,56) have mixed types.Specify dtype option on import or set low_memory=False.\n",
      "  exec(code_obj, self.user_global_ns, self.user_ns)\n"
     ]
    }
   ],
   "source": [
    "full_df=pd.read_csv('20210415_full_df.csv')"
   ]
  },
  {
   "cell_type": "code",
   "execution_count": 4,
   "id": "013c57ad",
   "metadata": {},
   "outputs": [
    {
     "data": {
      "text/plain": [
       "array([ 1., nan,  0.,  2.])"
      ]
     },
     "execution_count": 4,
     "metadata": {},
     "output_type": "execute_result"
    }
   ],
   "source": [
    "intKclusters=pd.read_csv('interneuron_Kclusters_1203.csv')\n",
    "full_df = pd.merge(full_df, intKclusters,  how='left', left_on=['exp_id','headstage'], right_on = ['experiment','headstage'])\n",
    "full_df.Kcluster.unique()"
   ]
  },
  {
   "cell_type": "code",
   "execution_count": 5,
   "id": "e6382054",
   "metadata": {},
   "outputs": [
    {
     "name": "stdout",
     "output_type": "stream",
     "text": [
      "(16286, 85)\n"
     ]
    }
   ],
   "source": [
    "standard_df=full_df[full_df.internal=='standard']\n",
    "standard_df=standard_df[standard_df.notes.isnull()]\n",
    "print (np.shape(standard_df))"
   ]
  },
  {
   "cell_type": "code",
   "execution_count": 6,
   "id": "20bf0456",
   "metadata": {},
   "outputs": [],
   "source": [
    "RorbAi167=standard_df[(standard_df.presynapticCre=='Rorb') & (standard_df.presynapticEffector=='Ai167')]\n",
    "RorbKv=standard_df[(standard_df.presynapticCre=='Rorb') & (standard_df.presynapticEffector=='ChrimsonR_kv_eyfp_AAV')]\n",
    "SstAi167=standard_df[(standard_df.presynapticCre=='Sst') & (standard_df.presynapticEffector=='Ai167')]\n",
    "SstKv=standard_df[(standard_df.presynapticCre=='Sst') & (standard_df.presynapticEffector=='ChrimsonR_kv_eyfp_AAV')]\n",
    "PvalbKv=standard_df[(standard_df.presynapticCre=='Pvalb') & (standard_df.presynapticEffector=='ChrimsonR_kv_eyfp_AAV')]\n",
    "PenkKv=standard_df[(standard_df.presynapticCre=='Penk') & (standard_df.presynapticEffector=='ChrimsonR_kv_eyfp_AAV')]\n",
    "Tlx3Kv=standard_df[(standard_df.presynapticCre=='Tlx3') & (standard_df.presynapticEffector=='ChrimsonR_kv_eyfp_AAV')]\n",
    "Scnn1aAi167=standard_df[(standard_df.presynapticCre=='Scnn1a') & (standard_df.presynapticEffector=='Ai167')]\n",
    "Sst=standard_df[standard_df.presynapticCre=='Sst']\n",
    "Ntsr1=standard_df[standard_df.presynapticCre=='Ntsr1']\n",
    "Rorb=standard_df[standard_df.presynapticCre=='Rorb']\n",
    "Scnn1a=standard_df[standard_df.presynapticCre=='Scnn1a']"
   ]
  },
  {
   "cell_type": "code",
   "execution_count": 7,
   "id": "84d034c9",
   "metadata": {},
   "outputs": [],
   "source": [
    "Rorb_L23pyr=Rorb[(Rorb.post_layer==2) & (Rorb.post_class=='pyramidal')]\n",
    "Penk_L23pyr=PenkKv[(PenkKv.post_layer==2) & (PenkKv.post_class=='pyramidal')]\n",
    "Tlx3_L23pyr=Tlx3Kv[(Tlx3Kv.post_layer==2) & (Tlx3Kv.post_class=='pyramidal')]\n",
    "Sst_L23pyr=Sst[(Sst.post_layer==2) & (Sst.post_class=='pyramidal')]\n",
    "Pvalb_L23pyr=PvalbKv[(PvalbKv.post_layer==2) & (PvalbKv.post_class=='pyramidal')]\n",
    "\n",
    "Rorb_L23fsi=Rorb[(Rorb.post_layer==2) & (Rorb.Kcluster==1)]\n",
    "Penk_L23fsi=PenkKv[(PenkKv.post_layer==2) & (PenkKv.Kcluster==1)]\n",
    "Tlx3_L23fsi=Tlx3Kv[(Tlx3Kv.post_layer==2) & (Tlx3Kv.Kcluster==1)]\n",
    "Sst_L23fsi=Sst[(Sst.post_layer==2) & (Sst.Kcluster==1)]\n",
    "Pvalb_L23fsi=PvalbKv[(PvalbKv.post_layer==2) & (PvalbKv.Kcluster==1)]"
   ]
  },
  {
   "cell_type": "code",
   "execution_count": 8,
   "id": "6667e35b",
   "metadata": {},
   "outputs": [
    {
     "name": "stderr",
     "output_type": "stream",
     "text": [
      "/Users/travish/Desktop/2p_opto_nbs/opto_util.py:40: RuntimeWarning: invalid value encountered in true_divide\n",
      "  H_prob=H_cnx/H\n",
      "/Users/travish/opt/miniconda3/lib/python3.9/site-packages/pandas/core/indexing.py:1684: SettingWithCopyWarning: \n",
      "A value is trying to be set on a copy of a slice from a DataFrame.\n",
      "Try using .loc[row_indexer,col_indexer] = value instead\n",
      "\n",
      "See the caveats in the documentation: https://pandas.pydata.org/pandas-docs/stable/user_guide/indexing.html#returning-a-view-versus-a-copy\n",
      "  self.obj[key] = infer_fill_value(value)\n",
      "/Users/travish/opt/miniconda3/lib/python3.9/site-packages/pandas/core/indexing.py:1817: SettingWithCopyWarning: \n",
      "A value is trying to be set on a copy of a slice from a DataFrame.\n",
      "Try using .loc[row_indexer,col_indexer] = value instead\n",
      "\n",
      "See the caveats in the documentation: https://pandas.pydata.org/pandas-docs/stable/user_guide/indexing.html#returning-a-view-versus-a-copy\n",
      "  self._setitem_single_column(loc, value, pi)\n"
     ]
    }
   ],
   "source": [
    "min_probed=0\n",
    "x_bins=np.arange(0,701,100)\n",
    "y_bins=np.arange(50,1051,100)\n",
    "prob_matrix=opto.cnx_prob_2d(Rorb_L23pyr, ['excitatory'], x_bins, y_bins, 0)\n",
    "Rorb_L23pyr=opto.assign_est_cnx_prob_2d(Rorb_L23pyr, x_bins, y_bins, prob_matrix)"
   ]
  },
  {
   "cell_type": "code",
   "execution_count": 9,
   "id": "76c986c2",
   "metadata": {},
   "outputs": [],
   "source": [
    "prob_matrix=opto.cnx_prob_2d(Penk_L23pyr, ['excitatory'], x_bins, y_bins, min_probed)\n",
    "Penk_L23pyr=opto.assign_est_cnx_prob_2d(Penk_L23pyr, x_bins, y_bins, prob_matrix)\n",
    "prob_matrix=opto.cnx_prob_2d(Tlx3_L23pyr, ['excitatory'], x_bins, y_bins, min_probed)\n",
    "Tlx3_L23pyr=opto.assign_est_cnx_prob_2d(Tlx3_L23pyr, x_bins, y_bins, prob_matrix)"
   ]
  },
  {
   "cell_type": "code",
   "execution_count": 10,
   "id": "17d7b160",
   "metadata": {},
   "outputs": [],
   "source": [
    "prob_matrix=opto.cnx_prob_2d(Rorb_L23fsi, ['excitatory'], x_bins, y_bins, min_probed)\n",
    "Rorb_L23fsi=opto.assign_est_cnx_prob_2d(Rorb_L23fsi, x_bins, y_bins, prob_matrix)\n",
    "prob_matrix=opto.cnx_prob_2d(Penk_L23fsi, ['excitatory'], x_bins, y_bins, min_probed)\n",
    "Penk_L23fsi=opto.assign_est_cnx_prob_2d(Penk_L23fsi, x_bins, y_bins, prob_matrix)\n",
    "prob_matrix=opto.cnx_prob_2d(Tlx3_L23fsi, ['excitatory'], x_bins, y_bins, min_probed)\n",
    "Tlx3_L23fsi=opto.assign_est_cnx_prob_2d(Tlx3_L23fsi, x_bins, y_bins, prob_matrix)"
   ]
  },
  {
   "cell_type": "code",
   "execution_count": 11,
   "id": "df6cefb2",
   "metadata": {},
   "outputs": [],
   "source": [
    "prob_matrix=opto.cnx_prob_2d(Pvalb_L23pyr, ['inhibitory'], x_bins, y_bins, min_probed)\n",
    "Pvalb_L23pyr=opto.assign_est_cnx_prob_2d(Pvalb_L23pyr, x_bins, y_bins, prob_matrix)\n",
    "prob_matrix=opto.cnx_prob_2d(Sst_L23pyr, ['inhibitory'], x_bins, y_bins, min_probed)\n",
    "Sst_L23pyr=opto.assign_est_cnx_prob_2d(Sst_L23pyr, x_bins, y_bins, prob_matrix)"
   ]
  },
  {
   "cell_type": "code",
   "execution_count": 12,
   "id": "4aa4ae3e",
   "metadata": {},
   "outputs": [],
   "source": [
    "prob_matrix=opto.cnx_prob_2d(Pvalb_L23fsi, ['inhibitory'], x_bins, y_bins, min_probed)\n",
    "Pvalb_L23fsi=opto.assign_est_cnx_prob_2d(Pvalb_L23fsi, x_bins, y_bins, prob_matrix)\n",
    "prob_matrix=opto.cnx_prob_2d(Sst_L23fsi, ['inhibitory'], x_bins, y_bins, min_probed)\n",
    "Sst_L23fsi=opto.assign_est_cnx_prob_2d(Sst_L23fsi, x_bins, y_bins, prob_matrix)"
   ]
  },
  {
   "cell_type": "code",
   "execution_count": 13,
   "id": "efd0238f",
   "metadata": {},
   "outputs": [],
   "source": [
    "##create a dataframe with all ordered pairs of tested presynaptic cells converging to a postsynaptic cell\n",
    "##these functions may take a little time\n",
    "Rorb_L23pyr_ordered_conv=opto.make_ordered_conv_df(Rorb_L23pyr) "
   ]
  },
  {
   "cell_type": "code",
   "execution_count": 14,
   "id": "379aa7cc",
   "metadata": {},
   "outputs": [],
   "source": [
    "Penk_L23pyr_ordered_conv=opto.make_ordered_conv_df(Penk_L23pyr)\n",
    "Tlx3_L23pyr_ordered_conv=opto.make_ordered_conv_df(Tlx3_L23pyr)"
   ]
  },
  {
   "cell_type": "code",
   "execution_count": 15,
   "id": "17b2dbca",
   "metadata": {},
   "outputs": [],
   "source": [
    "Rorb_L23fsi_ordered_conv=opto.make_ordered_conv_df(Rorb_L23fsi)\n",
    "Penk_L23fsi_ordered_conv=opto.make_ordered_conv_df(Penk_L23fsi)\n",
    "Tlx3_L23fsi_ordered_conv=opto.make_ordered_conv_df(Tlx3_L23fsi)"
   ]
  },
  {
   "cell_type": "code",
   "execution_count": 16,
   "id": "a8b50f44",
   "metadata": {},
   "outputs": [],
   "source": [
    "Pvalb_L23pyr_ordered_conv=opto.make_ordered_conv_df(Pvalb_L23pyr)\n",
    "Sst_L23pyr_ordered_conv=opto.make_ordered_conv_df(Sst_L23pyr)\n",
    "Pvalb_L23fsi_ordered_conv=opto.make_ordered_conv_df(Pvalb_L23fsi)\n",
    "Sst_L23fsi_ordered_conv=opto.make_ordered_conv_df(Sst_L23fsi)"
   ]
  },
  {
   "cell_type": "code",
   "execution_count": 18,
   "id": "b737e81d",
   "metadata": {},
   "outputs": [
    {
     "name": "stdout",
     "output_type": "stream",
     "text": [
      "predicted convergence motifs:  13.757340614968236\n",
      "observed convergeence motifs:  12\n",
      "predicted convergence motifs:  681.9943025218652\n",
      "observed convergeence motifs:  888\n",
      "predicted convergence motifs:  190.72398843850948\n",
      "observed convergeence motifs:  256\n"
     ]
    }
   ],
   "source": [
    "df_list=[Penk_L23pyr_ordered_conv, Rorb_L23pyr_ordered_conv, Tlx3_L23pyr_ordered_conv]\n",
    "for df in df_list:\n",
    "    print ('predicted convergence motifs: ',np.nansum(df.conv_prob))\n",
    "    conv=df[(df.cnx_i=='excitatory') & (df.cnx_j=='excitatory')]\n",
    "    print ('observed convergeence motifs: ',np.shape(conv)[0])"
   ]
  },
  {
   "cell_type": "code",
   "execution_count": 20,
   "id": "cb5437d2",
   "metadata": {},
   "outputs": [
    {
     "data": {
      "text/plain": [
       "<module 'opto_util' from '/Users/travish/Desktop/2p_opto_nbs/opto_util.py'>"
      ]
     },
     "execution_count": 20,
     "metadata": {},
     "output_type": "execute_result"
    }
   ],
   "source": [
    "importlib.reload(opto)"
   ]
  },
  {
   "cell_type": "code",
   "execution_count": 23,
   "id": "6edd97d1",
   "metadata": {},
   "outputs": [
    {
     "data": {
      "text/plain": [
       "Index(['name', 'MP_i', 'MP_j', 'prepre_dx', 'prepre_dy', 'prepre_dz',\n",
       "       'prepre_dxyz', 'pia_i', 'pia_j', 'x_ap_i', 'x_ap_j', 'amp_i', 'amp_j',\n",
       "       'cnx_i', 'cnx_j', 'post_pia', 'post_layer', 'post_class', 'conv_prob',\n",
       "       'post_depth_i', 'pre_depth_i', 'pre_depth_j', 'xyz_dist_i',\n",
       "       'xyz_dist_j', 'abs_x'],\n",
       "      dtype='object')"
      ]
     },
     "execution_count": 23,
     "metadata": {},
     "output_type": "execute_result"
    }
   ],
   "source": [
    "Penk_L23pyr_ordered_conv.columns"
   ]
  },
  {
   "cell_type": "code",
   "execution_count": 21,
   "id": "d8c006a8",
   "metadata": {},
   "outputs": [
    {
     "data": {
      "image/png": "[encoded data removed]",
      "text/plain": [
       "<Figure size 108x108 with 1 Axes>"
      ]
     },
     "metadata": {
      "needs_background": "light"
     },
     "output_type": "display_data"
    }
   ],
   "source": [
    "fs=10\n",
    "tick_size=5\n",
    "font='arial'\n",
    "df_list=[Penk_L23pyr_ordered_conv, Rorb_L23pyr_ordered_conv, Tlx3_L23pyr_ordered_conv]\n",
    "tags=['Penk_L23PC','Rorb_L23PC','Tlx3_L23PC']\n",
    "colors=['magenta','blue','darkorange']\n",
    "i=0\n",
    "fig,ax=plt.subplots()\n",
    "bins=np.arange(0,601,100)\n",
    "\n",
    "for df in df_list:\n",
    "    color=colors[i]\n",
    "    tag=tags[i]\n",
    "    df['abs_x']=abs(df['prepre_dx'])\n",
    "    i_cnx=df[df.cnx_i=='excitatory']\n",
    "    conv=i_cnx[i_cnx.cnx_j=='excitatory']\n",
    "    ij_dist=opto.frac_ci_j_give_i(i_cnx,'abs_x',['excitatory'],bins)\n",
    "    opto.rate_ci_probed_cnx_x(ax, color, opto.midPoints(bins), ij_dist['probed'], ij_dist['conv'], min_probed=20,alpha=0.3, ls='solid')\n",
    "    i+=1\n",
    "    \n",
    "ax.axis([0,600,0,0.15])\n",
    "ax.set_xlabel(r'i to j hor. distance ($\\mu$m)', fontsize=fs, fontname=font)\n",
    "ax.set_ylabel('prob. j|i', fontsize=fs, fontname=font)\n",
    "ax.spines['right'].set_visible(False)\n",
    "ax.spines['top'].set_visible(False)\n",
    "ax.yaxis.set_ticks_position('left')\n",
    "ax.xaxis.set_ticks_position('bottom')\n",
    "ax.xaxis.set_tick_params(size=tick_size,labelsize=fs, direction='out')\n",
    "ax.yaxis.set_tick_params(size=tick_size,labelsize=fs, direction='out')\n",
    "ax.yaxis.set_major_locator(plt.MaxNLocator(4))\n",
    "ax.xaxis.set_major_locator(plt.MaxNLocator(3))\n",
    "ax.yaxis.set_major_formatter(FormatStrFormatter('%g'))\n",
    "fig.set_figheight(1.5)\n",
    "fig.set_figwidth(1.5)\n",
    "#plt.savefig('exc_inter_x_converge.svg')\n"
   ]
  },
  {
   "cell_type": "code",
   "execution_count": 26,
   "id": "1240e32f",
   "metadata": {},
   "outputs": [
    {
     "data": {
      "image/png": "[encoded data removed]",
      "text/plain": [
       "<Figure size 108x108 with 1 Axes>"
      ]
     },
     "metadata": {
      "needs_background": "light"
     },
     "output_type": "display_data"
    }
   ],
   "source": [
    "fs=10\n",
    "tick_size=5\n",
    "font='arial'\n",
    "df_list=[Penk_L23pyr_ordered_conv, Rorb_L23pyr_ordered_conv, Tlx3_L23pyr_ordered_conv]\n",
    "\n",
    "colors=['magenta','blue','darkorange']\n",
    "i=0\n",
    "fig,ax=plt.subplots()\n",
    "bins=np.arange(0,601,100)\n",
    "tags=['Penk_L23PC','Rorb_L23PC','Tlx3_L23PC']\n",
    "\n",
    "for df in df_list:\n",
    "    color=colors[i]\n",
    "    df['abs_xj']=abs(df['x_ap_j'])\n",
    "    i_cnx=df[df.cnx_i=='excitatory']\n",
    "    div=i_cnx[i_cnx.cnx_j=='excitatory']\n",
    "    jx_dist=opto.frac_ci_j_give_i(i_cnx,'abs_xj',['excitatory'],bins)\n",
    "    opto.rate_ci_probed_cnx_x(ax, color, opto.midPoints(bins), jx_dist['probed'], jx_dist['conv'], min_probed=20,alpha=0.3, ls='solid')\n",
    "    i+=1\n",
    "    \n",
    "ax.axis([0,600,0,0.15])\n",
    "ax.set_xlabel(r'post to j hor. distance ($\\mu$m)', fontsize=fs, fontname=font)\n",
    "ax.set_ylabel('prob. j|i', fontsize=fs, fontname=font)\n",
    "ax.spines['right'].set_visible(False)\n",
    "ax.spines['top'].set_visible(False)\n",
    "ax.yaxis.set_ticks_position('left')\n",
    "ax.xaxis.set_ticks_position('bottom')\n",
    "ax.xaxis.set_tick_params(size=tick_size,labelsize=fs, direction='out')\n",
    "ax.yaxis.set_tick_params(size=tick_size,labelsize=fs, direction='out')\n",
    "ax.yaxis.set_major_locator(plt.MaxNLocator(4))\n",
    "ax.xaxis.set_major_locator(plt.MaxNLocator(3))\n",
    "ax.yaxis.set_major_formatter(FormatStrFormatter('%g'))\n",
    "fig.set_figheight(1.5)\n",
    "fig.set_figwidth(1.5)\n",
    "#plt.savefig('exc_postToj_x_converge.svg')\n"
   ]
  },
  {
   "cell_type": "code",
   "execution_count": 28,
   "id": "54c2f6f5",
   "metadata": {},
   "outputs": [
    {
     "name": "stderr",
     "output_type": "stream",
     "text": [
      "/var/folders/r_/1r34q4315614mp9bkdvjcjph0000gp/T/ipykernel_68625/2386247425.py:19: SettingWithCopyWarning: \n",
      "A value is trying to be set on a copy of a slice from a DataFrame.\n",
      "Try using .loc[row_indexer,col_indexer] = value instead\n",
      "\n",
      "See the caveats in the documentation: https://pandas.pydata.org/pandas-docs/stable/user_guide/indexing.html#returning-a-view-versus-a-copy\n",
      "  df['abs_x']=abs(df['prepre_dx'])\n",
      "/var/folders/r_/1r34q4315614mp9bkdvjcjph0000gp/T/ipykernel_68625/2386247425.py:19: SettingWithCopyWarning: \n",
      "A value is trying to be set on a copy of a slice from a DataFrame.\n",
      "Try using .loc[row_indexer,col_indexer] = value instead\n",
      "\n",
      "See the caveats in the documentation: https://pandas.pydata.org/pandas-docs/stable/user_guide/indexing.html#returning-a-view-versus-a-copy\n",
      "  df['abs_x']=abs(df['prepre_dx'])\n",
      "/var/folders/r_/1r34q4315614mp9bkdvjcjph0000gp/T/ipykernel_68625/2386247425.py:19: SettingWithCopyWarning: \n",
      "A value is trying to be set on a copy of a slice from a DataFrame.\n",
      "Try using .loc[row_indexer,col_indexer] = value instead\n",
      "\n",
      "See the caveats in the documentation: https://pandas.pydata.org/pandas-docs/stable/user_guide/indexing.html#returning-a-view-versus-a-copy\n",
      "  df['abs_x']=abs(df['prepre_dx'])\n",
      "/var/folders/r_/1r34q4315614mp9bkdvjcjph0000gp/T/ipykernel_68625/2386247425.py:19: SettingWithCopyWarning: \n",
      "A value is trying to be set on a copy of a slice from a DataFrame.\n",
      "Try using .loc[row_indexer,col_indexer] = value instead\n",
      "\n",
      "See the caveats in the documentation: https://pandas.pydata.org/pandas-docs/stable/user_guide/indexing.html#returning-a-view-versus-a-copy\n",
      "  df['abs_x']=abs(df['prepre_dx'])\n"
     ]
    },
    {
     "data": {
      "image/png": "[encoded data removed]",
      "text/plain": [
       "<Figure size 108x108 with 1 Axes>"
      ]
     },
     "metadata": {
      "needs_background": "light"
     },
     "output_type": "display_data"
    }
   ],
   "source": [
    "fs=10\n",
    "tick_size=5\n",
    "font='arial'\n",
    "dfP=Pvalb_L23pyr_ordered_conv\n",
    "dfS=Sst_L23pyr_ordered_conv\n",
    "dfPL23=dfP[(dfP.pia_i<330) & (dfP.pia_j<330)]\n",
    "dfSL23=dfS[(dfS.pia_i<330) & (dfS.pia_j<330)]\n",
    "dfPtrans=dfP[(dfP.pia_i>330) & (dfP.pia_j>330)]\n",
    "dfStrans=dfS[(dfS.pia_i>330) & (dfS.pia_j>330)]\n",
    "df_list=[dfPL23,dfSL23,dfPtrans,dfStrans]\n",
    "colors=['purple','green','purple','green']\n",
    "styles=['solid','solid','dashed','dashed']\n",
    "tags=['L23Pvalb','L23Sst','transPvalb','transSst']\n",
    "i=0\n",
    "fig,ax=plt.subplots()\n",
    "bins=np.arange(0,501,100)\n",
    "\n",
    "for df in df_list:\n",
    "    df['abs_x']=abs(df['prepre_dx'])\n",
    "    color=colors[i]\n",
    "    tag=tags[i]\n",
    "    style=styles[i]\n",
    "    i_cnx=df[df.cnx_i=='inhibitory']\n",
    "    div=i_cnx[i_cnx.cnx_j=='inhibitory']\n",
    "    ij_dist=opto.frac_ci_j_give_i(i_cnx,'abs_x',['inhibitory'],bins)\n",
    "    opto.rate_ci_probed_cnx_x(ax, color, opto.midPoints(bins), ij_dist['probed'], ij_dist['conv'], min_probed=12,alpha=0.3, ls=style)\n",
    "    i+=1\n",
    "    \n",
    "ax.axis([0,600,0,0.5])\n",
    "ax.set_xlabel(r'i to j hor. distance ($\\mu$m)', fontsize=fs, fontname=font)\n",
    "ax.set_ylabel('prob. j|i', fontsize=fs, fontname=font)\n",
    "ax.spines['right'].set_visible(False)\n",
    "ax.spines['top'].set_visible(False)\n",
    "ax.yaxis.set_ticks_position('left')\n",
    "ax.xaxis.set_ticks_position('bottom')\n",
    "ax.xaxis.set_tick_params(size=tick_size,labelsize=fs, direction='out')\n",
    "ax.yaxis.set_tick_params(size=tick_size,labelsize=fs, direction='out')\n",
    "ax.yaxis.set_major_locator(plt.MaxNLocator(4))\n",
    "ax.xaxis.set_major_locator(plt.MaxNLocator(3))\n",
    "ax.yaxis.set_major_formatter(FormatStrFormatter('%g'))\n",
    "fig.set_figheight(1.5)\n",
    "fig.set_figwidth(1.5)\n",
    "#plt.savefig('inh_inter_x_converge.svg')\n"
   ]
  },
  {
   "cell_type": "code",
   "execution_count": 29,
   "id": "722f5314",
   "metadata": {},
   "outputs": [
    {
     "name": "stderr",
     "output_type": "stream",
     "text": [
      "/var/folders/r_/1r34q4315614mp9bkdvjcjph0000gp/T/ipykernel_68625/2447483905.py:20: SettingWithCopyWarning: \n",
      "A value is trying to be set on a copy of a slice from a DataFrame.\n",
      "Try using .loc[row_indexer,col_indexer] = value instead\n",
      "\n",
      "See the caveats in the documentation: https://pandas.pydata.org/pandas-docs/stable/user_guide/indexing.html#returning-a-view-versus-a-copy\n",
      "  df['abs_xj']=abs(df['x_ap_j'])\n",
      "/var/folders/r_/1r34q4315614mp9bkdvjcjph0000gp/T/ipykernel_68625/2447483905.py:20: SettingWithCopyWarning: \n",
      "A value is trying to be set on a copy of a slice from a DataFrame.\n",
      "Try using .loc[row_indexer,col_indexer] = value instead\n",
      "\n",
      "See the caveats in the documentation: https://pandas.pydata.org/pandas-docs/stable/user_guide/indexing.html#returning-a-view-versus-a-copy\n",
      "  df['abs_xj']=abs(df['x_ap_j'])\n",
      "/var/folders/r_/1r34q4315614mp9bkdvjcjph0000gp/T/ipykernel_68625/2447483905.py:20: SettingWithCopyWarning: \n",
      "A value is trying to be set on a copy of a slice from a DataFrame.\n",
      "Try using .loc[row_indexer,col_indexer] = value instead\n",
      "\n",
      "See the caveats in the documentation: https://pandas.pydata.org/pandas-docs/stable/user_guide/indexing.html#returning-a-view-versus-a-copy\n",
      "  df['abs_xj']=abs(df['x_ap_j'])\n",
      "/var/folders/r_/1r34q4315614mp9bkdvjcjph0000gp/T/ipykernel_68625/2447483905.py:20: SettingWithCopyWarning: \n",
      "A value is trying to be set on a copy of a slice from a DataFrame.\n",
      "Try using .loc[row_indexer,col_indexer] = value instead\n",
      "\n",
      "See the caveats in the documentation: https://pandas.pydata.org/pandas-docs/stable/user_guide/indexing.html#returning-a-view-versus-a-copy\n",
      "  df['abs_xj']=abs(df['x_ap_j'])\n"
     ]
    },
    {
     "data": {
      "image/png": "[encoded data removed]",
      "text/plain": [
       "<Figure size 108x108 with 1 Axes>"
      ]
     },
     "metadata": {
      "needs_background": "light"
     },
     "output_type": "display_data"
    }
   ],
   "source": [
    "fs=10\n",
    "tick_size=5\n",
    "font='arial'\n",
    "dfP=Pvalb_L23pyr_ordered_conv\n",
    "dfS=Sst_L23pyr_ordered_conv\n",
    "dfPL23=dfP[(dfP.pia_i<330) & (dfP.pia_j<330)]\n",
    "dfSL23=dfS[(dfS.pia_i<330) & (dfS.pia_j<330)]\n",
    "dfPtrans=dfP[(dfP.pia_i>330) & (dfP.pia_j>330)]\n",
    "dfStrans=dfS[(dfS.pia_i>330) & (dfS.pia_j>330)]\n",
    "df_list=[dfPL23,dfSL23,dfPtrans,dfStrans]\n",
    "colors=['purple','green','purple','green']\n",
    "styles=['solid','solid','dashed','dashed']\n",
    "tags=['L23Pvalb','L23Sst','transPvalb','transSst']\n",
    "i=0\n",
    "fig,ax=plt.subplots()\n",
    "bins=np.arange(0,601,100)\n",
    "\n",
    "\n",
    "for df in df_list:\n",
    "    df['abs_xj']=abs(df['x_ap_j'])\n",
    "    color=colors[i]\n",
    "    style=styles[i]\n",
    "    i_cnx=df[df.cnx_i=='inhibitory']\n",
    "    ij_dist=opto.frac_ci_j_give_i(i_cnx,'abs_xj',['inhibitory'],bins)\n",
    "    opto.rate_ci_probed_cnx_x(ax, color, opto.midPoints(bins), ij_dist['probed'], ij_dist['conv'], min_probed=20,alpha=0.3, ls=style)\n",
    "    i+=1\n",
    "    \n",
    "ax.axis([0,600,0,0.5])\n",
    "ax.set_xlabel(r'post to j hor. distance ($\\mu$m)', fontsize=fs, fontname=font)\n",
    "ax.set_ylabel('prob. j|i', fontsize=fs, fontname=font)\n",
    "ax.spines['right'].set_visible(False)\n",
    "ax.spines['top'].set_visible(False)\n",
    "ax.yaxis.set_ticks_position('left')\n",
    "ax.xaxis.set_ticks_position('bottom')\n",
    "ax.xaxis.set_tick_params(size=tick_size,labelsize=fs, direction='out')\n",
    "ax.yaxis.set_tick_params(size=tick_size,labelsize=fs, direction='out')\n",
    "ax.yaxis.set_major_locator(plt.MaxNLocator(4))\n",
    "ax.xaxis.set_major_locator(plt.MaxNLocator(3))\n",
    "ax.yaxis.set_major_formatter(FormatStrFormatter('%g'))\n",
    "fig.set_figheight(1.5)\n",
    "fig.set_figwidth(1.5)\n",
    "#plt.savefig('inh_xj_converge.svg')\n"
   ]
  },
  {
   "cell_type": "code",
   "execution_count": 39,
   "id": "1817853a",
   "metadata": {},
   "outputs": [
    {
     "name": "stdout",
     "output_type": "stream",
     "text": [
      "Penk to L2/3pyr\n",
      "12 pairs\n",
      "pearson stats:  (0.5316249873722099, 0.07526031663670033)\n",
      "spearman stats:  SpearmanrResult(correlation=0.6395759717314488, pvalue=0.025119356617596143)\n"
     ]
    },
    {
     "data": {
      "image/png": "[encoded data removed]",
      "text/plain": [
       "<Figure size 108x108 with 1 Axes>"
      ]
     },
     "metadata": {
      "needs_background": "light"
     },
     "output_type": "display_data"
    },
    {
     "name": "stdout",
     "output_type": "stream",
     "text": [
      "Rorb to L2/3pyr\n",
      "850 pairs\n",
      "pearson stats:  (0.010640243051104337, 0.7567389163940921)\n",
      "spearman stats:  SpearmanrResult(correlation=0.01345231094961112, pvalue=0.6953246294532902)\n"
     ]
    },
    {
     "data": {
      "image/png": "[encoded data removed]",
      "text/plain": [
       "<Figure size 108x108 with 1 Axes>"
      ]
     },
     "metadata": {
      "needs_background": "light"
     },
     "output_type": "display_data"
    },
    {
     "name": "stdout",
     "output_type": "stream",
     "text": [
      "Tlx3 to L2/3pyr\n",
      "246 pairs\n",
      "pearson stats:  (-0.014151208214348801, 0.8252219761619224)\n",
      "spearman stats:  SpearmanrResult(correlation=-0.013547460466076508, pvalue=0.8325665026823816)\n"
     ]
    },
    {
     "data": {
      "image/png": "[encoded data removed]",
      "text/plain": [
       "<Figure size 108x108 with 1 Axes>"
      ]
     },
     "metadata": {
      "needs_background": "light"
     },
     "output_type": "display_data"
    },
    {
     "name": "stdout",
     "output_type": "stream",
     "text": [
      "Penk to L2/3fsi\n",
      "258 pairs\n",
      "pearson stats:  (0.07464935771789079, 0.23212930764432516)\n",
      "spearman stats:  SpearmanrResult(correlation=0.14122021335974233, pvalue=0.02328661226152429)\n"
     ]
    },
    {
     "data": {
      "image/png": "[encoded data removed]",
      "text/plain": [
       "<Figure size 108x108 with 1 Axes>"
      ]
     },
     "metadata": {
      "needs_background": "light"
     },
     "output_type": "display_data"
    },
    {
     "name": "stdout",
     "output_type": "stream",
     "text": [
      "Rorb to L2/3fsi\n",
      "64 pairs\n",
      "pearson stats:  (-0.20589733781820257, 0.10262569677810274)\n",
      "spearman stats:  SpearmanrResult(correlation=-0.17307913173308834, pvalue=0.17140907370552716)\n"
     ]
    },
    {
     "data": {
      "image/png": "[encoded data removed]",
      "text/plain": [
       "<Figure size 108x108 with 1 Axes>"
      ]
     },
     "metadata": {
      "needs_background": "light"
     },
     "output_type": "display_data"
    },
    {
     "name": "stdout",
     "output_type": "stream",
     "text": [
      "Tlx3 to L2/3fsi\n",
      "22 pairs\n",
      "pearson stats:  (-0.19894821258534534, 0.37475593542233826)\n",
      "spearman stats:  SpearmanrResult(correlation=-0.13538640325392215, pvalue=0.5480213653503823)\n"
     ]
    },
    {
     "data": {
      "image/png": "[encoded data removed]",
      "text/plain": [
       "<Figure size 108x108 with 1 Axes>"
      ]
     },
     "metadata": {
      "needs_background": "light"
     },
     "output_type": "display_data"
    }
   ],
   "source": [
    "fs=10\n",
    "tick_size=5\n",
    "font='arial'\n",
    "df_list=[Penk_L23pyr_ordered_conv,Rorb_L23pyr_ordered_conv,Tlx3_L23pyr_ordered_conv,\n",
    "        Penk_L23fsi_ordered_conv,Rorb_L23fsi_ordered_conv,Tlx3_L23fsi_ordered_conv]\n",
    "tags=['Penk to L2/3pyr', 'Rorb to L2/3pyr', 'Tlx3 to L2/3pyr', 'Penk to L2/3fsi', 'Rorb to L2/3fsi', 'Tlx3 to L2/3fsi']\n",
    "colors=['magenta','blue','darkorange','magenta','blue','darkorange']\n",
    "i=0\n",
    "\n",
    "for df in df_list:\n",
    "    color=colors[i]\n",
    "\n",
    "    df=df.dropna(subset=['amp_i', 'amp_j'])\n",
    "    i_cnx=df[df.cnx_i=='excitatory']\n",
    "    conv=i_cnx[i_cnx.cnx_j=='excitatory']\n",
    "    print (tags[i])\n",
    "    print (np.shape(conv)[0], 'pairs')\n",
    "    print ('pearson stats: ', stats.pearsonr(np.log(conv.amp_i),np.log(conv.amp_j)))\n",
    "    print ('spearman stats: ', stats.spearmanr(np.log(conv.amp_i),np.log(conv.amp_j)))\n",
    "    fig,ax=plt.subplots()\n",
    "    ax.scatter(conv.amp_i, conv.amp_j, facecolor=color,alpha=0.3,edgecolor='none',s=10)\n",
    "    ax.axis([0.01,4,0.01,4])\n",
    "    ax.set_xlabel('cell i EPSP amp (mV)', fontsize=fs, fontname=font)\n",
    "    ax.set_ylabel('cell j EPSP amp (mV)', fontsize=fs, fontname=font)\n",
    "    plt.xscale('log')\n",
    "    plt.yscale('log')\n",
    "\n",
    "    ax.spines['right'].set_visible(False)\n",
    "    ax.spines['top'].set_visible(False)\n",
    "    ax.yaxis.set_ticks_position('left')\n",
    "    ax.xaxis.set_ticks_position('bottom')\n",
    "    ax.xaxis.set_tick_params(size=tick_size,labelsize=fs, direction='out')\n",
    "    ax.yaxis.set_tick_params(size=tick_size,labelsize=fs, direction='out')\n",
    "\n",
    "    ax.yaxis.set_major_formatter(FormatStrFormatter('%g'))\n",
    "    ax.xaxis.set_major_formatter(FormatStrFormatter('%g'))\n",
    "\n",
    "    fig.set_figheight(1.5)\n",
    "    fig.set_figwidth(1.5)\n",
    "    plt.show()\n",
    "    i+=1\n",
    "    \n",
    "\n"
   ]
  },
  {
   "cell_type": "code",
   "execution_count": 40,
   "id": "9f1a7488",
   "metadata": {},
   "outputs": [
    {
     "name": "stdout",
     "output_type": "stream",
     "text": [
      "Sst to L2/3pyr\n",
      "454 pairs\n",
      "pearson stats:  (0.18368266494605665, 8.266807204769129e-05)\n",
      "spearman stats:  SpearmanrResult(correlation=0.19062843577369654, pvalue=4.348769125617107e-05)\n"
     ]
    },
    {
     "data": {
      "image/png": "[encoded data removed]",
      "text/plain": [
       "<Figure size 108x108 with 1 Axes>"
      ]
     },
     "metadata": {
      "needs_background": "light"
     },
     "output_type": "display_data"
    },
    {
     "name": "stdout",
     "output_type": "stream",
     "text": [
      "Pvalb to L2/3pyr\n",
      "192 pairs\n",
      "pearson stats:  (0.0019116287290572992, 0.9790058039826837)\n",
      "spearman stats:  SpearmanrResult(correlation=0.013500114925273128, pvalue=0.8525623726195516)\n"
     ]
    },
    {
     "data": {
      "image/png": "[encoded data removed]",
      "text/plain": [
       "<Figure size 108x108 with 1 Axes>"
      ]
     },
     "metadata": {
      "needs_background": "light"
     },
     "output_type": "display_data"
    },
    {
     "name": "stdout",
     "output_type": "stream",
     "text": [
      "Sst to L2/3fsi\n",
      "56 pairs\n",
      "pearson stats:  (0.04265404383964907, 0.7549367773775951)\n",
      "spearman stats:  SpearmanrResult(correlation=0.29091658650542807, pvalue=0.029614762430267432)\n"
     ]
    },
    {
     "data": {
      "image/png": "[encoded data removed]",
      "text/plain": [
       "<Figure size 108x108 with 1 Axes>"
      ]
     },
     "metadata": {
      "needs_background": "light"
     },
     "output_type": "display_data"
    },
    {
     "name": "stdout",
     "output_type": "stream",
     "text": [
      "Pvalb to L2/3fsi\n",
      "106 pairs\n",
      "pearson stats:  (0.02575863163536894, 0.7932440706687126)\n",
      "spearman stats:  SpearmanrResult(correlation=0.00488016593573523, pvalue=0.9604021548783236)\n"
     ]
    },
    {
     "data": {
      "image/png": "[encoded data removed]",
      "text/plain": [
       "<Figure size 108x108 with 1 Axes>"
      ]
     },
     "metadata": {
      "needs_background": "light"
     },
     "output_type": "display_data"
    }
   ],
   "source": [
    "fs=10\n",
    "tick_size=5\n",
    "font='arial'\n",
    "df_list=[Sst_L23pyr_ordered_conv, Pvalb_L23pyr_ordered_conv, Sst_L23fsi_ordered_conv, Pvalb_L23fsi_ordered_conv]\n",
    "tags=['Sst to L2/3pyr', 'Pvalb to L2/3pyr', 'Sst to L2/3fsi', 'Pvalb to L2/3fsi']\n",
    "colors=['green','purple','green', 'purple']\n",
    "i=0\n",
    "\n",
    "\n",
    "\n",
    "for df in df_list:\n",
    "    color=colors[i]\n",
    "\n",
    "    df=df.dropna(subset=['amp_i', 'amp_j'])\n",
    "    i_cnx=df[df.cnx_i=='inhibitory']\n",
    "    conv=i_cnx[i_cnx.cnx_j=='inhibitory']\n",
    "    print (tags[i])\n",
    "    print (np.shape(conv)[0], 'pairs')\n",
    "    print ('pearson stats: ', stats.pearsonr(np.log(conv.amp_i*-1),np.log(conv.amp_j*-1)))\n",
    "    print ('spearman stats: ', stats.spearmanr(np.log(conv.amp_i*-1),np.log(conv.amp_j*-1)))\n",
    "    fig,ax=plt.subplots()\n",
    "    ax.scatter(conv.amp_i*-1, conv.amp_j*-1, facecolor=color,alpha=0.3,edgecolor='none',s=10)\n",
    "    ax.axis([0.01,3,0.01,3])\n",
    "    ax.set_xlabel('cell i IPSP amp (mV)', fontsize=fs, fontname=font)\n",
    "    ax.set_ylabel('cell j IPSP amp (mV)', fontsize=fs, fontname=font)\n",
    "    plt.xscale('log')\n",
    "    plt.yscale('log')\n",
    "\n",
    "    ax.spines['right'].set_visible(False)\n",
    "    ax.spines['top'].set_visible(False)\n",
    "    ax.yaxis.set_ticks_position('left')\n",
    "    ax.xaxis.set_ticks_position('bottom')\n",
    "    ax.xaxis.set_tick_params(size=tick_size,labelsize=fs, direction='out')\n",
    "    ax.yaxis.set_tick_params(size=tick_size,labelsize=fs, direction='out')\n",
    "\n",
    "    ax.yaxis.set_major_formatter(FormatStrFormatter('%g'))\n",
    "    ax.xaxis.set_major_formatter(FormatStrFormatter('%g'))\n",
    "\n",
    "    fig.set_figheight(1.5)\n",
    "    fig.set_figwidth(1.5)\n",
    "    plt.show()\n",
    "    i+=1\n",
    "    \n",
    "\n"
   ]
  },
  {
   "cell_type": "code",
   "execution_count": null,
   "id": "124220da",
   "metadata": {},
   "outputs": [],
   "source": []
  }
 ],
 "metadata": {
  "kernelspec": {
   "display_name": "Python 3 (ipykernel)",
   "language": "python",
   "name": "python3"
  },
  "language_info": {
   "codemirror_mode": {
    "name": "ipython",
    "version": 3
   },
   "file_extension": ".py",
   "mimetype": "text/x-python",
   "name": "python",
   "nbconvert_exporter": "python",
   "pygments_lexer": "ipython3",
   "version": "3.9.5"
  }
 },
 "nbformat": 4,
 "nbformat_minor": 5
}
