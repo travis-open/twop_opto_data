{
 "cells": [
  {
   "cell_type": "code",
   "execution_count": 1,
   "id": "9dad9434",
   "metadata": {},
   "outputs": [],
   "source": [
    "import pandas as pd\n",
    "import numpy as np\n",
    "from matplotlib import pyplot as plt\n",
    "import matplotlib.gridspec\n",
    "import math\n",
    "import statsmodels.api as sm\n",
    "import matplotlib.style\n",
    "import matplotlib as mpl\n",
    "import matplotlib.colors as colors\n",
    "import matplotlib.cm as cmx\n",
    "import seaborn as sns\n",
    "from scipy import stats, ndimage, misc\n",
    "import csv\n",
    "import opto_util as opto\n",
    "from matplotlib.ticker import FormatStrFormatter\n",
    "from ast import literal_eval\n",
    "mpl.style.use('classic')\n",
    "%matplotlib inline\n",
    "import importlib"
   ]
  },
  {
   "cell_type": "code",
   "execution_count": 2,
   "id": "0a866234",
   "metadata": {},
   "outputs": [],
   "source": [
    "plt.rcParams.update({\n",
    "    'font.sans-serif': 'arial',\n",
    "    'font.family': 'sans-serif'\n",
    "})"
   ]
  },
  {
   "cell_type": "code",
   "execution_count": 3,
   "id": "c92926a6",
   "metadata": {},
   "outputs": [
    {
     "name": "stderr",
     "output_type": "stream",
     "text": [
      "/Users/travish/opt/miniconda3/lib/python3.9/site-packages/IPython/core/interactiveshell.py:3441: DtypeWarning: Columns (5,24,56) have mixed types.Specify dtype option on import or set low_memory=False.\n",
      "  exec(code_obj, self.user_global_ns, self.user_ns)\n"
     ]
    }
   ],
   "source": [
    "full_df=pd.read_csv('20210415_full_df.csv')"
   ]
  },
  {
   "cell_type": "code",
   "execution_count": 4,
   "id": "e491cdee",
   "metadata": {},
   "outputs": [
    {
     "data": {
      "text/plain": [
       "array([ 1., nan,  0.,  2.])"
      ]
     },
     "execution_count": 4,
     "metadata": {},
     "output_type": "execute_result"
    }
   ],
   "source": [
    "intKclusters=pd.read_csv('interneuron_Kclusters_1203.csv')\n",
    "full_df = pd.merge(full_df, intKclusters,  how='left', left_on=['exp_id','headstage'], right_on = ['experiment','headstage'])\n",
    "full_df.Kcluster.unique()"
   ]
  },
  {
   "cell_type": "code",
   "execution_count": 5,
   "id": "b99a540a",
   "metadata": {},
   "outputs": [
    {
     "name": "stdout",
     "output_type": "stream",
     "text": [
      "(16286, 85)\n"
     ]
    }
   ],
   "source": [
    "standard_df=full_df[full_df.internal=='standard']\n",
    "standard_df=standard_df[standard_df.notes.isnull()]\n",
    "print (np.shape(standard_df))"
   ]
  },
  {
   "cell_type": "code",
   "execution_count": 6,
   "id": "b18b9c7c",
   "metadata": {},
   "outputs": [],
   "source": [
    "RorbAi167=standard_df[(standard_df.presynapticCre=='Rorb') & (standard_df.presynapticEffector=='Ai167')]\n",
    "RorbKv=standard_df[(standard_df.presynapticCre=='Rorb') & (standard_df.presynapticEffector=='ChrimsonR_kv_eyfp_AAV')]\n",
    "SstAi167=standard_df[(standard_df.presynapticCre=='Sst') & (standard_df.presynapticEffector=='Ai167')]\n",
    "SstKv=standard_df[(standard_df.presynapticCre=='Sst') & (standard_df.presynapticEffector=='ChrimsonR_kv_eyfp_AAV')]\n",
    "PvalbKv=standard_df[(standard_df.presynapticCre=='Pvalb') & (standard_df.presynapticEffector=='ChrimsonR_kv_eyfp_AAV')]\n",
    "PenkKv=standard_df[(standard_df.presynapticCre=='Penk') & (standard_df.presynapticEffector=='ChrimsonR_kv_eyfp_AAV')]\n",
    "Tlx3Kv=standard_df[(standard_df.presynapticCre=='Tlx3') & (standard_df.presynapticEffector=='ChrimsonR_kv_eyfp_AAV')]\n",
    "Scnn1aAi167=standard_df[(standard_df.presynapticCre=='Scnn1a') & (standard_df.presynapticEffector=='Ai167')]\n",
    "Sst=standard_df[standard_df.presynapticCre=='Sst']\n",
    "Ntsr1=standard_df[standard_df.presynapticCre=='Ntsr1']\n",
    "Rorb=standard_df[standard_df.presynapticCre=='Rorb']\n",
    "Scnn1a=standard_df[standard_df.presynapticCre=='Scnn1a']"
   ]
  },
  {
   "cell_type": "code",
   "execution_count": 22,
   "id": "123f49b0",
   "metadata": {},
   "outputs": [],
   "source": [
    "Rorb_L23pyr=Rorb[(Rorb.post_class=='pyramidal') & (Rorb.post_layer==2)]\n",
    "Rorb_L23FSI=Rorb[(Rorb.Kcluster==1) & (Rorb.post_layer==2)]\n",
    "Penk_L23pyr=PenkKv[(PenkKv.post_class=='pyramidal') & (PenkKv.post_layer==2)]\n",
    "Penk_L23FSI=PenkKv[(PenkKv.Kcluster==1) & (PenkKv.post_layer==2)]\n",
    "Penk_L23VIP=PenkKv[(PenkKv.Kcluster==2) & (PenkKv.post_layer==2)]\n",
    "Tlx3_L23pyr=Tlx3Kv[(Tlx3Kv.post_class=='pyramidal') & (Tlx3Kv.post_layer==2)]\n",
    "Tlx3_L23FSI=Tlx3Kv[(Tlx3Kv.Kcluster==1) & (Tlx3Kv.post_layer==2)]\n",
    "Sst_L23pyr=Sst[(Sst.post_class=='pyramidal') & (Sst.post_layer==2)]\n",
    "Sst_L23FSI=Sst[(Sst.Kcluster==1) & (Sst.post_layer==2)]\n",
    "Pvalb_L23pyr=PvalbKv[(PvalbKv.post_class=='pyramidal') & (PvalbKv.post_layer==2)]\n",
    "Pvalb_Pvalb=PvalbKv[(PvalbKv.Kcluster==1) & (PvalbKv.post_layer==2)]\n",
    "Pvalb_L23Pvalb=Pvalb_Pvalb[Pvalb_Pvalb.post_layer==2]"
   ]
  },
  {
   "cell_type": "code",
   "execution_count": 12,
   "id": "140c1568",
   "metadata": {},
   "outputs": [],
   "source": [
    "df_list=[Penk_L23pyr, Penk_L23FSI, Penk_L23VIP]\n",
    "x_bins=np.arange(0,701,100)\n",
    "y_bins=np.arange(50,1051,100)\n",
    "\n",
    "for df in df_list:\n",
    "    prob_matrix=opto.cnx_prob_2d(df, ['excitatory'], x_bins, y_bins, 0)\n",
    "    df=opto.assign_est_cnx_prob_2d(df, x_bins, y_bins, prob_matrix)\n",
    "    \n",
    "Penk_L23combo=pd.concat(df_list)\n",
    "\n",
    "\n"
   ]
  },
  {
   "cell_type": "code",
   "execution_count": 18,
   "id": "44772847",
   "metadata": {},
   "outputs": [],
   "source": [
    "df_list=[Rorb_L23pyr, Rorb_L23FSI]\n",
    "\n",
    "for df in df_list:\n",
    "    prob_matrix=opto.cnx_prob_2d(df, ['excitatory'], x_bins, y_bins, 0)\n",
    "    df=opto.assign_est_cnx_prob_2d(df, x_bins, y_bins, prob_matrix)\n",
    "Rorb_L23combo=pd.concat(df_list)\n"
   ]
  },
  {
   "cell_type": "code",
   "execution_count": 19,
   "id": "f2648915",
   "metadata": {},
   "outputs": [],
   "source": [
    "df_list=[Tlx3_L23pyr, Tlx3_L23FSI]\n",
    "\n",
    "for df in df_list:\n",
    "    prob_matrix=opto.cnx_prob_2d(df, ['excitatory'], x_bins, y_bins, 0)\n",
    "    df=opto.assign_est_cnx_prob_2d(df, x_bins, y_bins, prob_matrix)\n",
    "Tlx3_L23combo=pd.concat(df_list)\n"
   ]
  },
  {
   "cell_type": "code",
   "execution_count": 20,
   "id": "da328bd8",
   "metadata": {},
   "outputs": [],
   "source": [
    "df_list=[Sst_L23pyr, Sst_L23FSI]\n",
    "\n",
    "for df in df_list:\n",
    "    prob_matrix=opto.cnx_prob_2d(df, ['inhibitory'], x_bins, y_bins, 0)\n",
    "    df=opto.assign_est_cnx_prob_2d(df, x_bins, y_bins, prob_matrix)\n",
    "Sst_L23combo=pd.concat(df_list)"
   ]
  },
  {
   "cell_type": "code",
   "execution_count": 25,
   "id": "19e86b04",
   "metadata": {},
   "outputs": [],
   "source": [
    "df_list=[Pvalb_L23pyr, Pvalb_L23Pvalb]\n",
    "\n",
    "for df in df_list:\n",
    "    prob_matrix=opto.cnx_prob_2d(df, ['inhibitory'], x_bins, y_bins, 0)\n",
    "    df=opto.assign_est_cnx_prob_2d(df, x_bins, y_bins, prob_matrix)\n",
    "    \n",
    "Pvalb_L23combo=pd.concat(df_list)\n"
   ]
  },
  {
   "cell_type": "code",
   "execution_count": 26,
   "id": "bf24e9f9",
   "metadata": {},
   "outputs": [
    {
     "data": {
      "text/plain": [
       "<module 'opto_util' from '/Users/travish/Desktop/2p_opto_nbs/opto_util.py'>"
      ]
     },
     "execution_count": 26,
     "metadata": {},
     "output_type": "execute_result"
    }
   ],
   "source": [
    "importlib.reload(opto)"
   ]
  },
  {
   "cell_type": "code",
   "execution_count": 29,
   "id": "95094c4b",
   "metadata": {},
   "outputs": [],
   "source": [
    "Penk_ordered_div=opto.make_ordered_div_df(Penk_L23combo)\n",
    "Rorb_ordered_div=opto.make_ordered_div_df(Rorb_L23combo)\n",
    "Tlx3_ordered_div=opto.make_ordered_div_df(Tlx3_L23combo)\n",
    "Pvalb_ordered_div=opto.make_ordered_div_df(Pvalb_L23combo)\n",
    "Sst_ordered_div=opto.make_ordered_div_df(Sst_L23combo)"
   ]
  },
  {
   "cell_type": "code",
   "execution_count": 31,
   "id": "9fd99477",
   "metadata": {},
   "outputs": [
    {
     "name": "stderr",
     "output_type": "stream",
     "text": [
      "/Users/travish/Desktop/2p_opto_nbs/opto_util.py:135: RuntimeWarning: invalid value encountered in true_divide\n",
      "  hist, x=np.histogram(values, bins=bins)\n",
      "/Users/travish/opt/miniconda3/lib/python3.9/site-packages/statsmodels/stats/proportion.py:89: RuntimeWarning: invalid value encountered in true_divide\n",
      "  q_ = count * 1. / nobs\n",
      "/Users/travish/Desktop/2p_opto_nbs/opto_util.py:135: RuntimeWarning: invalid value encountered in true_divide\n",
      "  hist, x=np.histogram(values, bins=bins)\n",
      "/Users/travish/opt/miniconda3/lib/python3.9/site-packages/statsmodels/stats/proportion.py:89: RuntimeWarning: invalid value encountered in true_divide\n",
      "  q_ = count * 1. / nobs\n"
     ]
    },
    {
     "data": {
      "image/png": "[encoded data removed]",
      "text/plain": [
       "<Figure size 108x108 with 1 Axes>"
      ]
     },
     "metadata": {
      "needs_background": "light"
     },
     "output_type": "display_data"
    }
   ],
   "source": [
    "fs=10\n",
    "tick_size=5\n",
    "font='arial'\n",
    "df_list=[Rorb_ordered_div,Penk_ordered_div,Tlx3_ordered_div]\n",
    "colors=['blue','magenta','darkorange']\n",
    "i=0\n",
    "fig,ax=plt.subplots()\n",
    "bins=np.arange(0,401,100)\n",
    "tags=['Rorb','Penk','Tlx3']\n",
    "for df in df_list:\n",
    "    color=colors[i]\n",
    "    tag=tags[i]\n",
    "    df=df[df.post_class_j=='pyramidal']\n",
    "    i_cnx=df[df.cnx_i=='excitatory']\n",
    "    ij_dist=opto.frac_ci_j_give_i(i_cnx,'postpost_dxyz',['excitatory'],bins)\n",
    "    opto.rate_ci_probed_cnx_x(ax, color, opto.midPoints(bins), ij_dist['probed'], ij_dist['conv'], min_probed=1,alpha=0.3, ls='solid')\n",
    "    i+=1\n",
    "    \n",
    "ax.axis([0,400,0,1])\n",
    "ax.set_xlabel(r'i to j total distance ($\\mu$m)', fontsize=fs, fontname=font)\n",
    "ax.set_ylabel('prob. j|i', fontsize=fs, fontname=font)\n",
    "ax.spines['right'].set_visible(False)\n",
    "ax.spines['top'].set_visible(False)\n",
    "ax.yaxis.set_ticks_position('left')\n",
    "ax.xaxis.set_ticks_position('bottom')\n",
    "ax.xaxis.set_tick_params(size=tick_size,labelsize=fs, direction='out')\n",
    "ax.yaxis.set_tick_params(size=tick_size,labelsize=fs, direction='out')\n",
    "ax.yaxis.set_major_locator(plt.MaxNLocator(4))\n",
    "ax.xaxis.set_major_locator(plt.MaxNLocator(3))\n",
    "ax.yaxis.set_major_formatter(FormatStrFormatter('%g'))\n",
    "fig.set_figheight(1.5)\n",
    "fig.set_figwidth(1.5)\n",
    "#plt.savefig('exc_total_intersom_diverge.svg')\n"
   ]
  },
  {
   "cell_type": "code",
   "execution_count": 39,
   "id": "776efc04",
   "metadata": {},
   "outputs": [
    {
     "data": {
      "image/png": "[encoded data removed]",
      "text/plain": [
       "<Figure size 108x108 with 1 Axes>"
      ]
     },
     "metadata": {
      "needs_background": "light"
     },
     "output_type": "display_data"
    }
   ],
   "source": [
    "fs=10\n",
    "tick_size=5\n",
    "font='arial'\n",
    "df_list=[Pvalb_ordered_div,Sst_ordered_div]\n",
    "colors=['purple','green']\n",
    "i=0\n",
    "fig,ax=plt.subplots()\n",
    "bins=np.arange(0,401,100)\n",
    "\n",
    "tags=['Pvalb','Sst']\n",
    "\n",
    "for df in df_list:\n",
    "    color=colors[i]\n",
    "    tag=tags[i]\n",
    "    df=df[df.post_class_j=='pyramidal']\n",
    "    i_cnx=df[df.cnx_i=='inhibitory']\n",
    "    div=i_cnx[i_cnx.cnx_j=='inhibitory']\n",
    "    ij_dist=opto.frac_ci_j_give_i(i_cnx,'postpost_dxyz',['inhibitory'],bins)\n",
    "    opto.rate_ci_probed_cnx_x(ax, color, opto.midPoints(bins), ij_dist['probed'], ij_dist['conv'], min_probed=1,alpha=0.3, ls='solid')\n",
    "    i+=1\n",
    "    \n",
    "ax.axis([0,400,0,1])\n",
    "ax.set_xlabel(r'i to j total distance ($\\mu$m)', fontsize=fs, fontname=font)\n",
    "ax.set_ylabel('prob. j|i')\n",
    "ax.spines['right'].set_visible(False)\n",
    "ax.spines['top'].set_visible(False)\n",
    "ax.yaxis.set_ticks_position('left')\n",
    "ax.xaxis.set_ticks_position('bottom')\n",
    "ax.xaxis.set_tick_params(size=tick_size,labelsize=fs, direction='out')\n",
    "ax.yaxis.set_tick_params(size=tick_size,labelsize=fs, direction='out')\n",
    "ax.yaxis.set_major_locator(plt.MaxNLocator(4))\n",
    "ax.xaxis.set_major_locator(plt.MaxNLocator(3))\n",
    "ax.yaxis.set_major_formatter(FormatStrFormatter('%g'))\n",
    "fig.set_figheight(1.5)\n",
    "fig.set_figwidth(1.5)\n",
    "#plt.savefig('inh_total_intersom_diverge.svg')\n"
   ]
  },
  {
   "cell_type": "code",
   "execution_count": 33,
   "id": "f78ba5aa",
   "metadata": {},
   "outputs": [],
   "source": [
    "##measure cell to cell connectivity as a function of presynaptic layer to plot alongside divergence measurements\n",
    "bins=[80,330,480,780,1000]\n",
    "exc_L23_pyr=standard_df[(standard_df.post_class=='pyramidal') & (standard_df.post_layer==2)]\n",
    "exc_L23_pyr=exc_L23_pyr[exc_L23_pyr.presynapticCre.isin(['Penk', 'Scnn1a', 'Rorb', 'Tlx3', 'Ntsr1'])]\n",
    "exc_L23pyr_con=opto.connectivity_profile(exc_L23_pyr[exc_L23_pyr.abs_x<=300],'y_pia',bins)\n",
    "Sst_L23pyr=Sst[(Sst.post_class=='pyramidal') & (Sst.post_layer==2)]\n",
    "Pvalb_L23pyr=PvalbKv[(PvalbKv.post_class=='pyramidal') & (PvalbKv.post_layer==2)]\n",
    "Sst_L23pyr_con=opto.connectivity_profile(Sst_L23pyr[Sst_L23pyr.abs_x<=150],'y_pia', bins)\n",
    "Pvalb_L23pyr_con=opto.connectivity_profile(Pvalb_L23pyr[Pvalb_L23pyr.abs_x<=150],'y_pia', bins)"
   ]
  },
  {
   "cell_type": "code",
   "execution_count": 34,
   "id": "ed63e0ab",
   "metadata": {},
   "outputs": [
    {
     "name": "stderr",
     "output_type": "stream",
     "text": [
      "/Users/travish/Desktop/2p_opto_nbs/opto_util.py:135: RuntimeWarning: invalid value encountered in true_divide\n",
      "  hist, x=np.histogram(values, bins=bins)\n",
      "/Users/travish/opt/miniconda3/lib/python3.9/site-packages/statsmodels/stats/proportion.py:89: RuntimeWarning: invalid value encountered in true_divide\n",
      "  q_ = count * 1. / nobs\n"
     ]
    },
    {
     "data": {
      "image/png": "[encoded data removed]",
      "text/plain": [
       "<Figure size 108x108 with 1 Axes>"
      ]
     },
     "metadata": {
      "needs_background": "light"
     },
     "output_type": "display_data"
    }
   ],
   "source": [
    "\n",
    "fs=10\n",
    "tick_size=5\n",
    "font='arial'\n",
    "df_list=[Rorb_ordered_div,Penk_ordered_div,Tlx3_ordered_div]\n",
    "colors=['blue','magenta','darkorange']\n",
    "i=0\n",
    "fig,ax=plt.subplots()\n",
    "bins_list=[[80,330,480,780,1000],[20,330],[480,780]]\n",
    "\n",
    "tags=['Rorb','Penk','Tlx3']\n",
    "for df in df_list:\n",
    "    color=colors[i]\n",
    "    tag=tags[i]\n",
    "    df=df[df.post_class_j=='pyramidal']\n",
    "    i_cnx=df[df.cnx_i=='excitatory']\n",
    "    bins=bins_list[i]\n",
    "    ij_dist=opto.frac_ci_j_give_i(i_cnx,'pre_pia',['excitatory'],bins)\n",
    "    opto.rate_ci_probed_cnx_y(ax, color, opto.midPoints(bins), ij_dist['probed'], ij_dist['conv'],alpha=0.3, ls='solid')\n",
    "    i+=1\n",
    "\n",
    "opto.layer_borders(ax,lw=1,alpha=0.6, ls=(0,(2,1)))   \n",
    "ax.plot(exc_L23pyr_con['exc_frac'],exc_L23pyr_con['midX'],ls=(0, (2,2)),c='black',lw=2,marker='s',markersize=4)\n",
    "ax.axis([0,0.4,1000,0])\n",
    "ax.set_ylabel(r'presynaptic layer', fontsize=fs, fontname=font)\n",
    "ax.set_xlabel('prob. j|i', fontsize=fs, fontname=font)\n",
    "ax.spines['right'].set_visible(False)\n",
    "ax.spines['top'].set_visible(False)\n",
    "ax.yaxis.set_ticks_position('left')\n",
    "ax.xaxis.set_ticks_position('bottom')\n",
    "ax.yaxis.set_ticks([215,405,630,880])\n",
    "ax.yaxis.set_ticklabels(['L2/3','L4','L5','L6'])\n",
    "ax.xaxis.set_tick_params(size=tick_size,labelsize=fs, direction='out')\n",
    "ax.yaxis.set_tick_params(size=tick_size,labelsize=fs, direction='out')\n",
    "ax.xaxis.set_major_locator(plt.MaxNLocator(3))\n",
    "ax.xaxis.set_major_formatter(FormatStrFormatter('%g'))\n",
    "fig.set_figheight(1.5)\n",
    "fig.set_figwidth(1.5)\n",
    "#plt.savefig('exc_prepia_diverge_compar.svg')\n"
   ]
  },
  {
   "cell_type": "code",
   "execution_count": 37,
   "id": "648c06ea",
   "metadata": {},
   "outputs": [
    {
     "name": "stderr",
     "output_type": "stream",
     "text": [
      "/Users/travish/Desktop/2p_opto_nbs/opto_util.py:135: RuntimeWarning: invalid value encountered in true_divide\n",
      "  hist, x=np.histogram(values, bins=bins)\n",
      "/Users/travish/opt/miniconda3/lib/python3.9/site-packages/statsmodels/stats/proportion.py:89: RuntimeWarning: invalid value encountered in true_divide\n",
      "  q_ = count * 1. / nobs\n"
     ]
    },
    {
     "data": {
      "image/png": "[encoded data removed]",
      "text/plain": [
       "<Figure size 108x108 with 1 Axes>"
      ]
     },
     "metadata": {
      "needs_background": "light"
     },
     "output_type": "display_data"
    }
   ],
   "source": [
    "\n",
    "fs=10\n",
    "tick_size=5\n",
    "font='arial'\n",
    "df_list=[Pvalb_ordered_div,Sst_ordered_div]\n",
    "colors=['purple','green']\n",
    "i=0\n",
    "fig,ax=plt.subplots()\n",
    "bin_list=[[60,330,480],[60,330,480,780,1000]]\n",
    "bins=[60,330,480,780,1000]\n",
    "\n",
    "tags=['Pvalb','Sst']\n",
    "for df in df_list:\n",
    "    color=colors[i]\n",
    "    tag=tags[i]\n",
    "    bins=bin_list[i]\n",
    "    df=df[df.post_class_j=='pyramidal']\n",
    "    i_cnx=df[df.cnx_i=='inhibitory']\n",
    "    div=i_cnx[i_cnx.cnx_j=='inhibitory']\n",
    "    ij_dist=opto.frac_ci_j_give_i(i_cnx,'pre_pia',['inhibitory'],bins)\n",
    "    opto.rate_ci_probed_cnx_y(ax, color, opto.midPoints(bins), ij_dist['probed'], ij_dist['conv'],alpha=0.3, ls='solid',min_probed=1)\n",
    "    i+=1\n",
    "opto.layer_borders(ax,lw=1,alpha=0.6, ls=(0,(2,1)))   \n",
    "ax.plot(Sst_L23pyr_con['inh_frac'],Sst_L23pyr_con['midX'],ls=(0, (2,2)),c='green',lw=2,marker='s',markersize=4)\n",
    "ax.plot(Pvalb_L23pyr_con['inh_frac'],Pvalb_L23pyr_con['midX'],ls=(0, (2,2)),c='purple',lw=2,marker='s',markersize=4)\n",
    "ax.axis([0,0.7,1000,0])\n",
    "ax.set_ylabel(r'presynaptic layer', fontsize=fs, fontname=font)\n",
    "ax.set_xlabel('prob. j|i', fontsize=fs, fontname=font)\n",
    "ax.spines['right'].set_visible(False)\n",
    "ax.spines['top'].set_visible(False)\n",
    "ax.yaxis.set_ticks_position('left')\n",
    "ax.xaxis.set_ticks_position('bottom')\n",
    "ax.yaxis.set_ticks([215,405,630,880])\n",
    "ax.yaxis.set_ticklabels(['L2/3','L4','L5','L6'])\n",
    "ax.xaxis.set_tick_params(size=tick_size,labelsize=fs, direction='out')\n",
    "ax.yaxis.set_tick_params(size=tick_size,labelsize=fs, direction='out')\n",
    "\n",
    "ax.xaxis.set_major_locator(plt.MaxNLocator(3))\n",
    "ax.xaxis.set_major_formatter(FormatStrFormatter('%g'))\n",
    "fig.set_figheight(1.5)\n",
    "fig.set_figwidth(1.5)\n",
    "#plt.savefig('inh_prepia_diverge_compare.svg')\n"
   ]
  },
  {
   "cell_type": "code",
   "execution_count": 40,
   "id": "21d58c2a",
   "metadata": {},
   "outputs": [
    {
     "name": "stdout",
     "output_type": "stream",
     "text": [
      "Pvalb\n",
      "42\n",
      "(0.16155200836351513, 0.3067269563630256)\n",
      "SpearmanrResult(correlation=0.11639224592424365, pvalue=0.46292166399250123)\n",
      "Sst\n",
      "42\n",
      "(0.4688882199009623, 0.0017353803339543777)\n",
      "SpearmanrResult(correlation=0.4018479494245421, pvalue=0.008341972705853537)\n"
     ]
    },
    {
     "data": {
      "image/png": "[encoded data removed]",
      "text/plain": [
       "<Figure size 108x108 with 1 Axes>"
      ]
     },
     "metadata": {
      "needs_background": "light"
     },
     "output_type": "display_data"
    }
   ],
   "source": [
    "fs=10\n",
    "tick_size=5\n",
    "font='arial'\n",
    "df_list=[Pvalb_ordered_div,Sst_ordered_div]\n",
    "colors=['purple','green']\n",
    "i=0\n",
    "fig,ax=plt.subplots()\n",
    "bins=np.arange(0,401,100)\n",
    "x_lim=200\n",
    "inh_amps_i=[]\n",
    "inh_amps_j=[]\n",
    "tags=['Pvalb','Sst']\n",
    "\n",
    "for df in df_list:\n",
    "    color=colors[i]\n",
    "    tag=tags[i]\n",
    "    df=df[df.post_class_j=='pyramidal']\n",
    "    df=df[df.post_class_i=='pyramidal']\n",
    "    df['abs_x_i']=abs(df['x_ap_i'])\n",
    "    df['abs_x_j']=abs(df['x_ap_j'])\n",
    "    i_cnx=df[df.cnx_i=='inhibitory']\n",
    "    div=i_cnx[i_cnx.cnx_j=='inhibitory']\n",
    "    div=div.dropna(subset=['amp_i', 'amp_j'])\n",
    "    amp_i=np.array(div.amp_i)*-1\n",
    "    amp_j=np.array(div.amp_j)*-1\n",
    "    plt.scatter(amp_i, amp_j, facecolor=color,alpha=0.5,edgecolor='none')\n",
    "    print (tag)\n",
    "    print (np.shape(div)[0])\n",
    "    print (stats.pearsonr(np.log(amp_i), np.log(amp_j)))\n",
    "    print (stats.spearmanr(np.log(amp_i),np.log(amp_j)))\n",
    "    inh_amps_i=np.append(inh_amps_i, np.array(div.amp_i))\n",
    "    inh_amps_j=np.append(inh_amps_j, np.array(div.amp_j))\n",
    "    i+=1\n",
    "    \n",
    "ax.axis([0.01,4,0.01,4])\n",
    "ax.set_xlabel('cell i IPSP amp (mV)', fontsize=fs, fontname=font)\n",
    "ax.set_ylabel('cell j IPSP amp (mV)', fontsize=fs, fontname=font)\n",
    "plt.xscale('log')\n",
    "plt.yscale('log')\n",
    "ax.spines['right'].set_visible(False)\n",
    "ax.spines['top'].set_visible(False)\n",
    "ax.yaxis.set_ticks_position('left')\n",
    "ax.xaxis.set_ticks_position('bottom')\n",
    "ax.xaxis.set_tick_params(size=tick_size,labelsize=fs, direction='out')\n",
    "ax.yaxis.set_tick_params(size=tick_size,labelsize=fs, direction='out')\n",
    "ax.yaxis.set_major_formatter(FormatStrFormatter('%g'))\n",
    "ax.xaxis.set_major_formatter(FormatStrFormatter('%g'))\n",
    "\n",
    "fig.set_figheight(1.5)\n",
    "fig.set_figwidth(1.5)\n",
    "#plt.savefig('diverge_ampij_inh.svg')\n"
   ]
  },
  {
   "cell_type": "code",
   "execution_count": 41,
   "id": "49278f11",
   "metadata": {},
   "outputs": [
    {
     "name": "stdout",
     "output_type": "stream",
     "text": [
      "Rorb\n",
      "64\n",
      "(-0.2478448167590631, 0.04831283791724324)\n",
      "SpearmanrResult(correlation=-0.2477270124813924, pvalue=0.04842298984683129)\n",
      "Tlx3\n",
      "14\n",
      "(-0.4580022971201845, 0.09958051603315937)\n",
      "SpearmanrResult(correlation=-0.6106194690265486, pvalue=0.02037218733143396)\n"
     ]
    },
    {
     "data": {
      "image/png": "[encoded data removed]",
      "text/plain": [
       "<Figure size 108x108 with 1 Axes>"
      ]
     },
     "metadata": {
      "needs_background": "light"
     },
     "output_type": "display_data"
    }
   ],
   "source": [
    "fs=10\n",
    "tick_size=5\n",
    "font='arial'\n",
    "df_list=[Rorb_ordered_div,Tlx3_ordered_div]\n",
    "colors=['blue','darkorange']\n",
    "i=0\n",
    "fig,ax=plt.subplots()\n",
    "bins=np.arange(0,401,100)\n",
    "\n",
    "\n",
    "tags=['Rorb','Tlx3']\n",
    "for df in df_list:\n",
    "    color=colors[i]\n",
    "    tag=tags[i]\n",
    "    df=df[df.post_class_j=='pyramidal']\n",
    "    df=df[df.post_class_i=='pyramidal']\n",
    "    df=df.dropna(subset=['amp_i', 'amp_j'])\n",
    "    i_cnx=df[df.cnx_i=='excitatory']\n",
    "    div=i_cnx[i_cnx.cnx_j=='excitatory']\n",
    "    print (tag)\n",
    "    print (np.shape(div)[0])\n",
    "    print (stats.pearsonr(np.log(div.amp_i),np.log(div.amp_j)))\n",
    "    print (stats.spearmanr(np.log(div.amp_i),np.log(div.amp_j)))\n",
    "    plt.scatter(div.amp_i, div.amp_j, facecolor=color,alpha=0.5,edgecolor='none')\n",
    "\n",
    "    i+=1\n",
    "    \n",
    "ax.axis([0.01,4,0.01,4])\n",
    "ax.set_xlabel('cell i EPSP amp (mV)', fontsize=fs, fontname=font)\n",
    "ax.set_ylabel('cell j EPSP amp (mV)', fontsize=fs, fontname=font)\n",
    "plt.xscale('log')\n",
    "plt.yscale('log')\n",
    "ax.spines['right'].set_visible(False)\n",
    "ax.spines['top'].set_visible(False)\n",
    "ax.yaxis.set_ticks_position('left')\n",
    "ax.xaxis.set_ticks_position('bottom')\n",
    "ax.xaxis.set_tick_params(size=tick_size,labelsize=fs, direction='out')\n",
    "ax.yaxis.set_tick_params(size=tick_size,labelsize=fs, direction='out')\n",
    "ax.yaxis.set_major_formatter(FormatStrFormatter('%g'))\n",
    "ax.xaxis.set_major_formatter(FormatStrFormatter('%g'))\n",
    "fig.set_figheight(1.5)\n",
    "fig.set_figwidth(1.5)\n",
    "#plt.savefig('diverge_ampij_exc.svg')\n"
   ]
  },
  {
   "cell_type": "code",
   "execution_count": null,
   "id": "2ccbba2b",
   "metadata": {},
   "outputs": [],
   "source": []
  }
 ],
 "metadata": {
  "kernelspec": {
   "display_name": "Python 3 (ipykernel)",
   "language": "python",
   "name": "python3"
  },
  "language_info": {
   "codemirror_mode": {
    "name": "ipython",
    "version": 3
   },
   "file_extension": ".py",
   "mimetype": "text/x-python",
   "name": "python",
   "nbconvert_exporter": "python",
   "pygments_lexer": "ipython3",
   "version": "3.9.5"
  }
 },
 "nbformat": 4,
 "nbformat_minor": 5
}
