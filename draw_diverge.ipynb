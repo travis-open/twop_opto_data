{
 "cells": [
  {
   "cell_type": "code",
   "execution_count": 1,
   "metadata": {},
   "outputs": [],
   "source": [
    "import pandas as pd\n",
    "import numpy as np\n",
    "from matplotlib import pyplot as plt\n",
    "import matplotlib.gridspec\n",
    "import math\n",
    "import statsmodels.api as sm\n",
    "import matplotlib.style\n",
    "import matplotlib as mpl\n",
    "import matplotlib.colors as colors\n",
    "import matplotlib.cm as cmx\n",
    "import seaborn as sns\n",
    "from scipy import stats, ndimage, misc\n",
    "import csv\n",
    "import opto_util as opto\n",
    "from matplotlib.ticker import FormatStrFormatter\n",
    "\n",
    "mpl.style.use('classic')\n",
    "%matplotlib inline\n"
   ]
  },
  {
   "cell_type": "code",
   "execution_count": 2,
   "metadata": {},
   "outputs": [
    {
     "name": "stderr",
     "output_type": "stream",
     "text": [
      "/Users/travish/opt/miniconda3/lib/python3.9/site-packages/IPython/core/interactiveshell.py:3441: DtypeWarning: Columns (5,24,56) have mixed types.Specify dtype option on import or set low_memory=False.\n",
      "  exec(code_obj, self.user_global_ns, self.user_ns)\n"
     ]
    }
   ],
   "source": [
    "full_df=pd.read_csv('20210415_full_df.csv')"
   ]
  },
  {
   "cell_type": "code",
   "execution_count": 3,
   "metadata": {},
   "outputs": [
    {
     "data": {
      "text/plain": [
       "array([ 1., nan,  0.,  2.])"
      ]
     },
     "execution_count": 3,
     "metadata": {},
     "output_type": "execute_result"
    }
   ],
   "source": [
    "intKclusters=pd.read_csv('interneuron_Kclusters_1203.csv')\n",
    "full_df = pd.merge(full_df, intKclusters,  how='left', left_on=['exp_id','headstage'], right_on = ['experiment','headstage'])\n",
    "full_df.Kcluster.unique()"
   ]
  },
  {
   "cell_type": "code",
   "execution_count": 5,
   "metadata": {},
   "outputs": [
    {
     "name": "stdout",
     "output_type": "stream",
     "text": [
      "(16286, 85)\n"
     ]
    }
   ],
   "source": [
    "\n",
    "standard_df=full_df[full_df.internal=='standard']\n",
    "standard_df=standard_df[standard_df.notes.isnull()]\n",
    "print (np.shape(standard_df))"
   ]
  },
  {
   "cell_type": "code",
   "execution_count": 6,
   "metadata": {},
   "outputs": [],
   "source": [
    "RorbAi167=standard_df[(standard_df.presynapticCre=='Rorb') & (standard_df.presynapticEffector=='Ai167')]\n",
    "RorbKv=standard_df[(standard_df.presynapticCre=='Rorb') & (standard_df.presynapticEffector=='ChrimsonR_kv_eyfp_AAV')]\n",
    "SstAi167=standard_df[(standard_df.presynapticCre=='Sst') & (standard_df.presynapticEffector=='Ai167')]\n",
    "SstKv=standard_df[(standard_df.presynapticCre=='Sst') & (standard_df.presynapticEffector=='ChrimsonR_kv_eyfp_AAV')]\n",
    "PvalbKv=standard_df[(standard_df.presynapticCre=='Pvalb') & (standard_df.presynapticEffector=='ChrimsonR_kv_eyfp_AAV')]\n",
    "PenkKv=standard_df[(standard_df.presynapticCre=='Penk') & (standard_df.presynapticEffector=='ChrimsonR_kv_eyfp_AAV')]\n",
    "Tlx3Kv=standard_df[(standard_df.presynapticCre=='Tlx3') & (standard_df.presynapticEffector=='ChrimsonR_kv_eyfp_AAV')]\n",
    "Scnn1aAi167=standard_df[(standard_df.presynapticCre=='Scnn1a') & (standard_df.presynapticEffector=='Ai167')]\n",
    "Sst=standard_df[standard_df.presynapticCre=='Sst']\n",
    "Ntsr1=standard_df[standard_df.presynapticCre=='Ntsr1']\n",
    "Rorb=standard_df[standard_df.presynapticCre=='Rorb']\n",
    "Scnn1a=standard_df[standard_df.presynapticCre=='Scnn1a']"
   ]
  },
  {
   "cell_type": "code",
   "execution_count": 7,
   "metadata": {},
   "outputs": [
    {
     "data": {
      "image/png": "[encoded data removed]",
      "text/plain": [
       "<Figure size 548.571x72 with 1 Axes>"
      ]
     },
     "metadata": {
      "needs_background": "light"
     },
     "output_type": "display_data"
    }
   ],
   "source": [
    "df=PvalbKv\n",
    "df=df[(df.post_layer==2)]\n",
    "df=df.dropna(subset=['y_pia','toPia'])\n",
    "df=df.sort_values(by=['y_pia'])\n",
    "fig, ax = plt.subplots()\n",
    "grouped=df.groupby(['exp_id', 'MP_ID'], sort=False)\n",
    "x_offset=100\n",
    "count=0\n",
    "\n",
    "\n",
    "for name, group in grouped:\n",
    "    group=group.reset_index()\n",
    "\n",
    "    cnxs=group[group.cnx=='inhibitory']\n",
    "    if len(cnxs.index)>1:\n",
    "\n",
    "        min_x=min(cnxs.x_ap)\n",
    "        max_x=max(cnxs.x_ap)\n",
    "        pre_pia=np.mean(cnxs.y_pia)\n",
    "        count+=1\n",
    "\n",
    "        if min_x<0:\n",
    "            x_offset+=abs(min_x)\n",
    "        for cnx in cnxs.index:\n",
    "            plt.plot([cnxs.x_ap[cnx]+x_offset, x_offset], [cnxs.toPia[cnx], pre_pia], lw=2, alpha=0.7, c='purple',zorder=0)\n",
    "        plt.scatter([x_offset],[pre_pia],marker='o', s=10,c='white',zorder=1)    \n",
    "        if max_x>0:\n",
    "            x_offset=x_offset+100+max_x\n",
    "        else:\n",
    "            x_offset=x_offset+100\n",
    "            \n",
    "        \n",
    "plt.ylim([1050,0])\n",
    "x_lims=ax.get_xlim()\n",
    "\n",
    "opto.layer_borders(ax, max_x=x_lims[1],lw=1,alpha=0.6, ls=(0,(2,1)))\n",
    "plt.plot([200,400], [630,630], c='black', lw=2.5)\n",
    "ax.set_xlim(x_lims)\n",
    "width_fact=(x_lims[1]-x_lims[0])/1050\n",
    "ax.set_aspect(aspect='equal',adjustable='box')\n",
    "\n",
    "ax.spines['right'].set_visible(False)\n",
    "ax.spines['top'].set_visible(False)\n",
    "ax.spines['bottom'].set_visible(False)\n",
    "ax.spines['left'].set_visible(True)\n",
    "ax.yaxis.set_ticks_position('left')\n",
    "ax.yaxis.set_tick_params(direction='out')\n",
    "ax.xaxis.set_ticks_position('none')\n",
    "plt.xticks([])\n",
    "plt.yticks([0,215,405,630,890], (' ', 'L2/3', 'L4', 'L5', 'L6'), fontname = \"arial\")\n",
    "\n",
    "\n",
    "fig.set_figheight(1)\n",
    "fig.set_figwidth(width_fact)\n",
    "\n",
    "#plt.savefig('Pvalb_diverge.svg')\n"
   ]
  },
  {
   "cell_type": "code",
   "execution_count": 8,
   "metadata": {},
   "outputs": [
    {
     "data": {
      "image/png": "[encoded data removed]",
      "text/plain": [
       "<Figure size 480x72 with 1 Axes>"
      ]
     },
     "metadata": {
      "needs_background": "light"
     },
     "output_type": "display_data"
    }
   ],
   "source": [
    "df=Sst\n",
    "df=df[(df.post_layer==2)]\n",
    "df=df.dropna(subset=['y_pia','toPia'])\n",
    "df=df.sort_values(by=['y_pia'])\n",
    "fig, ax = plt.subplots()\n",
    "grouped=df.groupby(['exp_id', 'MP_ID'], sort=False)\n",
    "x_offset=100\n",
    "count=0\n",
    "\n",
    "for name, group in grouped:\n",
    "    group=group.reset_index()\n",
    "\n",
    "    cnxs=group[group.cnx=='inhibitory']\n",
    "    if len(cnxs.index)>1:\n",
    "        count+=1\n",
    "        min_x=min(cnxs.x_ap)\n",
    "        max_x=max(cnxs.x_ap)\n",
    "        pre_pia=np.mean(cnxs.y_pia)\n",
    "        if min_x<0:\n",
    "            x_offset+=abs(min_x)\n",
    "        for cnx in cnxs.index:\n",
    "            plt.plot([cnxs.x_ap[cnx]+x_offset, x_offset], [cnxs.toPia[cnx], pre_pia], lw=2, alpha=0.7, c='green',zorder=0)\n",
    "        plt.scatter([x_offset],[pre_pia],marker='o', s=10,c='white',zorder=1)    \n",
    "    \n",
    "        if max_x>0:\n",
    "            x_offset=x_offset+100+max_x\n",
    "        else:\n",
    "            x_offset=x_offset+100\n",
    "            \n",
    "        \n",
    "plt.ylim([1050,0])\n",
    "x_lims=ax.get_xlim()\n",
    "\n",
    "opto.layer_borders(ax, max_x=x_lims[1],lw=1,alpha=0.6, ls=(0,(2,1)))\n",
    "plt.plot([200,400], [630,630], c='black', lw=2.5)\n",
    "ax.set_xlim(x_lims)\n",
    "width_fact=(x_lims[1]-x_lims[0])/1050\n",
    "ax.set_aspect(aspect='equal',adjustable='box')\n",
    "\n",
    "ax.spines['right'].set_visible(False)\n",
    "ax.spines['top'].set_visible(False)\n",
    "ax.spines['bottom'].set_visible(False)\n",
    "ax.spines['left'].set_visible(True)\n",
    "ax.yaxis.set_ticks_position('left')\n",
    "ax.xaxis.set_ticks_position('none')\n",
    "plt.xticks([])\n",
    "plt.yticks([215,405,630,890], ('L2/3', 'L4', 'L5', 'L6'), fontname = \"arial\")\n",
    "ax.yaxis.set_tick_params(direction='out')\n",
    "fig.set_figheight(1)\n",
    "fig.set_figwidth(width_fact)\n",
    "\n",
    "#plt.savefig('Sst_diverge.svg')\n"
   ]
  },
  {
   "cell_type": "code",
   "execution_count": 9,
   "metadata": {},
   "outputs": [
    {
     "data": {
      "image/png": "[encoded data removed]",
      "text/plain": [
       "<Figure size 68.5714x72 with 1 Axes>"
      ]
     },
     "metadata": {
      "needs_background": "light"
     },
     "output_type": "display_data"
    }
   ],
   "source": [
    "df=PenkKv\n",
    "df=df[(df.post_layer==2)]\n",
    "df=df.dropna(subset=['y_pia','toPia'])\n",
    "df=df.sort_values(by=['y_pia'])\n",
    "fig, ax = plt.subplots()\n",
    "grouped=df.groupby(['exp_id', 'MP_ID'], sort=False)\n",
    "x_offset=100\n",
    "count=0\n",
    "\n",
    "for name, group in grouped:\n",
    "    group=group.reset_index()\n",
    "    cnxs=group[group.cnx=='excitatory']\n",
    "    if len(cnxs.index)>1:\n",
    "        count+=1\n",
    "        min_x=min(cnxs.x_ap)\n",
    "        max_x=max(cnxs.x_ap)\n",
    "        pre_pia=np.mean(cnxs.y_pia)\n",
    "        if min_x<0:\n",
    "            x_offset+=abs(min_x)\n",
    "        for cnx in cnxs.index:\n",
    "            plt.plot([cnxs.x_ap[cnx]+x_offset, x_offset], [cnxs.toPia[cnx], pre_pia], lw=2, alpha=0.7, c='magenta',zorder=0)\n",
    "        plt.scatter([x_offset],[pre_pia],marker='^', s=10,c='white',zorder=1)    \n",
    "    \n",
    "        if max_x>0:\n",
    "            x_offset=x_offset+100+max_x\n",
    "        else:\n",
    "            x_offset=x_offset+100\n",
    "            \n",
    "        \n",
    "plt.ylim([1050,0])\n",
    "x_lims=ax.get_xlim()\n",
    "\n",
    "opto.layer_borders(ax, max_x=x_lims[1],lw=1,alpha=0.6, ls=(0,(2,1)))\n",
    "plt.plot([200,400], [630,630], c='black', lw=2.5)\n",
    "ax.set_xlim(x_lims)\n",
    "width_fact=(x_lims[1]-x_lims[0])/1050\n",
    "\n",
    "\n",
    "ax.spines['right'].set_visible(False)\n",
    "ax.spines['top'].set_visible(False)\n",
    "ax.spines['bottom'].set_visible(False)\n",
    "ax.spines['left'].set_visible(True)\n",
    "ax.yaxis.set_ticks_position('left')\n",
    "ax.xaxis.set_ticks_position('none')\n",
    "plt.xticks([])\n",
    "plt.yticks([215,405,630,890], ('L2/3', 'L4', 'L5', 'L6'), fontname = \"arial\")\n",
    "ax.yaxis.set_tick_params(direction='out')\n",
    "fig.set_figheight(1)\n",
    "fig.set_figwidth(width_fact)\n",
    "\n",
    "#plt.savefig('Penk_diverge.svg')\n"
   ]
  },
  {
   "cell_type": "code",
   "execution_count": 10,
   "metadata": {},
   "outputs": [
    {
     "data": {
      "image/png": "[encoded data removed]",
      "text/plain": [
       "<Figure size 822.857x72 with 1 Axes>"
      ]
     },
     "metadata": {
      "needs_background": "light"
     },
     "output_type": "display_data"
    }
   ],
   "source": [
    "\n",
    "df=Rorb\n",
    "df=df[(df.post_layer==2)]\n",
    "df=df.dropna(subset=['y_pia','toPia'])\n",
    "df=df.sort_values(by=['y_pia'])\n",
    "fig, ax = plt.subplots()\n",
    "grouped=df.groupby(['exp_id', 'MP_ID'], sort=False)\n",
    "x_offset=100\n",
    "count=0\n",
    "for name, group in grouped:\n",
    "    group=group.reset_index()\n",
    "    cnxs=group[group.cnx=='excitatory']\n",
    "    if len(cnxs.index)>1:\n",
    "        count+=1\n",
    "        min_x=min(cnxs.x_ap)\n",
    "        max_x=max(cnxs.x_ap)\n",
    "        pre_pia=np.mean(cnxs.y_pia)\n",
    "        if min_x<0:\n",
    "            x_offset+=abs(min_x)\n",
    "        for cnx in cnxs.index:\n",
    "            plt.plot([cnxs.x_ap[cnx]+x_offset, x_offset], [cnxs.toPia[cnx], pre_pia], lw=2, alpha=0.7, c='blue',zorder=0)\n",
    "        plt.scatter([x_offset],[pre_pia],marker='^', s=10,c='white',zorder=1)    \n",
    "   \n",
    "        if max_x>0:\n",
    "            x_offset=x_offset+100+max_x\n",
    "        else:\n",
    "            x_offset=x_offset+100\n",
    "            \n",
    "\n",
    "plt.ylim([1050,0])\n",
    "\n",
    "x_lims=ax.get_xlim()\n",
    "\n",
    "opto.layer_borders(ax, max_x=x_lims[1],lw=1,alpha=0.6, ls=(0,(2,1)))\n",
    "plt.plot([200,400], [630,630], c='black', lw=2.5)\n",
    "ax.set_xlim(x_lims)\n",
    "width_fact=(x_lims[1]-x_lims[0])/1050\n",
    "\n",
    "\n",
    "ax.spines['right'].set_visible(False)\n",
    "ax.spines['top'].set_visible(False)\n",
    "ax.spines['bottom'].set_visible(False)\n",
    "ax.spines['left'].set_visible(True)\n",
    "ax.yaxis.set_ticks_position('left')\n",
    "ax.xaxis.set_ticks_position('none')\n",
    "plt.xticks([])\n",
    "plt.yticks([215,405,630,890], ('L2/3', 'L4', 'L5', 'L6'), fontname = \"arial\")\n",
    "plt.plot([200,400], [630,630], c='black', lw=2.5)\n",
    "ax.yaxis.set_tick_params(direction='out')\n",
    "\n",
    "fig.set_figheight(1)\n",
    "fig.set_figwidth(width_fact)\n",
    "\n",
    "\n",
    "#plt.savefig('Rorb_diverge.svg')\n"
   ]
  },
  {
   "cell_type": "code",
   "execution_count": 11,
   "metadata": {},
   "outputs": [
    {
     "data": {
      "image/png": "[encoded data removed]",
      "text/plain": [
       "<Figure size 205.714x72 with 1 Axes>"
      ]
     },
     "metadata": {
      "needs_background": "light"
     },
     "output_type": "display_data"
    }
   ],
   "source": [
    "df=Tlx3Kv\n",
    "df=df[(df.post_layer==2)]\n",
    "df=df.dropna(subset=['y_pia','toPia'])\n",
    "df=df.sort_values(by=['y_pia'])\n",
    "fig, ax = plt.subplots()\n",
    "grouped=df.groupby(['exp_id', 'MP_ID'], sort=False)\n",
    "x_offset=100\n",
    "count=0\n",
    "\n",
    "for name, group in grouped:\n",
    "    group=group.reset_index()\n",
    "\n",
    "    cnxs=group[group.cnx=='excitatory']\n",
    "    if len(cnxs.index)>1:\n",
    "        count+=1\n",
    "        min_x=min(cnxs.x_ap)\n",
    "        max_x=max(cnxs.x_ap)\n",
    "        pre_pia=np.mean(cnxs.y_pia)\n",
    "        if min_x<0:\n",
    "            x_offset+=abs(min_x)\n",
    "        for cnx in cnxs.index:\n",
    "            plt.plot([cnxs.x_ap[cnx]+x_offset, x_offset], [cnxs.toPia[cnx], pre_pia], lw=2, alpha=0.7, c='orange',zorder=0)\n",
    "        plt.scatter([x_offset],[pre_pia],marker='^', s=10,c='white',zorder=1)    \n",
    "    \n",
    "        if max_x>0:\n",
    "            x_offset=x_offset+100+max_x\n",
    "        else:\n",
    "            x_offset=x_offset+100\n",
    "            \n",
    "        \n",
    "plt.ylim([1050,0])\n",
    "x_lims=ax.get_xlim()\n",
    "opto.layer_borders(ax, max_x=x_lims[1],lw=1,alpha=0.6, ls=(0,(2,1)))\n",
    "plt.plot([200,400], [880,880], c='black', lw=2.5)\n",
    "ax.set_xlim(x_lims)\n",
    "width_fact=(x_lims[1]-x_lims[0])/1050\n",
    "\n",
    "ax.spines['right'].set_visible(False)\n",
    "ax.spines['top'].set_visible(False)\n",
    "ax.spines['bottom'].set_visible(False)\n",
    "ax.spines['left'].set_visible(True)\n",
    "ax.yaxis.set_ticks_position('left')\n",
    "ax.yaxis.set_tick_params(direction='out')\n",
    "ax.xaxis.set_ticks_position('none')\n",
    "plt.xticks([])\n",
    "plt.yticks([215,405,630,890], ('L2/3', 'L4', 'L5', 'L6'), fontname = \"arial\")\n",
    "fig.set_figheight(1)\n",
    "fig.set_figwidth(width_fact)\n",
    "#plt.savefig('Tlx3_diverge.svg')\n"
   ]
  }
 ],
 "metadata": {
  "kernelspec": {
   "display_name": "Python 3 (ipykernel)",
   "language": "python",
   "name": "python3"
  },
  "language_info": {
   "codemirror_mode": {
    "name": "ipython",
    "version": 3
   },
   "file_extension": ".py",
   "mimetype": "text/x-python",
   "name": "python",
   "nbconvert_exporter": "python",
   "pygments_lexer": "ipython3",
   "version": "3.9.5"
  }
 },
 "nbformat": 4,
 "nbformat_minor": 2
}
